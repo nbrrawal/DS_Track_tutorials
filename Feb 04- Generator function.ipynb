{
 "cells": [
  {
   "cell_type": "code",
   "execution_count": 1,
   "id": "ac921e5c-4454-4156-a744-33cd3950de61",
   "metadata": {},
   "outputs": [
    {
     "data": {
      "text/plain": [
       "range(0, 10)"
      ]
     },
     "execution_count": 1,
     "metadata": {},
     "output_type": "execute_result"
    }
   ],
   "source": [
    "range(10)"
   ]
  },
  {
   "cell_type": "code",
   "execution_count": 3,
   "id": "8cc8b2fd-b66a-45b7-939d-75996d0f842c",
   "metadata": {},
   "outputs": [
    {
     "name": "stdout",
     "output_type": "stream",
     "text": [
      "0\n",
      "1\n",
      "2\n",
      "3\n",
      "4\n",
      "5\n",
      "6\n",
      "7\n",
      "8\n",
      "9\n"
     ]
    }
   ],
   "source": [
    "for i in range(10):\n",
    "    print (i)"
   ]
  },
  {
   "cell_type": "code",
   "execution_count": 4,
   "id": "b2e78f4b-4be0-4dde-90f1-c7a27cba2d98",
   "metadata": {},
   "outputs": [
    {
     "data": {
      "text/plain": [
       "<generator object test_fibonaci at 0x7f7f201a49e0>"
      ]
     },
     "execution_count": 4,
     "metadata": {},
     "output_type": "execute_result"
    }
   ],
   "source": [
    "def test_fibonaci(n):\n",
    "    a,b = 0,1\n",
    "    for i in range(n):\n",
    "        yield a\n",
    "        a,b=b,a+b\n",
    "        \n",
    "test_fibonaci(10)"
   ]
  },
  {
   "cell_type": "code",
   "execution_count": 5,
   "id": "1c118bf3-652f-4186-8179-b534ee7df19c",
   "metadata": {},
   "outputs": [
    {
     "name": "stdout",
     "output_type": "stream",
     "text": [
      "0\n",
      "1\n",
      "1\n",
      "2\n",
      "3\n",
      "5\n",
      "8\n",
      "13\n",
      "21\n",
      "34\n"
     ]
    }
   ],
   "source": [
    "for i in test_fibonaci(10):\n",
    "    print(i)"
   ]
  },
  {
   "cell_type": "code",
   "execution_count": 66,
   "id": "2c2e9799-84af-4286-9e87-0a8f0f0e8f34",
   "metadata": {},
   "outputs": [
    {
     "name": "stdout",
     "output_type": "stream",
     "text": [
      "2\n",
      "3\n",
      "5\n",
      "7\n",
      "11\n",
      "13\n",
      "17\n",
      "19\n",
      "23\n",
      "29\n",
      "31\n",
      "37\n",
      "41\n",
      "43\n",
      "47\n",
      "53\n",
      "59\n",
      "61\n",
      "67\n",
      "71\n"
     ]
    }
   ],
   "source": [
    "def primes():\n",
    "    yield 2\n",
    "    primes_so_far = [2]\n",
    "    n = 3\n",
    "    while n < 1000:\n",
    "        is_prime = True\n",
    "        for p in primes_so_far:\n",
    "            if p * p > n:\n",
    "                break\n",
    "            if n % p == 0:\n",
    "                is_prime = False\n",
    "                break\n",
    "        if is_prime:\n",
    "            primes_so_far.append(n)\n",
    "            yield n\n",
    "        n += 2\n",
    "\n",
    "primes_gen = primes()\n",
    "for i in range(20):\n",
    "    print(next(primes_gen))\n"
   ]
  },
  {
   "cell_type": "code",
   "execution_count": 59,
   "id": "602fa4ae-8b39-401d-a84e-3a9ee6d93a9c",
   "metadata": {},
   "outputs": [
    {
     "name": "stdout",
     "output_type": "stream",
     "text": [
      "2\n",
      "3\n",
      "5\n",
      "7\n",
      "11\n",
      "13\n",
      "17\n",
      "19\n",
      "23\n",
      "29\n"
     ]
    }
   ],
   "source": [
    "def generate_primes():\n",
    "    \"\"\"\n",
    "    Generator function that yields prime numbers.\n",
    "    \"\"\"\n",
    "    yield 2  # 2 is the first prime number\n",
    "    primes = [2]  # keep track of prime numbers generated so far\n",
    "    n = 3  # start checking for primes from 3\n",
    "\n",
    "    while True:\n",
    "        is_prime = True\n",
    "        # check if n is divisible by any prime number generated so far\n",
    "        for prime in primes:\n",
    "            if n % prime == 0:\n",
    "                is_prime = False\n",
    "                break\n",
    "\n",
    "        if is_prime:\n",
    "            yield n  # n is a prime number\n",
    "            primes.append(n)  # add n to the list of prime numbers\n",
    "\n",
    "        n += 2  # check only odd numbers for primality\n",
    "        \n",
    "# generate the first 10 prime numbers\n",
    "prime_generator = generate_primes()\n",
    "for i in range(0):\n",
    "    print(next(prime_generator))"
   ]
  },
  {
   "cell_type": "code",
   "execution_count": 16,
   "id": "d70404c8-9415-46f1-b161-264207ef5070",
   "metadata": {},
   "outputs": [
    {
     "ename": "TypeError",
     "evalue": "'str' object is not an iterator",
     "output_type": "error",
     "traceback": [
      "\u001b[0;31m---------------------------------------------------------------------------\u001b[0m",
      "\u001b[0;31mTypeError\u001b[0m                                 Traceback (most recent call last)",
      "Cell \u001b[0;32mIn[16], line 2\u001b[0m\n\u001b[1;32m      1\u001b[0m name \u001b[38;5;241m=\u001b[39m\u001b[38;5;124m\"\u001b[39m\u001b[38;5;124mabcde\u001b[39m\u001b[38;5;124m\"\u001b[39m\n\u001b[0;32m----> 2\u001b[0m \u001b[38;5;28;43mnext\u001b[39;49m\u001b[43m(\u001b[49m\u001b[43mname\u001b[49m\u001b[43m)\u001b[49m\n",
      "\u001b[0;31mTypeError\u001b[0m: 'str' object is not an iterator"
     ]
    }
   ],
   "source": [
    "name =\"abcde\"\n",
    "next(name)"
   ]
  },
  {
   "cell_type": "code",
   "execution_count": 19,
   "id": "6ad00442-e4ba-4dca-8b02-618b599d54f0",
   "metadata": {},
   "outputs": [],
   "source": [
    "t1 = iter(name)"
   ]
  },
  {
   "cell_type": "code",
   "execution_count": 20,
   "id": "1d803888-eb4f-4475-b776-55b3f32b273d",
   "metadata": {},
   "outputs": [
    {
     "data": {
      "text/plain": [
       "'a'"
      ]
     },
     "execution_count": 20,
     "metadata": {},
     "output_type": "execute_result"
    }
   ],
   "source": [
    "next(t1)"
   ]
  },
  {
   "cell_type": "code",
   "execution_count": 21,
   "id": "89d3455e-c5f4-4114-9043-55c39b5b840b",
   "metadata": {},
   "outputs": [
    {
     "data": {
      "text/plain": [
       "'b'"
      ]
     },
     "execution_count": 21,
     "metadata": {},
     "output_type": "execute_result"
    }
   ],
   "source": [
    "next(t1)"
   ]
  },
  {
   "cell_type": "code",
   "execution_count": 22,
   "id": "28854aac-e8b9-4052-9612-e4948b1c9aee",
   "metadata": {},
   "outputs": [
    {
     "data": {
      "text/plain": [
       "'c'"
      ]
     },
     "execution_count": 22,
     "metadata": {},
     "output_type": "execute_result"
    }
   ],
   "source": [
    "next(t1)"
   ]
  },
  {
   "cell_type": "code",
   "execution_count": 23,
   "id": "43086d7d-3be9-44b6-9ffd-e0a2d297abbf",
   "metadata": {},
   "outputs": [
    {
     "data": {
      "text/plain": [
       "'d'"
      ]
     },
     "execution_count": 23,
     "metadata": {},
     "output_type": "execute_result"
    }
   ],
   "source": [
    "next(t1)"
   ]
  },
  {
   "cell_type": "code",
   "execution_count": 24,
   "id": "747733c9-d8c9-44ce-b981-a855a1bba1c8",
   "metadata": {},
   "outputs": [
    {
     "data": {
      "text/plain": [
       "str"
      ]
     },
     "execution_count": 24,
     "metadata": {},
     "output_type": "execute_result"
    }
   ],
   "source": [
    "type(name)"
   ]
  },
  {
   "cell_type": "code",
   "execution_count": 25,
   "id": "abd19ba6-9fbf-4e89-899a-be08c62eb9cd",
   "metadata": {},
   "outputs": [
    {
     "data": {
      "text/plain": [
       "str_iterator"
      ]
     },
     "execution_count": 25,
     "metadata": {},
     "output_type": "execute_result"
    }
   ],
   "source": [
    "type(t1)"
   ]
  },
  {
   "cell_type": "code",
   "execution_count": 26,
   "id": "0c577d8c-4a8b-481d-a6df-fc55fe09f0ba",
   "metadata": {},
   "outputs": [
    {
     "ename": "TypeError",
     "evalue": "'int' object is not iterable",
     "output_type": "error",
     "traceback": [
      "\u001b[0;31m---------------------------------------------------------------------------\u001b[0m",
      "\u001b[0;31mTypeError\u001b[0m                                 Traceback (most recent call last)",
      "Cell \u001b[0;32mIn[26], line 1\u001b[0m\n\u001b[0;32m----> 1\u001b[0m \u001b[38;5;28;43miter\u001b[39;49m\u001b[43m(\u001b[49m\u001b[38;5;241;43m40\u001b[39;49m\u001b[43m)\u001b[49m\n",
      "\u001b[0;31mTypeError\u001b[0m: 'int' object is not iterable"
     ]
    }
   ],
   "source": [
    "iter(40)"
   ]
  },
  {
   "cell_type": "code",
   "execution_count": 39,
   "id": "070f8647-7d75-4cf3-ac34-3fa4c9405984",
   "metadata": {},
   "outputs": [],
   "source": []
  },
  {
   "cell_type": "code",
   "execution_count": 57,
   "id": "6832d942-8607-40c2-a947-beddb5c5de86",
   "metadata": {},
   "outputs": [
    {
     "name": "stdout",
     "output_type": "stream",
     "text": [
      "<generator object isprime at 0x7f7eff779310>\n",
      "<generator object isprime at 0x7f7eff779380>\n",
      "<generator object isprime at 0x7f7eff779310>\n",
      "<generator object isprime at 0x7f7eff779380>\n",
      "<generator object isprime at 0x7f7eff779310>\n",
      "<generator object isprime at 0x7f7eff779380>\n",
      "<generator object isprime at 0x7f7eff779310>\n",
      "<generator object isprime at 0x7f7eff779380>\n",
      "<generator object isprime at 0x7f7eff779310>\n"
     ]
    }
   ],
   "source": [
    "def isprime(n):\n",
    "    flag = 0\n",
    "    for x in range(2,n):\n",
    "        if n%x == 0:\n",
    "            yield x\n",
    "\n",
    "for i in range(1,10):\n",
    "        t =isprime(i)\n",
    "        print(t)"
   ]
  },
  {
   "cell_type": "code",
   "execution_count": null,
   "id": "89bd4851-2a2e-4ed1-ae3c-cf764f54cb63",
   "metadata": {},
   "outputs": [],
   "source": []
  }
 ],
 "metadata": {
  "kernelspec": {
   "display_name": "Python 3 (ipykernel)",
   "language": "python",
   "name": "python3"
  },
  "language_info": {
   "codemirror_mode": {
    "name": "ipython",
    "version": 3
   },
   "file_extension": ".py",
   "mimetype": "text/x-python",
   "name": "python",
   "nbconvert_exporter": "python",
   "pygments_lexer": "ipython3",
   "version": "3.10.8"
  }
 },
 "nbformat": 4,
 "nbformat_minor": 5
}
