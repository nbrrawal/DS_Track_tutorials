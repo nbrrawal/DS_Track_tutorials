{
 "cells": [
  {
   "cell_type": "markdown",
   "id": "d73e8837-dcd1-4a39-94ed-dc95801092c8",
   "metadata": {},
   "source": [
    "## OOPS Concepts"
   ]
  },
  {
   "cell_type": "markdown",
   "id": "f9c03909-2fa4-48ec-ab1f-76ae44dd50ea",
   "metadata": {},
   "source": [
    "Q1. Which function is used to open a file? What are the different modes of opening a file? Explain each mode\n",
    "of file opening.\n"
   ]
  },
  {
   "cell_type": "markdown",
   "id": "8a80f890-7e35-4c82-a1cb-ad3209cfc19e",
   "metadata": {},
   "source": [
    "Q2. Why close() function is used? Why is it important to close a file?\n"
   ]
  },
  {
   "cell_type": "markdown",
   "id": "0079f0c1-d1d1-4e0d-be99-4a5e1afabaaf",
   "metadata": {},
   "source": [
    "Q3. Write a python program to create a text file. Write ‘I want to become a Data Scientist’ in that file. Then\n",
    "close the file. Open this file and read the content of the file.\n"
   ]
  },
  {
   "cell_type": "markdown",
   "id": "47943270-6674-49c5-9aed-0382164b7951",
   "metadata": {},
   "source": [
    "Q4. Explain the following with python code: read(), readline() and readlines().\n"
   ]
  },
  {
   "cell_type": "markdown",
   "id": "a5391013-952d-411d-84d8-cc11503bd181",
   "metadata": {},
   "source": [
    "Q5. Explain why with statement is used with open(). What is the advantage of using with statement and\n",
    "open() together?\n"
   ]
  },
  {
   "cell_type": "markdown",
   "id": "54ff9078-4f3d-4ff3-8630-bdeff025cff0",
   "metadata": {},
   "source": [
    "Q6. Explain the write() and writelines() functions. Give a suitable example"
   ]
  },
  {
   "cell_type": "code",
   "execution_count": null,
   "id": "c24ad8c8-925f-43f4-8bde-277a8bfb3994",
   "metadata": {},
   "outputs": [],
   "source": []
  },
  {
   "cell_type": "code",
   "execution_count": null,
   "id": "08a2e9af-44c9-46c4-af13-bf6ec75447ae",
   "metadata": {},
   "outputs": [],
   "source": []
  },
  {
   "cell_type": "code",
   "execution_count": null,
   "id": "230bd358-b5d7-4a09-a734-abcc0358e87a",
   "metadata": {},
   "outputs": [],
   "source": []
  },
  {
   "cell_type": "code",
   "execution_count": null,
   "id": "d4f4e704-99e4-414f-84c5-f621dd429bde",
   "metadata": {},
   "outputs": [],
   "source": []
  },
  {
   "cell_type": "code",
   "execution_count": null,
   "id": "1a0dd513-416c-4f1a-bd3f-886b7cee265b",
   "metadata": {},
   "outputs": [],
   "source": []
  },
  {
   "cell_type": "code",
   "execution_count": null,
   "id": "3c6dd7f0-2e22-436c-85a7-f4dc953ce1e9",
   "metadata": {},
   "outputs": [],
   "source": []
  },
  {
   "cell_type": "code",
   "execution_count": null,
   "id": "50f88874-6750-4f96-b5de-74257959ddb4",
   "metadata": {},
   "outputs": [],
   "source": []
  },
  {
   "cell_type": "code",
   "execution_count": null,
   "id": "ee802fc6-7264-490d-8021-acbb777e03c7",
   "metadata": {},
   "outputs": [],
   "source": []
  },
  {
   "cell_type": "code",
   "execution_count": null,
   "id": "25d0526e-5d2f-4274-a0a2-da511f9a880e",
   "metadata": {},
   "outputs": [],
   "source": []
  },
  {
   "cell_type": "code",
   "execution_count": null,
   "id": "d338a1a9-8608-49bd-a615-c9a36a5f4bca",
   "metadata": {},
   "outputs": [],
   "source": []
  },
  {
   "cell_type": "code",
   "execution_count": null,
   "id": "9cfb17ac-6082-4e1e-a8c2-79aba9861b0b",
   "metadata": {},
   "outputs": [],
   "source": []
  },
  {
   "cell_type": "code",
   "execution_count": null,
   "id": "62d68200-542a-4d7c-806d-ab9b4d54d156",
   "metadata": {},
   "outputs": [],
   "source": []
  },
  {
   "cell_type": "code",
   "execution_count": null,
   "id": "7c624e67-b0ed-4c7c-b349-22d20b50a586",
   "metadata": {},
   "outputs": [],
   "source": []
  },
  {
   "cell_type": "code",
   "execution_count": null,
   "id": "58594490-eb1a-4df1-a7c5-c497b91a995d",
   "metadata": {},
   "outputs": [],
   "source": []
  },
  {
   "cell_type": "code",
   "execution_count": null,
   "id": "de1c69d9-85d9-4a29-a1ed-f618fcc2c3f8",
   "metadata": {},
   "outputs": [],
   "source": []
  },
  {
   "cell_type": "code",
   "execution_count": null,
   "id": "7bc41cca-0102-4dbf-bf6e-29187b418840",
   "metadata": {},
   "outputs": [],
   "source": []
  }
 ],
 "metadata": {
  "kernelspec": {
   "display_name": "Python 3 (ipykernel)",
   "language": "python",
   "name": "python3"
  },
  "language_info": {
   "codemirror_mode": {
    "name": "ipython",
    "version": 3
   },
   "file_extension": ".py",
   "mimetype": "text/x-python",
   "name": "python",
   "nbconvert_exporter": "python",
   "pygments_lexer": "ipython3",
   "version": "3.10.8"
  }
 },
 "nbformat": 4,
 "nbformat_minor": 5
}
