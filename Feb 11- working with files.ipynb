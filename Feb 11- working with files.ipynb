{
 "cells": [
  {
   "cell_type": "markdown",
   "id": "4662cc98-a1dc-42b2-9bf1-9881c9e763ae",
   "metadata": {},
   "source": [
    "### working with files "
   ]
  },
  {
   "cell_type": "code",
   "execution_count": 1,
   "id": "08a2e9af-44c9-46c4-af13-bf6ec75447ae",
   "metadata": {},
   "outputs": [],
   "source": [
    "f=open(\"test.txt\",'w')"
   ]
  },
  {
   "cell_type": "code",
   "execution_count": 2,
   "id": "230bd358-b5d7-4a09-a734-abcc0358e87a",
   "metadata": {},
   "outputs": [
    {
     "data": {
      "text/plain": [
       "'/home/jovyan/work'"
      ]
     },
     "execution_count": 2,
     "metadata": {},
     "output_type": "execute_result"
    }
   ],
   "source": [
    "pwd"
   ]
  },
  {
   "cell_type": "code",
   "execution_count": 3,
   "id": "d4f4e704-99e4-414f-84c5-f621dd429bde",
   "metadata": {},
   "outputs": [
    {
     "name": "stdout",
     "output_type": "stream",
     "text": [
      "'Feb 01 -Live Class Live Class dict loop.ipynb'\n",
      "'Feb 02 -Live Class for loop practice.ipynb'\n",
      "'Feb 02 -Python assignment loop functions .ipynb'\n",
      "'Feb 03 -Live class comprehension.ipynb'\n",
      "'Feb 03 -Live class functions.ipynb'\n",
      "'Feb 03 -Live class while loops.ipynb'\n",
      "'Feb 03 -loops .ipynb'\n",
      "'Feb 04- assignment.ipynb'\n",
      "'Feb 04- Generator function.ipynb'\n",
      "'Feb 04-Lambda function.ipynb'\n",
      "'Feb 04-Map reduce filter.ipynb'\n",
      "'Feb 05 -OOPS Assignment.ipynb'\n",
      "'Feb 05 -OOPS .ipynb'\n",
      "'Feb 06 - Assessment Q.ipynb'\n",
      "'Feb 07 - Assessment Q.ipynb'\n",
      "'Feb 08 - OOPS Assignment.ipynb'\n",
      "'Feb 08 - Polymorphism.ipynb'\n",
      "'Feb 09-OOPS Task.ipynb'\n",
      "'Feb 10 - OOPS Assignment.ipynb'\n",
      "'Feb 10 - OOPS Concepts-Copy1.ipynb'\n",
      "'Feb 11- working with files.ipynb'\n",
      "'Jan 29 - Assignment.ipynb'\n",
      "'Jan 30 - Assignment.ipynb'\n",
      "' Jan 30 -Live Class python basics.ipynb'\n",
      "' Jan 31 -Live Class list tuple and set .ipynb'\n",
      " README.md\n",
      " test.txt\n",
      " Untitled1.ipynb\n"
     ]
    }
   ],
   "source": [
    "ls"
   ]
  },
  {
   "cell_type": "code",
   "execution_count": 4,
   "id": "1a0dd513-416c-4f1a-bd3f-886b7cee265b",
   "metadata": {},
   "outputs": [
    {
     "data": {
      "text/plain": [
       "19"
      ]
     },
     "execution_count": 4,
     "metadata": {},
     "output_type": "execute_result"
    }
   ],
   "source": [
    "f.write(\" this is test write\")"
   ]
  },
  {
   "cell_type": "code",
   "execution_count": 8,
   "id": "3c6dd7f0-2e22-436c-85a7-f4dc953ce1e9",
   "metadata": {},
   "outputs": [],
   "source": [
    "f.close()"
   ]
  },
  {
   "cell_type": "code",
   "execution_count": 13,
   "id": "50f88874-6750-4f96-b5de-74257959ddb4",
   "metadata": {},
   "outputs": [],
   "source": [
    "f =open(\"test.txt\", 'w')"
   ]
  },
  {
   "cell_type": "code",
   "execution_count": 14,
   "id": "ee802fc6-7264-490d-8021-acbb777e03c7",
   "metadata": {},
   "outputs": [
    {
     "data": {
      "text/plain": [
       "20"
      ]
     },
     "execution_count": 14,
     "metadata": {},
     "output_type": "execute_result"
    }
   ],
   "source": [
    "f.write(\"this is the new test\")"
   ]
  },
  {
   "cell_type": "code",
   "execution_count": 16,
   "id": "25d0526e-5d2f-4274-a0a2-da511f9a880e",
   "metadata": {},
   "outputs": [],
   "source": [
    "f.close()"
   ]
  },
  {
   "cell_type": "code",
   "execution_count": 18,
   "id": "d338a1a9-8608-49bd-a615-c9a36a5f4bca",
   "metadata": {},
   "outputs": [],
   "source": [
    "f=open(\"test.txt\", 'a')\n",
    "f.write(\"-- this is additional text --\")\n",
    "f.close()"
   ]
  },
  {
   "cell_type": "code",
   "execution_count": 19,
   "id": "9cfb17ac-6082-4e1e-a8c2-79aba9861b0b",
   "metadata": {},
   "outputs": [
    {
     "data": {
      "text/plain": [
       "'this is the new test-- this is additional text --'"
      ]
     },
     "execution_count": 19,
     "metadata": {},
     "output_type": "execute_result"
    }
   ],
   "source": [
    "f=open(\"test.txt\",'r')\n",
    "f.read()"
   ]
  },
  {
   "cell_type": "code",
   "execution_count": 20,
   "id": "62d68200-542a-4d7c-806d-ab9b4d54d156",
   "metadata": {},
   "outputs": [
    {
     "data": {
      "text/plain": [
       "''"
      ]
     },
     "execution_count": 20,
     "metadata": {},
     "output_type": "execute_result"
    }
   ],
   "source": [
    "f.readline()"
   ]
  },
  {
   "cell_type": "code",
   "execution_count": 21,
   "id": "7c624e67-b0ed-4c7c-b349-22d20b50a586",
   "metadata": {},
   "outputs": [
    {
     "data": {
      "text/plain": [
       "0"
      ]
     },
     "execution_count": 21,
     "metadata": {},
     "output_type": "execute_result"
    }
   ],
   "source": [
    "f.seek(0)"
   ]
  },
  {
   "cell_type": "code",
   "execution_count": 22,
   "id": "58594490-eb1a-4df1-a7c5-c497b91a995d",
   "metadata": {},
   "outputs": [
    {
     "data": {
      "text/plain": [
       "'this is the new test-- this is additional text --'"
      ]
     },
     "execution_count": 22,
     "metadata": {},
     "output_type": "execute_result"
    }
   ],
   "source": [
    "f.read()"
   ]
  },
  {
   "cell_type": "code",
   "execution_count": 23,
   "id": "de1c69d9-85d9-4a29-a1ed-f618fcc2c3f8",
   "metadata": {},
   "outputs": [
    {
     "data": {
      "text/plain": [
       "5"
      ]
     },
     "execution_count": 23,
     "metadata": {},
     "output_type": "execute_result"
    }
   ],
   "source": [
    "f.seek(5)"
   ]
  },
  {
   "cell_type": "code",
   "execution_count": 24,
   "id": "7bc41cca-0102-4dbf-bf6e-29187b418840",
   "metadata": {},
   "outputs": [
    {
     "data": {
      "text/plain": [
       "'is the new test-- this is additional text --'"
      ]
     },
     "execution_count": 24,
     "metadata": {},
     "output_type": "execute_result"
    }
   ],
   "source": [
    "f.read()"
   ]
  },
  {
   "cell_type": "code",
   "execution_count": 25,
   "id": "f01683b8-20bf-4f06-978f-251659b0b445",
   "metadata": {},
   "outputs": [
    {
     "data": {
      "text/plain": [
       "''"
      ]
     },
     "execution_count": 25,
     "metadata": {},
     "output_type": "execute_result"
    }
   ],
   "source": [
    "f.readline()"
   ]
  },
  {
   "cell_type": "code",
   "execution_count": 26,
   "id": "27f75ae0-d127-4232-84fd-b5baee28217b",
   "metadata": {},
   "outputs": [
    {
     "data": {
      "text/plain": [
       "0"
      ]
     },
     "execution_count": 26,
     "metadata": {},
     "output_type": "execute_result"
    }
   ],
   "source": [
    "f.seek(0)"
   ]
  },
  {
   "cell_type": "code",
   "execution_count": 27,
   "id": "b7606b35-6631-43a0-bd11-7787919bd103",
   "metadata": {},
   "outputs": [
    {
     "data": {
      "text/plain": [
       "'this is the new test-- this is additional text --'"
      ]
     },
     "execution_count": 27,
     "metadata": {},
     "output_type": "execute_result"
    }
   ],
   "source": [
    "f.readline()"
   ]
  },
  {
   "cell_type": "code",
   "execution_count": 28,
   "id": "ced487ca-1063-42a5-ad05-5363d64c8845",
   "metadata": {},
   "outputs": [
    {
     "name": "stdout",
     "output_type": "stream",
     "text": [
      "this is the new test-- this is additional text --\n"
     ]
    }
   ],
   "source": [
    "f.seek(0)\n",
    "for i in f:\n",
    "    print(i)"
   ]
  },
  {
   "cell_type": "code",
   "execution_count": 29,
   "id": "a5c00618-ca9e-4f47-99cf-4a19f71bd77a",
   "metadata": {},
   "outputs": [
    {
     "data": {
      "text/plain": [
       "49"
      ]
     },
     "execution_count": 29,
     "metadata": {},
     "output_type": "execute_result"
    }
   ],
   "source": [
    "import os \n",
    "os.path.getsize(\"test.txt\")\n"
   ]
  },
  {
   "cell_type": "code",
   "execution_count": 30,
   "id": "6eb6a276-9bf0-4b22-922b-7784d3a0af47",
   "metadata": {},
   "outputs": [],
   "source": [
    "os.remove(\"test.txt\")"
   ]
  },
  {
   "cell_type": "code",
   "execution_count": 31,
   "id": "917b6fc3-8fa8-4bf0-9df0-ffd7efa95bb6",
   "metadata": {},
   "outputs": [
    {
     "data": {
      "text/plain": [
       "219"
      ]
     },
     "execution_count": 31,
     "metadata": {},
     "output_type": "execute_result"
    }
   ],
   "source": [
    "f=open(\"test.txt\", \"w\")\n",
    "f.write(\"QuantEco Research estimates the stock of ₹2,000 notes to be around ₹3.7 lakh cr; if 30% of erstwhile hoarded cash gets back to circulation, bank coffers and money market liquidity could get a boost of up to ₹1.1 lakh cr\")"
   ]
  },
  {
   "cell_type": "code",
   "execution_count": 34,
   "id": "299cf5e4-835e-4574-8e29-f8fb3c71a0ca",
   "metadata": {},
   "outputs": [
    {
     "data": {
      "text/plain": [
       "'QuantEco Research estimates the stock of ₹2,000 notes to be around ₹3.7 lakh cr; if 30% of erstwhile hoarded cash gets back to circulation, bank coffers and money market liquidity could get a boost of up to ₹1.1 lakh cr'"
      ]
     },
     "execution_count": 34,
     "metadata": {},
     "output_type": "execute_result"
    }
   ],
   "source": [
    "f.close()\n",
    "f=open(\"test.txt\",\"r\")\n",
    "f.read()"
   ]
  },
  {
   "cell_type": "code",
   "execution_count": 36,
   "id": "93ca6967-fb9a-42f6-9c38-7a1f642b0da1",
   "metadata": {},
   "outputs": [],
   "source": [
    "os.rename(\"test.txt\",\"test1.txt\")"
   ]
  },
  {
   "cell_type": "code",
   "execution_count": 37,
   "id": "454747d6-2dd0-4ee7-a932-bebd19742246",
   "metadata": {},
   "outputs": [
    {
     "data": {
      "text/plain": [
       "'test2.txt'"
      ]
     },
     "execution_count": 37,
     "metadata": {},
     "output_type": "execute_result"
    }
   ],
   "source": [
    "import shutil\n",
    "shutil.copy(\"test1.txt\",\"test2.txt\")"
   ]
  },
  {
   "cell_type": "code",
   "execution_count": 40,
   "id": "046dcbf6-0348-4692-bccb-058e40038c8e",
   "metadata": {},
   "outputs": [
    {
     "name": "stdout",
     "output_type": "stream",
     "text": [
      "QuantEco Research estimates the stock of ₹2,000 notes to be around ₹3.7 lakh cr; if 30% of erstwhile hoarded cash gets back to circulation, bank coffers and money market liquidity could get a boost of up to ₹1.1 lakh cr\n"
     ]
    }
   ],
   "source": [
    "with open(\"test1.txt\", \"r\") as f:\n",
    "    print(f.read())"
   ]
  },
  {
   "cell_type": "markdown",
   "id": "ad5f9065-e380-4c3e-a58f-67c6e002ea23",
   "metadata": {},
   "source": [
    "### read and writing files "
   ]
  },
  {
   "cell_type": "code",
   "execution_count": 1,
   "id": "32fc3904-62f9-479a-b1dd-650b14a12072",
   "metadata": {},
   "outputs": [],
   "source": [
    "data = {\"name\":\"abc\", \"mail\":\"abc@xyz.com\", \"id\":123, \"subject\":[\"a\",\"b\",\"c\",\"d\",\"e\"]}\n",
    "\n",
    "        "
   ]
  },
  {
   "cell_type": "code",
   "execution_count": 4,
   "id": "3d2591bb-a262-42d0-96c1-cec6e0850604",
   "metadata": {},
   "outputs": [],
   "source": [
    "import json \n",
    "with open(\"data.json\", \"w\") as f:\n",
    "    json.dump(data, f)\n"
   ]
  },
  {
   "cell_type": "code",
   "execution_count": 6,
   "id": "80d301f4-d188-41e0-aca8-e8571124707e",
   "metadata": {},
   "outputs": [],
   "source": [
    "with open(\"data.json\", \"r\") as f: \n",
    "    data1= json.load(f)"
   ]
  },
  {
   "cell_type": "code",
   "execution_count": 9,
   "id": "bf75b6eb-5604-4592-935c-20f475dce463",
   "metadata": {},
   "outputs": [
    {
     "data": {
      "text/plain": [
       "'b'"
      ]
     },
     "execution_count": 9,
     "metadata": {},
     "output_type": "execute_result"
    }
   ],
   "source": [
    "data1[\"subject\"][1]"
   ]
  },
  {
   "cell_type": "code",
   "execution_count": 22,
   "id": "ba9d400f-99a4-470b-885e-42aac083e589",
   "metadata": {},
   "outputs": [
    {
     "data": {
      "text/plain": [
       "[['name', 'mail', 'id'], ['a', 'a@gmail.com', 1], ['b', 'b@gmail.com', 2]]"
      ]
     },
     "execution_count": 22,
     "metadata": {},
     "output_type": "execute_result"
    }
   ],
   "source": [
    "import csv \n",
    "\n",
    "data=[[\"name\",\"mail\",\"id\"], \n",
    "      [\"a\",\"a@gmail.com\",1], \n",
    "     [\"b\",\"b@gmail.com\",2]]\n",
    "data"
   ]
  },
  {
   "cell_type": "code",
   "execution_count": 24,
   "id": "0f35fe18-8fa1-4aa8-8c78-9efdddb2add0",
   "metadata": {},
   "outputs": [],
   "source": [
    "with open(\"test.csv\",\"w\") as f: \n",
    "    writer  = csv.writer(f)\n",
    "    for i in data:\n",
    "        writer.writerow(i)\n",
    " "
   ]
  },
  {
   "cell_type": "code",
   "execution_count": 25,
   "id": "b1e671b5-2305-46d8-a165-314b24103820",
   "metadata": {},
   "outputs": [
    {
     "name": "stdout",
     "output_type": "stream",
     "text": [
      "['name', 'mail', 'id']\n",
      "['a', 'a@gmail.com', '1']\n",
      "['b', 'b@gmail.com', '2']\n"
     ]
    }
   ],
   "source": [
    "with open(\"test.csv\",\"r\") as f:\n",
    "    read_data = csv.reader(f)\n",
    "    \n",
    "    for i in read_data:\n",
    "        print(i)"
   ]
  },
  {
   "cell_type": "code",
   "execution_count": 26,
   "id": "28a0981d-026f-4a67-9c78-a2fc87ec9159",
   "metadata": {},
   "outputs": [],
   "source": [
    "with open(\"test.bin\",\"wb\") as f:\n",
    "    f.write(b\"\\x01\\x02\")"
   ]
  },
  {
   "cell_type": "code",
   "execution_count": 28,
   "id": "874480e3-b7ea-45de-9e71-f61987703fe6",
   "metadata": {},
   "outputs": [
    {
     "name": "stdout",
     "output_type": "stream",
     "text": [
      "b'\\x01\\x02'\n"
     ]
    }
   ],
   "source": [
    "with open(\"test.bin\", \"rb\") as f:\n",
    "    print(f.read()) "
   ]
  },
  {
   "cell_type": "code",
   "execution_count": null,
   "id": "068741d2-5afb-4a78-bae4-36638c763de9",
   "metadata": {},
   "outputs": [],
   "source": []
  }
 ],
 "metadata": {
  "kernelspec": {
   "display_name": "Python 3 (ipykernel)",
   "language": "python",
   "name": "python3"
  },
  "language_info": {
   "codemirror_mode": {
    "name": "ipython",
    "version": 3
   },
   "file_extension": ".py",
   "mimetype": "text/x-python",
   "name": "python",
   "nbconvert_exporter": "python",
   "pygments_lexer": "ipython3",
   "version": "3.10.8"
  }
 },
 "nbformat": 4,
 "nbformat_minor": 5
}
