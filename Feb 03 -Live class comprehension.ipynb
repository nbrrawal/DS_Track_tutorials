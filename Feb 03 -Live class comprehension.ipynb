{
 "cells": [
  {
   "cell_type": "markdown",
   "id": "b7948117-b762-4f52-87b3-e9e842676c9c",
   "metadata": {},
   "source": [
    "#list comprehension"
   ]
  },
  {
   "cell_type": "code",
   "execution_count": 3,
   "id": "2d8c8b2b-8c06-4fc4-bf72-d57b5a6839d1",
   "metadata": {},
   "outputs": [],
   "source": [
    "l=[1,3,4,5,6,7]"
   ]
  },
  {
   "cell_type": "code",
   "execution_count": 4,
   "id": "0a3c14ce-b745-4c05-82f1-1f3b7334fd05",
   "metadata": {},
   "outputs": [
    {
     "data": {
      "text/plain": [
       "[1, 9, 16, 25, 36, 49]"
      ]
     },
     "execution_count": 4,
     "metadata": {},
     "output_type": "execute_result"
    }
   ],
   "source": [
    "[i**2 for i in l]"
   ]
  },
  {
   "cell_type": "code",
   "execution_count": 7,
   "id": "49d1279b-35f2-43e8-ab6a-6f367835b97a",
   "metadata": {},
   "outputs": [
    {
     "data": {
      "text/plain": [
       "[4, 6]"
      ]
     },
     "execution_count": 7,
     "metadata": {},
     "output_type": "execute_result"
    }
   ],
   "source": [
    "[i for i in l if i % 2 ==0]"
   ]
  },
  {
   "cell_type": "code",
   "execution_count": 10,
   "id": "23fb1b6d-047d-46bf-b981-ff20cdcd6fc0",
   "metadata": {},
   "outputs": [
    {
     "data": {
      "text/plain": [
       "['A', 'B', 'C', 'E', 'F']"
      ]
     },
     "execution_count": 10,
     "metadata": {},
     "output_type": "execute_result"
    }
   ],
   "source": [
    "l1=[\"a\", \"b\",\"c\",\"e\",\"f\"]\n",
    "\n",
    "[i.upper() for i in l1]  "
   ]
  },
  {
   "cell_type": "markdown",
   "id": "190fb286-ab8a-41f3-bf2a-72eda5c9786c",
   "metadata": {},
   "source": [
    "#tuple comprehension"
   ]
  },
  {
   "cell_type": "code",
   "execution_count": 13,
   "id": "be9431f8-4da9-4f2f-8644-2969b2ce7f81",
   "metadata": {},
   "outputs": [
    {
     "data": {
      "text/plain": [
       "[2, 4, 6, 8, 10]"
      ]
     },
     "execution_count": 13,
     "metadata": {},
     "output_type": "execute_result"
    }
   ],
   "source": [
    "t=(1,2,3,4,5)\n",
    "[ i*2 for i in t]"
   ]
  },
  {
   "cell_type": "code",
   "execution_count": 15,
   "id": "9be5ad56-ffcd-481e-a31c-8e70d02009ba",
   "metadata": {},
   "outputs": [
    {
     "data": {
      "text/plain": [
       "{'a': 'apple', 'b': 'bat', 'c': 'cat'}"
      ]
     },
     "execution_count": 15,
     "metadata": {},
     "output_type": "execute_result"
    }
   ],
   "source": [
    "d={\"a\":\"apple\", \"b\":\"bat\", \"c\":\"cat\"}\n",
    "d"
   ]
  },
  {
   "cell_type": "code",
   "execution_count": 22,
   "id": "c51a5bf6-a276-4284-b872-5e561c8b011c",
   "metadata": {},
   "outputs": [
    {
     "data": {
      "text/plain": [
       "{'a': 'appleapple', 'b': 'batbat', 'c': 'catcat'}"
      ]
     },
     "execution_count": 22,
     "metadata": {},
     "output_type": "execute_result"
    }
   ],
   "source": [
    "{k:v*2 for k, v in  d.items()}"
   ]
  },
  {
   "cell_type": "code",
   "execution_count": 25,
   "id": "cd50d7ee-d076-40ba-b2ce-e0cc245788bc",
   "metadata": {},
   "outputs": [
    {
     "data": {
      "text/plain": [
       "{2: 'bat', 3: 'cat'}"
      ]
     },
     "execution_count": 25,
     "metadata": {},
     "output_type": "execute_result"
    }
   ],
   "source": [
    "d={1:\"apple\", 2:\"bat\", 3:\"cat\"}\n",
    "\n",
    "{k:v for k,v in d.items() if k>1}"
   ]
  },
  {
   "cell_type": "code",
   "execution_count": null,
   "id": "8275d27c-6856-4960-90ac-01a101a811b8",
   "metadata": {},
   "outputs": [],
   "source": []
  }
 ],
 "metadata": {
  "kernelspec": {
   "display_name": "Python 3 (ipykernel)",
   "language": "python",
   "name": "python3"
  },
  "language_info": {
   "codemirror_mode": {
    "name": "ipython",
    "version": 3
   },
   "file_extension": ".py",
   "mimetype": "text/x-python",
   "name": "python",
   "nbconvert_exporter": "python",
   "pygments_lexer": "ipython3",
   "version": "3.10.8"
  }
 },
 "nbformat": 4,
 "nbformat_minor": 5
}
