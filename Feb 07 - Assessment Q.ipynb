{
 "cells": [
  {
   "cell_type": "code",
   "execution_count": null,
   "id": "5e71bd8a-1317-4272-9fff-a2edd5baacec",
   "metadata": {},
   "outputs": [],
   "source": [
    " "
   ]
  },
  {
   "cell_type": "markdown",
   "id": "5459864e-a190-47c9-bfef-0fcf2a04bd6d",
   "metadata": {},
   "source": [
    "Q1. You are writing code for a company. The requirement of the company is that you create a python\n",
    "function that will check whether the password entered by the user is correct or not. The function should\n",
    "take the password as input and return the string “Valid Password” if the entered password follows the\n",
    "below-given password guidelines else it should return “Invalid Password”.\n",
    "Note: 1. The Password should contain at least two uppercase letters and at least two lowercase letters.\n",
    "2. The Password should contain at least a number and three special characters.\n",
    "3. The length of the password should be 10 characters long.\n"
   ]
  },
  {
   "cell_type": "code",
   "execution_count": 79,
   "id": "905f96c9-b1d9-4240-95da-0b8ea6c9a17c",
   "metadata": {},
   "outputs": [
    {
     "name": "stdout",
     "output_type": "stream",
     "text": [
      "Valid Password\n"
     ]
    }
   ],
   "source": [
    "def check_two_upper_lowercase(str_pass):\n",
    "    two_upper = 0\n",
    "    two_lower = 0\n",
    "    \n",
    "    lst_small_case=[*range(97,123, 1)]\n",
    "    lst_upper_case=[*range(65,91, 1)]\n",
    "    #print(lst_numbers, lst_small_case, lst_upper_case)\n",
    "    for i in str_pass:\n",
    "        if ord(i) in  lst_upper_case :\n",
    "            two_upper += 1\n",
    "    for i in str_pass:\n",
    "        if ord(i) in   lst_small_case :\n",
    "            two_lower += 1\n",
    "    if two_upper>=2 and  two_lower>=2  : \n",
    "        return True\n",
    "    else: \n",
    "        return False\n",
    "\n",
    "def check_one_number(str_pass):\n",
    "    is_number =  any(chr.isdigit() for chr in str_pass)\n",
    "    if is_number :\n",
    "        return True\n",
    "    else:\n",
    "        return False\n",
    "\n",
    "def check_three_special(str_pass):\n",
    "    three_count = 0 \n",
    "    lst_numbers=[*range(48,58, 1)]\n",
    "    lst_small_case=[*range(97,123, 1)]\n",
    "    lst_upper_case=[*range(65,91, 1)]\n",
    "    #print(lst_numbers, lst_small_case, lst_upper_case)\n",
    "    for i in str_pass:\n",
    "       \n",
    "        if ord(i) not in (lst_numbers+ lst_small_case+ lst_upper_case):\n",
    "            #print(i,\"not present \", ord(i), \" count -\",three_count) \n",
    "            three_count += 1\n",
    "    if three_count>=3 : \n",
    "        return True\n",
    "    else: \n",
    "        return False\n",
    "\n",
    "def check_pass_length(str_pass):\n",
    "    if len(str_pass)>=10:\n",
    "        return True\n",
    "    else:\n",
    "        return False\n",
    "\n",
    "def check_full_password(str_pass):\n",
    "    if check_two_upper_lowercase(str_pass) and check_one_number(str_pass) and check_three_special(str_pass) and check_pass_length(str_pass): \n",
    "        print(\"Valid Password\")\n",
    "    else: \n",
    "        print(\"InValid Password\")\n",
    "\n",
    "check_full_password(\"PAdd###dsfe1\")"
   ]
  },
  {
   "cell_type": "markdown",
   "id": "6f3e6de1-efea-4e6d-bc34-6b81c5bfea4f",
   "metadata": {},
   "source": [
    "Q2. Solve the below-given questions using at least one of the following:\n",
    "1. Lambda function\n",
    "2. Filter function\n",
    "3. map function\n",
    "4. List Comprehension\n"
   ]
  },
  {
   "cell_type": "code",
   "execution_count": 112,
   "id": "e7ffa2a4-4372-4860-8aea-c94bd563f271",
   "metadata": {},
   "outputs": [
    {
     "name": "stdout",
     "output_type": "stream",
     "text": [
      "the word contains A as first letter\n",
      "entered text is numeric\n",
      "0\n",
      "1\n",
      "4\n",
      "9\n",
      "16\n",
      "25\n",
      "36\n",
      "49\n",
      "64\n",
      "81\n",
      "100\n",
      "0\n",
      "1\n",
      "8\n",
      "27\n",
      "64\n",
      "125\n",
      "216\n",
      "343\n",
      "512\n",
      "729\n",
      "1000\n",
      "False\n",
      "[2, 4, 6, 8, 10]\n",
      "after sorting : [1, 2, 3, 4, 5, 6, 0, -5, -4, -3, -2, -1]\n"
     ]
    }
   ],
   "source": [
    "#1 Check if the string starts with a particular letterY\n",
    "string =\"Abcde\"\n",
    "\n",
    "if string[0]==\"A\":\n",
    "    print(\"the word contains A as first letter\" )\n",
    "    \n",
    "#2 Check if the string is numeric\n",
    "\n",
    "number = \"123213\"\n",
    "\n",
    "if number.isnumeric():\n",
    "    print(\"entered text is numeric\" )\n",
    "else: \n",
    "    print(\"entered text is not numeric\" )\n",
    "\n",
    "\n",
    "#B Sort a list of tuples having fruit names and their quantity. \n",
    "#[(\"mango\",99),(\"orange\",80), (\"grapes\", 1000)-\n",
    "sample = [(\"mango\",99),(\"orange\",80), (\"grapes\", 1000)]\n",
    "sorted(sample)\n",
    "\n",
    "#B Find the squares of numbers from 1 to 10Y\n",
    "x = lambda a : a **2\n",
    "for i in range(11):\n",
    "    print(x(i))\n",
    "#B Find the cube root of numbers from 1 to 10Y\n",
    "z = lambda a : a **3\n",
    "for i in range(11):\n",
    "    print(z(i))\n",
    "#B Check if a given number is evenY\n",
    "even_or_not = lambda a : (a %2 ==0)\n",
    "print(even_or_not(11))\n",
    "\n",
    "#B Filter odd numbers from the given list.\n",
    "lst_nums=[*range(1,11,1)]\n",
    "even = list(filter(lambda x: (x%2 == 0) , lst_nums))\n",
    "print(even)\n",
    "#[1,2,3,4,5,6,7,8,9,10-\n",
    "\n",
    "#B Sort a list of integers into positive and negative integers lists.\n",
    "lst_num2=[1,2,3,4,5,6,-1,-2,-3,-4,-5,0]\n",
    "sorted_lst = sorted(lst_num2, key = lambda i: 0 if i == 0 else -1 / i)\n",
    "# printing result\n",
    "print(\"after sorting : \" + str(sorted_lst))\n",
    "\n"
   ]
  },
  {
   "cell_type": "code",
   "execution_count": null,
   "id": "8c600d3e-6708-41d6-ad2f-276c0814eb43",
   "metadata": {},
   "outputs": [],
   "source": []
  },
  {
   "cell_type": "code",
   "execution_count": null,
   "id": "38dbd0a6-39cf-4663-8968-998eb90c45f1",
   "metadata": {},
   "outputs": [],
   "source": []
  }
 ],
 "metadata": {
  "kernelspec": {
   "display_name": "Python 3 (ipykernel)",
   "language": "python",
   "name": "python3"
  },
  "language_info": {
   "codemirror_mode": {
    "name": "ipython",
    "version": 3
   },
   "file_extension": ".py",
   "mimetype": "text/x-python",
   "name": "python",
   "nbconvert_exporter": "python",
   "pygments_lexer": "ipython3",
   "version": "3.10.8"
  }
 },
 "nbformat": 4,
 "nbformat_minor": 5
}
