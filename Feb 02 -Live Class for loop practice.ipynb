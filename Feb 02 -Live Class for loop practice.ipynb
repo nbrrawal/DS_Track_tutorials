{
 "cells": [
  {
   "cell_type": "code",
   "execution_count": 6,
   "id": "7d526600-b0e3-4636-9523-0f103ea98a5d",
   "metadata": {},
   "outputs": [
    {
     "name": "stdout",
     "output_type": "stream",
     "text": [
      "*********************************************************************************************************************************************************************\n"
     ]
    }
   ],
   "source": [
    "print(\"*\"*165)"
   ]
  },
  {
   "cell_type": "code",
   "execution_count": 9,
   "id": "e72fdf67-fbd9-4c18-bd6a-9169426ce2bc",
   "metadata": {},
   "outputs": [
    {
     "name": "stdout",
     "output_type": "stream",
     "text": [
      "1 <class 'list'>\n",
      "2 <class 'list'>\n",
      "3 <class 'list'>\n",
      "4 <class 'list'>\n",
      "5 <class 'list'>\n"
     ]
    }
   ],
   "source": [
    "i=[1,2,3,4,5]\n",
    "\n",
    "for l in i:\n",
    "    print(l, type(i))"
   ]
  },
  {
   "cell_type": "code",
   "execution_count": 13,
   "id": "0eac9fee-c467-4b71-a74f-622658ac858a",
   "metadata": {},
   "outputs": [
    {
     "name": "stdout",
     "output_type": "stream",
     "text": [
      "a - Upper case - A\n",
      "b - Upper case - B\n",
      "c - Upper case - C\n",
      "d - Upper case - D\n",
      "e - Upper case - E\n"
     ]
    }
   ],
   "source": [
    "l1=[\"a\",\"b\",\"c\",\"d\",\"e\"]\n",
    "for i in l1: \n",
    "    print(i, \"- Upper case -\", i.upper())"
   ]
  },
  {
   "cell_type": "code",
   "execution_count": 17,
   "id": "453671a3-4bde-445a-ada1-762e81e9a04d",
   "metadata": {},
   "outputs": [
    {
     "name": "stdout",
     "output_type": "stream",
     "text": [
      "a\n",
      "b\n",
      "c\n",
      "d\n",
      "e\n",
      "if for loop is able to complete.\n"
     ]
    }
   ],
   "source": [
    "for i in l1:\n",
    "    print(i)\n",
    "else: \n",
    "    print(\"if for loop is able to complete.\")"
   ]
  },
  {
   "cell_type": "code",
   "execution_count": 18,
   "id": "4534f67c-548e-42e4-b508-205bbb42ee2a",
   "metadata": {},
   "outputs": [
    {
     "name": "stdout",
     "output_type": "stream",
     "text": [
      "a\n",
      "b\n"
     ]
    }
   ],
   "source": [
    "for i in l1: \n",
    "    if i == \"c\" :\n",
    "        break\n",
    "    print(i)"
   ]
  },
  {
   "cell_type": "code",
   "execution_count": 20,
   "id": "f5a358d1-807f-4b4b-af7c-68feb6ecffc6",
   "metadata": {},
   "outputs": [
    {
     "name": "stdout",
     "output_type": "stream",
     "text": [
      "a\n",
      ".. skipping b..\n",
      "c\n",
      "d\n",
      "e\n"
     ]
    }
   ],
   "source": [
    "for i in l1: \n",
    "    if i ==\"b\":\n",
    "        print(\".. skipping b..\")\n",
    "        continue\n",
    "    print(i)"
   ]
  },
  {
   "cell_type": "code",
   "execution_count": 22,
   "id": "3ae39bec-f695-464b-8480-7a8754c9172e",
   "metadata": {},
   "outputs": [
    {
     "name": "stdout",
     "output_type": "stream",
     "text": [
      "a\n",
      "c\n",
      "d\n",
      "e\n",
      "this is for else statement\n"
     ]
    }
   ],
   "source": [
    "for i in l1:\n",
    "    if i ==\"b\":\n",
    "        continue\n",
    "    print(i)\n",
    "else:\n",
    "    print(\"this is for else statement\")"
   ]
  },
  {
   "cell_type": "code",
   "execution_count": 26,
   "id": "5db20ffd-89b7-428f-b76d-7a0068e2ef68",
   "metadata": {},
   "outputs": [
    {
     "data": {
      "text/plain": [
       "range(0, 5)"
      ]
     },
     "execution_count": 26,
     "metadata": {},
     "output_type": "execute_result"
    }
   ],
   "source": [
    "range(5)"
   ]
  },
  {
   "cell_type": "code",
   "execution_count": 25,
   "id": "613b315f-1ed5-4e80-96f6-4157beb4b042",
   "metadata": {},
   "outputs": [
    {
     "data": {
      "text/plain": [
       "[0, 1, 2, 3, 4]"
      ]
     },
     "execution_count": 25,
     "metadata": {},
     "output_type": "execute_result"
    }
   ],
   "source": [
    "list(range(5))"
   ]
  },
  {
   "cell_type": "code",
   "execution_count": 28,
   "id": "f949d2e7-35b9-4795-9e01-af406949bb5e",
   "metadata": {},
   "outputs": [
    {
     "data": {
      "text/plain": [
       "[0, 2, 4, 6, 8]"
      ]
     },
     "execution_count": 28,
     "metadata": {},
     "output_type": "execute_result"
    }
   ],
   "source": [
    "list(range(0,10,2))"
   ]
  },
  {
   "cell_type": "code",
   "execution_count": 30,
   "id": "e833b8df-f055-444d-8d17-a00ec31bb27e",
   "metadata": {},
   "outputs": [
    {
     "data": {
      "text/plain": [
       "{10, 13, 16, 19, 22, 25, 28, 31, 34, 37, 40, 43, 46, 49, 52, 55, 58}"
      ]
     },
     "execution_count": 30,
     "metadata": {},
     "output_type": "execute_result"
    }
   ],
   "source": [
    "set(range(10,60,3))"
   ]
  },
  {
   "cell_type": "code",
   "execution_count": 32,
   "id": "04de57c2-8207-45ab-96ff-82491393bb1d",
   "metadata": {},
   "outputs": [
    {
     "data": {
      "text/plain": [
       "[-10, -13, -16, -19, -22, -25, -28, -31, -34, -37, -40, -43, -46, -49]"
      ]
     },
     "execution_count": 32,
     "metadata": {},
     "output_type": "execute_result"
    }
   ],
   "source": [
    "list(range(-10, -50, -3))"
   ]
  },
  {
   "cell_type": "code",
   "execution_count": 36,
   "id": "59df5878-b00e-41cb-b1a1-4553441e4e56",
   "metadata": {},
   "outputs": [
    {
     "name": "stdout",
     "output_type": "stream",
     "text": [
      "a\n",
      "b\n",
      "c\n",
      "d\n",
      "e\n"
     ]
    }
   ],
   "source": [
    "for i in range(len(l1)):\n",
    "    print(l1[i])"
   ]
  },
  {
   "cell_type": "code",
   "execution_count": 35,
   "id": "c0a0b61b-57b6-4937-9bea-bd69d04062c6",
   "metadata": {},
   "outputs": [
    {
     "data": {
      "text/plain": [
       "['a', 'b', 'c', 'd', 'e']"
      ]
     },
     "execution_count": 35,
     "metadata": {},
     "output_type": "execute_result"
    }
   ],
   "source": [
    "l1"
   ]
  },
  {
   "cell_type": "code",
   "execution_count": 49,
   "id": "cb63baba-06eb-4aac-90a8-6f1b832e701c",
   "metadata": {},
   "outputs": [
    {
     "name": "stdout",
     "output_type": "stream",
     "text": [
      "e\n",
      "d\n",
      "c\n",
      "b\n",
      "a\n"
     ]
    }
   ],
   "source": [
    "#reverse print \n",
    "for i in range(len(l1)-1,-1,-1):\n",
    "    print(l1[i])"
   ]
  },
  {
   "cell_type": "code",
   "execution_count": 45,
   "id": "977c7e93-73b5-4c69-9a6b-cac06a0cdda1",
   "metadata": {},
   "outputs": [
    {
     "name": "stdout",
     "output_type": "stream",
     "text": [
      "12\n",
      "65\n",
      "676\n",
      "345\n",
      "3\n",
      "43\n"
     ]
    }
   ],
   "source": [
    "#find and print even index \n",
    "l2 =[12,343,65,23,676,3543,345,456,3,21,43,23]\n",
    "\n",
    "#list(range(0,len(l2),2))\n",
    "\n",
    "for i in range(0,len(l2),2):\n",
    "    print(l2[i])"
   ]
  },
  {
   "cell_type": "code",
   "execution_count": 48,
   "id": "745e1b38-0512-4529-b926-9d4115b3e0bd",
   "metadata": {},
   "outputs": [
    {
     "name": "stdout",
     "output_type": "stream",
     "text": [
      "43\n"
     ]
    }
   ],
   "source": [
    "#print sum \n",
    "l3=[1,2,3,4,5,8,2,1,4,5,8]\n",
    "sum=0\n",
    "for i in l3: \n",
    "    sum = sum+ i\n",
    "print(sum)"
   ]
  },
  {
   "cell_type": "code",
   "execution_count": 50,
   "id": "1cda6b6f-dece-42e5-b8f6-8fa4e745d86d",
   "metadata": {},
   "outputs": [
    {
     "name": "stdout",
     "output_type": "stream",
     "text": [
      "1\n",
      "2\n",
      "3\n",
      "4\n",
      "5\n",
      "6\n",
      "6\n"
     ]
    }
   ],
   "source": [
    "# tuple \n",
    "a =(1,2,3,4,5,6,6)\n",
    "\n",
    "for i in a:\n",
    "    print(i)"
   ]
  },
  {
   "cell_type": "code",
   "execution_count": 51,
   "id": "61c648e5-bf91-4dde-b4af-1c4b599aea9a",
   "metadata": {},
   "outputs": [
    {
     "name": "stdout",
     "output_type": "stream",
     "text": [
      "1\n",
      "2\n",
      "3\n",
      "b\n",
      "a\n"
     ]
    }
   ],
   "source": [
    "s={1,2,3,\"a\",\"b\"}\n",
    "for i in s:\n",
    "    print(i)"
   ]
  },
  {
   "cell_type": "code",
   "execution_count": 54,
   "id": "bb37ed4c-de1e-4f5b-b199-d25dff68e3db",
   "metadata": {},
   "outputs": [
    {
     "data": {
      "text/plain": [
       "dict_keys(['a', 'b', 'c', 'd'])"
      ]
     },
     "execution_count": 54,
     "metadata": {},
     "output_type": "execute_result"
    }
   ],
   "source": [
    "#dictionary\n",
    "d={\"a\":\"apple\", \"b\":\"bat\", \"c\":\"cat\", \"d\":\"dog\"}\n",
    "d.keys()"
   ]
  },
  {
   "cell_type": "code",
   "execution_count": 55,
   "id": "77ff63ec-3068-47b1-96d9-eacb824f4ccd",
   "metadata": {},
   "outputs": [
    {
     "name": "stdout",
     "output_type": "stream",
     "text": [
      "apple\n",
      "bat\n",
      "cat\n",
      "dog\n"
     ]
    }
   ],
   "source": [
    "for i in d.keys(): \n",
    "    print(d[i])"
   ]
  },
  {
   "cell_type": "code",
   "execution_count": 57,
   "id": "8ca9b2af-9700-49e5-afc2-6dd4a57ec991",
   "metadata": {},
   "outputs": [
    {
     "data": {
      "text/plain": [
       "dict_values(['apple', 'bat', 'cat', 'dog'])"
      ]
     },
     "execution_count": 57,
     "metadata": {},
     "output_type": "execute_result"
    }
   ],
   "source": [
    "d.values()"
   ]
  },
  {
   "cell_type": "code",
   "execution_count": 58,
   "id": "691fea6f-0f4a-42ee-8922-98742151e8c6",
   "metadata": {},
   "outputs": [
    {
     "name": "stdout",
     "output_type": "stream",
     "text": [
      "apple\n",
      "bat\n",
      "cat\n",
      "dog\n"
     ]
    }
   ],
   "source": [
    "for i in d.values(): \n",
    "    print(i)"
   ]
  },
  {
   "cell_type": "code",
   "execution_count": 59,
   "id": "0672968d-4a79-4b55-be8f-f4ffe9d5559f",
   "metadata": {},
   "outputs": [
    {
     "name": "stdout",
     "output_type": "stream",
     "text": [
      "('a', 'apple')\n",
      "('b', 'bat')\n",
      "('c', 'cat')\n",
      "('d', 'dog')\n"
     ]
    }
   ],
   "source": [
    "for i in d.items():\n",
    "    print(i)"
   ]
  },
  {
   "cell_type": "code",
   "execution_count": 60,
   "id": "9607b2bb-699b-41db-921b-3ad2a80d820b",
   "metadata": {},
   "outputs": [
    {
     "data": {
      "text/plain": [
       "True"
      ]
     },
     "execution_count": 60,
     "metadata": {},
     "output_type": "execute_result"
    }
   ],
   "source": [
    "True or False and True"
   ]
  },
  {
   "cell_type": "code",
   "execution_count": 62,
   "id": "4c4cfb41-bcd0-4f91-ac6a-2dfba89ab628",
   "metadata": {},
   "outputs": [
    {
     "data": {
      "text/plain": [
       "False"
      ]
     },
     "execution_count": 62,
     "metadata": {},
     "output_type": "execute_result"
    }
   ],
   "source": [
    "not(True) or False and True"
   ]
  },
  {
   "cell_type": "code",
   "execution_count": 63,
   "id": "deee4a29-8fb6-46a5-8ada-52928c352c6f",
   "metadata": {},
   "outputs": [
    {
     "data": {
      "text/plain": [
       "False"
      ]
     },
     "execution_count": 63,
     "metadata": {},
     "output_type": "execute_result"
    }
   ],
   "source": [
    "True and False"
   ]
  },
  {
   "cell_type": "code",
   "execution_count": 64,
   "id": "8d9535bc-58d9-409c-864e-a609531b9729",
   "metadata": {},
   "outputs": [
    {
     "data": {
      "text/plain": [
       "False"
      ]
     },
     "execution_count": 64,
     "metadata": {},
     "output_type": "execute_result"
    }
   ],
   "source": [
    "False and False and not(True)"
   ]
  },
  {
   "cell_type": "code",
   "execution_count": 66,
   "id": "510bc8b9-4957-4372-bf3a-4897d746358d",
   "metadata": {},
   "outputs": [
    {
     "data": {
      "text/plain": [
       "'apple'"
      ]
     },
     "execution_count": 66,
     "metadata": {},
     "output_type": "execute_result"
    }
   ],
   "source": [
    "d[\"a\"]"
   ]
  },
  {
   "cell_type": "code",
   "execution_count": 67,
   "id": "c1cfef59-45f1-4b1a-abe2-0beac6184d5e",
   "metadata": {},
   "outputs": [
    {
     "data": {
      "text/plain": [
       "'p w s k i l l s'"
      ]
     },
     "execution_count": 67,
     "metadata": {},
     "output_type": "execute_result"
    }
   ],
   "source": [
    "string = \"p w s k i l l s\"\n",
    "\n",
    "\" \".join(string.replace(\" \", \"\"))\n",
    "\n"
   ]
  },
  {
   "cell_type": "code",
   "execution_count": 68,
   "id": "11284a8f-4403-4040-aef7-a895d9d8f2ea",
   "metadata": {},
   "outputs": [
    {
     "data": {
      "text/plain": [
       "True"
      ]
     },
     "execution_count": 68,
     "metadata": {},
     "output_type": "execute_result"
    }
   ],
   "source": [
    "\"pwskills\"[::-1].upper().replace(\"SLLIKSWP\", \"pwskills\").islower()"
   ]
  },
  {
   "cell_type": "code",
   "execution_count": 69,
   "id": "0e889746-a108-4c11-855c-6a510ce16220",
   "metadata": {},
   "outputs": [
    {
     "name": "stdout",
     "output_type": "stream",
     "text": [
      "I\n",
      "Want\n",
      "To\n",
      "Become\n",
      "A\n",
      "Data\n",
      "Scientist\n"
     ]
    }
   ],
   "source": [
    "s = \"I want to become a data scientist\"\n",
    "\n",
    "for i in s.split():\n",
    "\n",
    "    i.capitalize()\n",
    "\n",
    "    print(i.title())"
   ]
  },
  {
   "cell_type": "code",
   "execution_count": 71,
   "id": "3b63d805-61c8-463c-9496-8b785164f0a9",
   "metadata": {},
   "outputs": [
    {
     "ename": "TypeError",
     "evalue": "'str' object does not support item assignment",
     "output_type": "error",
     "traceback": [
      "\u001b[0;31m---------------------------------------------------------------------------\u001b[0m",
      "\u001b[0;31mTypeError\u001b[0m                                 Traceback (most recent call last)",
      "Cell \u001b[0;32mIn[71], line 1\u001b[0m\n\u001b[0;32m----> 1\u001b[0m \u001b[38;5;124;43m'\u001b[39;49m\u001b[38;5;124;43mpwskills\u001b[39;49m\u001b[38;5;124;43m'\u001b[39;49m\u001b[43m[\u001b[49m\u001b[38;5;241;43m0\u001b[39;49m\u001b[43m]\u001b[49m\u001b[38;5;241m=\u001b[39m\u001b[38;5;124m'\u001b[39m\u001b[38;5;124mP\u001b[39m\u001b[38;5;124m'\u001b[39m\n",
      "\u001b[0;31mTypeError\u001b[0m: 'str' object does not support item assignment"
     ]
    }
   ],
   "source": [
    "'pwskills'[0]='P'"
   ]
  },
  {
   "cell_type": "code",
   "execution_count": null,
   "id": "c9171401-03fd-49c7-a7b5-a3b9b56de63d",
   "metadata": {},
   "outputs": [],
   "source": []
  }
 ],
 "metadata": {
  "kernelspec": {
   "display_name": "Python 3 (ipykernel)",
   "language": "python",
   "name": "python3"
  },
  "language_info": {
   "codemirror_mode": {
    "name": "ipython",
    "version": 3
   },
   "file_extension": ".py",
   "mimetype": "text/x-python",
   "name": "python",
   "nbconvert_exporter": "python",
   "pygments_lexer": "ipython3",
   "version": "3.10.8"
  }
 },
 "nbformat": 4,
 "nbformat_minor": 5
}
