{
 "cells": [
  {
   "cell_type": "code",
   "execution_count": 2,
   "id": "e2fd0cf4-7e9e-4b71-9380-2459a60f270b",
   "metadata": {},
   "outputs": [],
   "source": [
    "n =3\n",
    "p=2"
   ]
  },
  {
   "cell_type": "code",
   "execution_count": 3,
   "id": "f4b02fc7-cd0a-46fe-9f65-473e573e047c",
   "metadata": {},
   "outputs": [
    {
     "data": {
      "text/plain": [
       "9"
      ]
     },
     "execution_count": 3,
     "metadata": {},
     "output_type": "execute_result"
    }
   ],
   "source": [
    "def test(n,p):\n",
    "    return n**p\n",
    "\n",
    "test(3,2)"
   ]
  },
  {
   "cell_type": "code",
   "execution_count": 5,
   "id": "1c35d0e3-8ef6-4948-9d09-f669b8d4b05e",
   "metadata": {},
   "outputs": [],
   "source": [
    "a = lambda n, p : n ** p "
   ]
  },
  {
   "cell_type": "code",
   "execution_count": 6,
   "id": "c0e3a1a3-13b1-4f75-8c83-a07c3f7259af",
   "metadata": {},
   "outputs": [
    {
     "data": {
      "text/plain": [
       "9"
      ]
     },
     "execution_count": 6,
     "metadata": {},
     "output_type": "execute_result"
    }
   ],
   "source": [
    "a(3,2)"
   ]
  },
  {
   "cell_type": "code",
   "execution_count": 8,
   "id": "a941d869-06bd-4d28-85e8-906d406b2c46",
   "metadata": {},
   "outputs": [
    {
     "data": {
      "text/plain": [
       "7"
      ]
     },
     "execution_count": 8,
     "metadata": {},
     "output_type": "execute_result"
    }
   ],
   "source": [
    "add = lambda x,y : x+y\n",
    "\n",
    "add(2,5)"
   ]
  },
  {
   "cell_type": "code",
   "execution_count": 11,
   "id": "2c87ff96-6d73-438e-b8d3-2b16033b1fec",
   "metadata": {},
   "outputs": [],
   "source": [
    "cel_to_farn = lambda c : (9/5)* c + 32 "
   ]
  },
  {
   "cell_type": "code",
   "execution_count": 13,
   "id": "35e4ae30-29b1-4800-a3d6-bca92bf1b417",
   "metadata": {},
   "outputs": [
    {
     "data": {
      "text/plain": [
       "113.0"
      ]
     },
     "execution_count": 13,
     "metadata": {},
     "output_type": "execute_result"
    }
   ],
   "source": [
    "cel_to_farn(45)"
   ]
  },
  {
   "cell_type": "code",
   "execution_count": 20,
   "id": "d1136929-f5d3-4636-babd-0077010842b7",
   "metadata": {},
   "outputs": [],
   "source": [
    "finding_max = lambda x,y : x if x>y else y  "
   ]
  },
  {
   "cell_type": "code",
   "execution_count": 23,
   "id": "4d8c2e46-a9e8-4df3-ab76-0ceaba8bd70c",
   "metadata": {},
   "outputs": [
    {
     "data": {
      "text/plain": [
       "21"
      ]
     },
     "execution_count": 23,
     "metadata": {},
     "output_type": "execute_result"
    }
   ],
   "source": [
    "finding_max(21,3)"
   ]
  },
  {
   "cell_type": "code",
   "execution_count": 25,
   "id": "fc6f4a9d-4362-48ed-bf9d-284733afc9f8",
   "metadata": {},
   "outputs": [
    {
     "data": {
      "text/plain": [
       "6"
      ]
     },
     "execution_count": 25,
     "metadata": {},
     "output_type": "execute_result"
    }
   ],
   "source": [
    "a=\"abcdef\"\n",
    "\n",
    "len_string = lambda s:len(s)\n",
    "\n",
    "len_string(a)"
   ]
  },
  {
   "cell_type": "code",
   "execution_count": null,
   "id": "d810d270-96d7-4c82-bdbb-8b8bca929256",
   "metadata": {},
   "outputs": [],
   "source": []
  }
 ],
 "metadata": {
  "kernelspec": {
   "display_name": "Python 3 (ipykernel)",
   "language": "python",
   "name": "python3"
  },
  "language_info": {
   "codemirror_mode": {
    "name": "ipython",
    "version": 3
   },
   "file_extension": ".py",
   "mimetype": "text/x-python",
   "name": "python",
   "nbconvert_exporter": "python",
   "pygments_lexer": "ipython3",
   "version": "3.10.8"
  }
 },
 "nbformat": 4,
 "nbformat_minor": 5
}
