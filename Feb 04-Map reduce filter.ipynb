{
 "cells": [
  {
   "cell_type": "code",
   "execution_count": 3,
   "id": "2ebe983c-09c0-4d9b-8501-8c4e2ab0fbd8",
   "metadata": {},
   "outputs": [
    {
     "data": {
      "text/plain": [
       "[1, 4, 9, 16, 25, 36]"
      ]
     },
     "execution_count": 3,
     "metadata": {},
     "output_type": "execute_result"
    }
   ],
   "source": [
    "\n",
    "l = [1,2,3,4,5,6]\n",
    "def test(l): \n",
    "    l1 = []\n",
    "    for i in l: \n",
    "        l1.append(i**2)\n",
    "    return l1\n",
    "test(l)"
   ]
  },
  {
   "cell_type": "code",
   "execution_count": 7,
   "id": "2fb64c51-385b-4b1c-a95b-e2aa3171f644",
   "metadata": {},
   "outputs": [
    {
     "data": {
      "text/plain": [
       "[1, 4, 9, 16, 25, 36]"
      ]
     },
     "execution_count": 7,
     "metadata": {},
     "output_type": "execute_result"
    }
   ],
   "source": [
    "def square(x):\n",
    "    return x**2\n",
    "\n",
    "map(square, l)\n",
    "list(map(square,l))"
   ]
  },
  {
   "cell_type": "code",
   "execution_count": 10,
   "id": "a8a710b6-00b3-4038-a6eb-9a1c54d97364",
   "metadata": {},
   "outputs": [
    {
     "data": {
      "text/plain": [
       "[1, 4, 9, 16, 25, 36]"
      ]
     },
     "execution_count": 10,
     "metadata": {},
     "output_type": "execute_result"
    }
   ],
   "source": [
    "list(map(lambda x : x**2, l))"
   ]
  },
  {
   "cell_type": "code",
   "execution_count": 13,
   "id": "5f041717-2386-4e31-bc8f-8d4ae3510a53",
   "metadata": {},
   "outputs": [
    {
     "data": {
      "text/plain": [
       "[7, 9, 11, 13, 15]"
      ]
     },
     "execution_count": 13,
     "metadata": {},
     "output_type": "execute_result"
    }
   ],
   "source": [
    "l1 =[1,2,3,4,5,1]\n",
    "l2 =[6,7,8,9,10]\n",
    "list(map(lambda x , y : x+y ,l1,l2))"
   ]
  },
  {
   "cell_type": "code",
   "execution_count": 15,
   "id": "fb275ec9-41e3-4f98-92f5-e7388673142d",
   "metadata": {},
   "outputs": [
    {
     "data": {
      "text/plain": [
       "[7, 9, 11, 13, 15]"
      ]
     },
     "execution_count": 15,
     "metadata": {},
     "output_type": "execute_result"
    }
   ],
   "source": [
    "def  add(x,y):\n",
    "    return x+y\n",
    "list(map(add , l1,l2))"
   ]
  },
  {
   "cell_type": "code",
   "execution_count": 16,
   "id": "0370bd7b-e936-45ce-9278-5b5231889af5",
   "metadata": {},
   "outputs": [
    {
     "data": {
      "text/plain": [
       "['A', 'B', 'C', 'D', 'E', 'F']"
      ]
     },
     "execution_count": 16,
     "metadata": {},
     "output_type": "execute_result"
    }
   ],
   "source": [
    "a='abcdef'\n",
    "\n",
    "list(map(lambda s: s.upper(),a))"
   ]
  },
  {
   "cell_type": "code",
   "execution_count": 18,
   "id": "3ac56e2a-d999-412e-abd9-2bd88effa09b",
   "metadata": {},
   "outputs": [],
   "source": [
    "from functools import reduce "
   ]
  },
  {
   "cell_type": "code",
   "execution_count": 19,
   "id": "4969ba93-b2a2-4830-b466-37880f9ed7c8",
   "metadata": {},
   "outputs": [
    {
     "data": {
      "text/plain": [
       "21"
      ]
     },
     "execution_count": 19,
     "metadata": {},
     "output_type": "execute_result"
    }
   ],
   "source": [
    "l=[1,2,3,4,5,6]\n",
    "\n",
    "reduce(lambda x, y: x+y, l)"
   ]
  },
  {
   "cell_type": "code",
   "execution_count": 20,
   "id": "c465407b-7c01-4b5e-aa98-b9ae5617ec91",
   "metadata": {},
   "outputs": [
    {
     "ename": "TypeError",
     "evalue": "<lambda>() missing 1 required positional argument: 'z'",
     "output_type": "error",
     "traceback": [
      "\u001b[0;31m---------------------------------------------------------------------------\u001b[0m",
      "\u001b[0;31mTypeError\u001b[0m                                 Traceback (most recent call last)",
      "Cell \u001b[0;32mIn[20], line 1\u001b[0m\n\u001b[0;32m----> 1\u001b[0m \u001b[43mreduce\u001b[49m\u001b[43m(\u001b[49m\u001b[38;5;28;43;01mlambda\u001b[39;49;00m\u001b[43m \u001b[49m\u001b[43mx\u001b[49m\u001b[43m,\u001b[49m\u001b[43m \u001b[49m\u001b[43my\u001b[49m\u001b[43m \u001b[49m\u001b[43m,\u001b[49m\u001b[43m \u001b[49m\u001b[43mz\u001b[49m\u001b[43m:\u001b[49m\u001b[43m \u001b[49m\u001b[43mx\u001b[49m\u001b[38;5;241;43m+\u001b[39;49m\u001b[43my\u001b[49m\u001b[38;5;241;43m+\u001b[39;49m\u001b[43mz\u001b[49m\u001b[43m,\u001b[49m\u001b[43m \u001b[49m\u001b[43ml\u001b[49m\u001b[43m)\u001b[49m\n",
      "\u001b[0;31mTypeError\u001b[0m: <lambda>() missing 1 required positional argument: 'z'"
     ]
    }
   ],
   "source": [
    "reduce(lambda x, y , z: x+y+z, l)"
   ]
  },
  {
   "cell_type": "code",
   "execution_count": 21,
   "id": "12cc39e9-66a1-4eaa-9d1c-1939966e453f",
   "metadata": {},
   "outputs": [
    {
     "ename": "TypeError",
     "evalue": "reduce() of empty iterable with no initial value",
     "output_type": "error",
     "traceback": [
      "\u001b[0;31m---------------------------------------------------------------------------\u001b[0m",
      "\u001b[0;31mTypeError\u001b[0m                                 Traceback (most recent call last)",
      "Cell \u001b[0;32mIn[21], line 1\u001b[0m\n\u001b[0;32m----> 1\u001b[0m \u001b[43mreduce\u001b[49m\u001b[43m(\u001b[49m\u001b[38;5;28;43;01mlambda\u001b[39;49;00m\u001b[43m \u001b[49m\u001b[43mx\u001b[49m\u001b[43m,\u001b[49m\u001b[43m \u001b[49m\u001b[43my\u001b[49m\u001b[43m:\u001b[49m\u001b[43m \u001b[49m\u001b[43mx\u001b[49m\u001b[38;5;241;43m+\u001b[39;49m\u001b[43my\u001b[49m\u001b[43m,\u001b[49m\u001b[43m \u001b[49m\u001b[43m[\u001b[49m\u001b[43m]\u001b[49m\u001b[43m)\u001b[49m\n",
      "\u001b[0;31mTypeError\u001b[0m: reduce() of empty iterable with no initial value"
     ]
    }
   ],
   "source": [
    "reduce(lambda x, y: x+y, [])"
   ]
  },
  {
   "cell_type": "code",
   "execution_count": 22,
   "id": "96ea22d0-287e-4bf3-bb9f-c8950e8afb99",
   "metadata": {},
   "outputs": [
    {
     "data": {
      "text/plain": [
       "2"
      ]
     },
     "execution_count": 22,
     "metadata": {},
     "output_type": "execute_result"
    }
   ],
   "source": [
    "reduce(lambda x, y: x+y, [2])"
   ]
  },
  {
   "cell_type": "code",
   "execution_count": 23,
   "id": "37e5174e-2863-49d1-88a6-c28244f9b8a8",
   "metadata": {},
   "outputs": [
    {
     "data": {
      "text/plain": [
       "6"
      ]
     },
     "execution_count": 23,
     "metadata": {},
     "output_type": "execute_result"
    }
   ],
   "source": [
    "reduce(lambda x,y:  x if x>y else y, l)"
   ]
  },
  {
   "cell_type": "code",
   "execution_count": 27,
   "id": "22afaf26-c5ea-4e6e-909a-0f34c7d7b6ce",
   "metadata": {},
   "outputs": [
    {
     "data": {
      "text/plain": [
       "[2, 4, 6]"
      ]
     },
     "execution_count": 27,
     "metadata": {},
     "output_type": "execute_result"
    }
   ],
   "source": [
    "list(filter(lambda x:  x%2 == 0 ,l))"
   ]
  },
  {
   "cell_type": "code",
   "execution_count": 28,
   "id": "305f65a3-877f-488c-a93f-3933a4980651",
   "metadata": {},
   "outputs": [
    {
     "data": {
      "text/plain": [
       "[1, 3, 5]"
      ]
     },
     "execution_count": 28,
     "metadata": {},
     "output_type": "execute_result"
    }
   ],
   "source": [
    "list(filter(lambda x: x%2 ==1 , l))"
   ]
  },
  {
   "cell_type": "code",
   "execution_count": 35,
   "id": "6b95c391-b6fb-4f85-9172-7d87c4eef450",
   "metadata": {},
   "outputs": [
    {
     "data": {
      "text/plain": [
       "[-23, -3]"
      ]
     },
     "execution_count": 35,
     "metadata": {},
     "output_type": "execute_result"
    }
   ],
   "source": [
    "l1=[0, -23,-3,23,5]\n",
    "\n",
    "list(filter(lambda x: x<0 , l1))"
   ]
  },
  {
   "cell_type": "code",
   "execution_count": 38,
   "id": "b5bcbf63-b28e-49a5-80aa-ad7c74847574",
   "metadata": {},
   "outputs": [
    {
     "data": {
      "text/plain": [
       "['a', 'abc']"
      ]
     },
     "execution_count": 38,
     "metadata": {},
     "output_type": "execute_result"
    }
   ],
   "source": [
    "l2=[\"a\",\"abcde\",\"abcd\", \"abc\"]\n",
    "\n",
    "list(filter(lambda x: len(x)<=3, l2))"
   ]
  },
  {
   "cell_type": "code",
   "execution_count": null,
   "id": "2295c479-70a4-4852-9647-e8e215f8a7cd",
   "metadata": {},
   "outputs": [],
   "source": []
  }
 ],
 "metadata": {
  "kernelspec": {
   "display_name": "Python 3 (ipykernel)",
   "language": "python",
   "name": "python3"
  },
  "language_info": {
   "codemirror_mode": {
    "name": "ipython",
    "version": 3
   },
   "file_extension": ".py",
   "mimetype": "text/x-python",
   "name": "python",
   "nbconvert_exporter": "python",
   "pygments_lexer": "ipython3",
   "version": "3.10.8"
  }
 },
 "nbformat": 4,
 "nbformat_minor": 5
}
