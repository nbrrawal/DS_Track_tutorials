{
 "cells": [
  {
   "cell_type": "markdown",
   "id": "d73e8837-dcd1-4a39-94ed-dc95801092c8",
   "metadata": {},
   "source": [
    "## OOPS Part 1 "
   ]
  },
  {
   "cell_type": "code",
   "execution_count": 1,
   "id": "bab9918a-cac4-4506-903d-49ebeaec6680",
   "metadata": {},
   "outputs": [
    {
     "name": "stdout",
     "output_type": "stream",
     "text": [
      "<class 'int'>\n"
     ]
    }
   ],
   "source": [
    "a =1 \n",
    "print(type(a))"
   ]
  },
  {
   "cell_type": "code",
   "execution_count": 2,
   "id": "c87a840d-6769-426b-b35f-84ff8f9e40a7",
   "metadata": {},
   "outputs": [
    {
     "name": "stdout",
     "output_type": "stream",
     "text": [
      "<class 'str'>\n"
     ]
    }
   ],
   "source": [
    "print(type(\"abc\"))"
   ]
  },
  {
   "cell_type": "code",
   "execution_count": 7,
   "id": "147f936a-2d83-48d6-99a7-d56e4dafcf9e",
   "metadata": {},
   "outputs": [
    {
     "name": "stdout",
     "output_type": "stream",
     "text": [
      "<class '__main__.test'>\n"
     ]
    }
   ],
   "source": [
    "class test : \n",
    "    pass\n",
    "\n",
    "a = test()\n",
    "print(type(a))"
   ]
  },
  {
   "cell_type": "code",
   "execution_count": 19,
   "id": "a9ac52e5-97b8-4f92-b3a2-9d6b25237cf4",
   "metadata": {},
   "outputs": [
    {
     "name": "stdout",
     "output_type": "stream",
     "text": [
      "<class '__main__.cls_test'>\n",
      "Welcome user\n"
     ]
    }
   ],
   "source": [
    "class cls_test: \n",
    "      def welcome(self):\n",
    "        print(\"Welcome user\" )\n",
    "      \n",
    "#      def welcome(self, msg):\n",
    "#        print(\"Welcome\" , msg)\n",
    "obj = cls_test()\n",
    "print(type(obj))\n",
    "\n",
    "obj.welcome()\n",
    "#obj.welcome(\"Narender\")"
   ]
  },
  {
   "cell_type": "code",
   "execution_count": 9,
   "id": "61d4697a-cc11-48cd-9c15-900e30fd96b3",
   "metadata": {},
   "outputs": [
    {
     "name": "stdout",
     "output_type": "stream",
     "text": [
      "Hello a your age is 32\n"
     ]
    },
    {
     "data": {
      "text/plain": [
       "38"
      ]
     },
     "execution_count": 9,
     "metadata": {},
     "output_type": "execute_result"
    }
   ],
   "source": [
    "class cls_test:\n",
    "    \n",
    "    def __init__(self,name, age):\n",
    "        self.age = age\n",
    "        self.name= name\n",
    "        \n",
    "    def welcome(self):\n",
    "        print(\"Hello\", self.name, \"your age is\",self.age )\n",
    "        \n",
    "    def get_user_details(self):\n",
    "        return self.name, self.age\n",
    "\n",
    "\n",
    "a = cls_test(\"a\",32)\n",
    "a.welcome()\n",
    "\n",
    "neeraj = cls_test(\"Neeraj\", 38)\n",
    "#return details \n",
    "neeraj_details = neeraj.get_user_details()\n",
    "neeraj.age"
   ]
  },
  {
   "cell_type": "code",
   "execution_count": 10,
   "id": "fee2fa40-daf6-4d45-a3e1-2008b3f972ba",
   "metadata": {},
   "outputs": [
    {
     "name": "stdout",
     "output_type": "stream",
     "text": [
      "Hello a your age is 32\n"
     ]
    },
    {
     "data": {
      "text/plain": [
       "38"
      ]
     },
     "execution_count": 10,
     "metadata": {},
     "output_type": "execute_result"
    }
   ],
   "source": [
    "#you can use any alias other than self \n",
    "class cls_test:\n",
    "    \n",
    "    def __init__(abc,name, age):\n",
    "        abc.age = age\n",
    "        abc.name= name\n",
    "        \n",
    "    def welcome(abc):\n",
    "        print(\"Hello\", abc.name, \"your age is\",abc.age )\n",
    "        \n",
    "    def get_user_details(abc):\n",
    "        return abc.name, abc.age\n",
    "\n",
    "\n",
    "a = cls_test(\"a\",32)\n",
    "a.welcome()\n",
    "\n",
    "neeraj = cls_test(\"Neeraj\", 38)\n",
    "#return details \n",
    "neeraj_details = neeraj.get_user_details()\n",
    "neeraj.age"
   ]
  },
  {
   "cell_type": "markdown",
   "id": "39fc23bd-37e4-4c5c-bcfb-bdd764e2c8d6",
   "metadata": {},
   "source": [
    "## encapsulation"
   ]
  },
  {
   "cell_type": "code",
   "execution_count": 21,
   "id": "11bf03fd-b9ea-492b-8e44-4e61af6c74e6",
   "metadata": {},
   "outputs": [],
   "source": [
    "class student:\n",
    "    def __init__(self, rollno, age, marks ):\n",
    "        self.__rollno = rollno \n",
    "        self.__age = age\n",
    "        self.__marks = marks\n",
    "\n",
    "st = student(22,3,4)"
   ]
  },
  {
   "cell_type": "code",
   "execution_count": 24,
   "id": "8ebada80-c038-4b8c-8a28-25ae03c3471e",
   "metadata": {},
   "outputs": [
    {
     "data": {
      "text/plain": [
       "22"
      ]
     },
     "execution_count": 24,
     "metadata": {},
     "output_type": "execute_result"
    }
   ],
   "source": [
    "st._student__rollno"
   ]
  },
  {
   "cell_type": "code",
   "execution_count": 27,
   "id": "c306ac6d-610d-4917-861e-ea57fc8611cc",
   "metadata": {
    "jupyter": {
     "source_hidden": true
    },
    "tags": []
   },
   "outputs": [],
   "source": [
    "class student:\n",
    "    def __init__(self, rollno, age, marks ):\n",
    "        self.__rollno = rollno \n",
    "        self.__age = age\n",
    "        self.__marks = marks\n",
    "    def set_marks(self, marks):\n",
    "        self.__marks= 0 if marks<0 else marks\n",
    "    def get_marks(self):\n",
    "        return self.__marks\n",
    "        \n",
    "st = student(101,23,43)"
   ]
  },
  {
   "cell_type": "code",
   "execution_count": 28,
   "id": "618ad8d9-9515-4285-a088-eae9e970b631",
   "metadata": {},
   "outputs": [],
   "source": [
    "st.set_marks(-100)\n",
    "st.get_marks()"
   ]
  },
  {
   "cell_type": "code",
   "execution_count": 30,
   "id": "81e76b7c-d53a-48e4-befa-e44d4dfbdc97",
   "metadata": {},
   "outputs": [
    {
     "data": {
      "text/plain": [
       "80"
      ]
     },
     "execution_count": 30,
     "metadata": {},
     "output_type": "execute_result"
    }
   ],
   "source": [
    "st.set_marks(80)\n",
    "st.get_marks()"
   ]
  },
  {
   "cell_type": "code",
   "execution_count": 56,
   "id": "43d26c23-daa6-4624-9f68-0ca6e8f77234",
   "metadata": {},
   "outputs": [],
   "source": [
    "class bank_account:\n",
    "    def __init__(self, balance):\n",
    "        self.__balance = balance\n",
    "    def deposit(self, amount):\n",
    "        self.__balance= self.__balance + amount\n",
    "    def withdraw(self, amount):\n",
    "        if self.__balance>=amount:\n",
    "            self.__balance= self.__balance - amount\n",
    "            return True\n",
    "        else:\n",
    "            return False\n",
    "    def get_balance(self):\n",
    "        return self.__balance\n",
    "\n",
    "cls = bank_account(1000)"
   ]
  },
  {
   "cell_type": "code",
   "execution_count": 57,
   "id": "b371b46d-f6ca-45d7-a317-2c1a10c5b33e",
   "metadata": {},
   "outputs": [
    {
     "data": {
      "text/plain": [
       "1000"
      ]
     },
     "execution_count": 57,
     "metadata": {},
     "output_type": "execute_result"
    }
   ],
   "source": [
    "cls.get_balance()"
   ]
  },
  {
   "cell_type": "code",
   "execution_count": 58,
   "id": "4eabca88-10ef-41d9-b13f-d405cf41c8fe",
   "metadata": {},
   "outputs": [],
   "source": [
    "cls.deposit(100)"
   ]
  },
  {
   "cell_type": "code",
   "execution_count": 59,
   "id": "0c7f1b7e-4a53-4be1-ac72-d4fd6b09061e",
   "metadata": {},
   "outputs": [
    {
     "data": {
      "text/plain": [
       "1100"
      ]
     },
     "execution_count": 59,
     "metadata": {},
     "output_type": "execute_result"
    }
   ],
   "source": [
    "cls.get_balance()"
   ]
  },
  {
   "cell_type": "code",
   "execution_count": 60,
   "id": "c3e3083b-0ba1-4856-9c8b-76b26cfb52b4",
   "metadata": {},
   "outputs": [
    {
     "data": {
      "text/plain": [
       "False"
      ]
     },
     "execution_count": 60,
     "metadata": {},
     "output_type": "execute_result"
    }
   ],
   "source": [
    "cls.withdraw(1200)"
   ]
  },
  {
   "cell_type": "code",
   "execution_count": 61,
   "id": "5163ed38-2ccd-4604-bc8d-ffd60e8d385f",
   "metadata": {},
   "outputs": [
    {
     "data": {
      "text/plain": [
       "1000"
      ]
     },
     "execution_count": 61,
     "metadata": {},
     "output_type": "execute_result"
    }
   ],
   "source": [
    "cls.withdraw(100)\n",
    "cls.get_balance()"
   ]
  },
  {
   "cell_type": "markdown",
   "id": "f79d0aab-dd60-400a-a762-8cac0c6f2344",
   "metadata": {},
   "source": [
    "## inheritance "
   ]
  },
  {
   "cell_type": "code",
   "execution_count": 62,
   "id": "16894c57-432d-45ca-b1ee-8d9b6ecf6df4",
   "metadata": {},
   "outputs": [
    {
     "name": "stdout",
     "output_type": "stream",
     "text": [
      "test method a \n"
     ]
    }
   ],
   "source": [
    "class a : \n",
    "    def print_a(self):\n",
    "        print(\"test method a \")\n",
    "\n",
    "class child_a(a): \n",
    "    pass\n",
    "\n",
    "obj = child_a()\n",
    "obj.print_a()"
   ]
  },
  {
   "cell_type": "code",
   "execution_count": 66,
   "id": "2c4bb237-5ba4-49cc-ae6c-f7721e7372b2",
   "metadata": {},
   "outputs": [
    {
     "data": {
      "text/plain": [
       "'class 3 method'"
      ]
     },
     "execution_count": 66,
     "metadata": {},
     "output_type": "execute_result"
    }
   ],
   "source": [
    "\n",
    "class class1:\n",
    "    def test_class1(self):\n",
    "        return \"class 1 method\"\n",
    "\n",
    "class class2(class1):\n",
    "    def test_class2(self):\n",
    "        return \"class 2 method\"\n",
    "\n",
    "class class3(class2):\n",
    "    def test_class3(self):\n",
    "        return \"class 3 method\"\n",
    "cls = class3()\n",
    "cls.test_class1()\n",
    "cls.test_class2()\n",
    "cls.test_class3()\n",
    "\n",
    "\n",
    "\n"
   ]
  },
  {
   "cell_type": "code",
   "execution_count": 67,
   "id": "5aa87ddf-e8e0-415c-8393-9e7c20072074",
   "metadata": {},
   "outputs": [
    {
     "data": {
      "text/plain": [
       "'class 3 method'"
      ]
     },
     "execution_count": 67,
     "metadata": {},
     "output_type": "execute_result"
    }
   ],
   "source": [
    "\n",
    "#ultiple inheritance\n",
    "class class1:\n",
    "    def test_class1(self):\n",
    "        return \"class 1 method\"\n",
    "\n",
    "class class2:\n",
    "    def test_class2(self):\n",
    "        return \"class 2 method\"\n",
    "\n",
    "class class3(class1, class2):\n",
    "    def test_class3(self):\n",
    "        return \"class 3 method\"\n",
    "cls = class3()\n",
    "cls.test_class1()\n",
    "cls.test_class2()\n",
    "cls.test_class3()\n",
    "\n"
   ]
  },
  {
   "cell_type": "markdown",
   "id": "13fc969e-f3a3-448a-adbd-139fb60ca87a",
   "metadata": {},
   "source": [
    "## abstraction "
   ]
  },
  {
   "cell_type": "code",
   "execution_count": 68,
   "id": "c88c6aed-107f-4f30-adce-a7dfdbfbd93d",
   "metadata": {},
   "outputs": [],
   "source": [
    "#simple skeleton  \n",
    "class abstract: \n",
    "    def student_details(self):\n",
    "        pass\n",
    "    def student_assign(self):\n",
    "        pass\n",
    "    def student_marks(self):\n",
    "        pass\n",
    "    "
   ]
  },
  {
   "cell_type": "code",
   "execution_count": null,
   "id": "c61dd9ac-f53d-441b-948a-08335bcab6ca",
   "metadata": {},
   "outputs": [],
   "source": [
    "#simple skeleton  \n",
    "import abc \n",
    "class abstract: \n",
    "    @abc.abstractmethod\n",
    "    def student_details(self):\n",
    "        pass\n",
    "    @abc.abstractmethod\n",
    "    def student_assign(self):\n",
    "        pass\n",
    "    @abc.abstractmethod\n",
    "    def student_marks(self):\n",
    "        pass\n",
    "    \n",
    "class student(abstract):\n",
    "    def student_details(self):\n",
    "        return \"student details\"\n",
    "    def student_assign(self):\n",
    "        return \"student assignment\"\n",
    "    def student_marks(self):\n",
    "        return \"student marks\"\n",
    "\n",
    "class data_science(abstract):\n",
    "    def student_details(self):\n",
    "        return \"data science student details\"\n",
    "    def student_assign(self):\n",
    "        return \"data science student assignment\"\n"
   ]
  },
  {
   "cell_type": "code",
   "execution_count": null,
   "id": "3d397e1e-f7d1-456f-9748-b28dd9dff7e5",
   "metadata": {},
   "outputs": [],
   "source": []
  },
  {
   "cell_type": "code",
   "execution_count": null,
   "id": "1bf6912f-8ca8-49ca-9db3-200c9c2b25d9",
   "metadata": {},
   "outputs": [],
   "source": []
  },
  {
   "cell_type": "code",
   "execution_count": null,
   "id": "9a6b1fbe-6a94-4d71-b477-878dc8d16396",
   "metadata": {},
   "outputs": [],
   "source": []
  },
  {
   "cell_type": "code",
   "execution_count": null,
   "id": "37d21170-25ed-4b20-a1cb-c7bca014c45a",
   "metadata": {},
   "outputs": [],
   "source": []
  },
  {
   "cell_type": "code",
   "execution_count": null,
   "id": "90e3171d-b759-45a0-b064-b13f6dd070b5",
   "metadata": {},
   "outputs": [],
   "source": []
  }
 ],
 "metadata": {
  "kernelspec": {
   "display_name": "Python 3 (ipykernel)",
   "language": "python",
   "name": "python3"
  },
  "language_info": {
   "codemirror_mode": {
    "name": "ipython",
    "version": 3
   },
   "file_extension": ".py",
   "mimetype": "text/x-python",
   "name": "python",
   "nbconvert_exporter": "python",
   "pygments_lexer": "ipython3",
   "version": "3.10.8"
  }
 },
 "nbformat": 4,
 "nbformat_minor": 5
}
