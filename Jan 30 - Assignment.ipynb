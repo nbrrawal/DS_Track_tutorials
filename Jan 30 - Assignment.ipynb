{
 "cells": [
  {
   "cell_type": "code",
   "execution_count": 4,
   "id": "83079b06-744a-4395-a49b-99fa11450bd5",
   "metadata": {},
   "outputs": [
    {
     "name": "stdin",
     "output_type": "stream",
     "text": [
      "Please enter Percentage -10\n"
     ]
    },
    {
     "name": "stdout",
     "output_type": "stream",
     "text": [
      "Percentage should be 0 - 100 \n"
     ]
    }
   ],
   "source": [
    "#1. Program to accept percentage of user and display grade \n",
    "perc = int(input(\"Please enter Percentage\"))\n",
    "if perc > 90 and perc<=100: \n",
    "    print(\"Grade A\")\n",
    "elif perc >80 and perc <=90: \n",
    "    print(\"Grade B\")\n",
    "elif perc>=60 and perc <=80: \n",
    "    print(\"Grade C\")\n",
    "elif perc>=0 and perc<60: \n",
    "    print(\"Grade D\")\n",
    "else: \n",
    "    print(\"Percentage should be 0 - 100 \")"
   ]
  },
  {
   "cell_type": "code",
   "execution_count": 5,
   "id": "1069e586-777f-413b-9f2d-c8b3173e675c",
   "metadata": {},
   "outputs": [
    {
     "name": "stdin",
     "output_type": "stream",
     "text": [
      "Please enter bike cost price  75000\n"
     ]
    },
    {
     "name": "stdout",
     "output_type": "stream",
     "text": [
      "10% and total tax to be paid :  7500.0\n"
     ]
    }
   ],
   "source": [
    "#1. Program to accept cost price of bike of user and display road tax percentage\n",
    "price = int(input(\"Please enter bike cost price \"))\n",
    "if price > 100000: \n",
    "    print(\"15% and total tax to be paid : \", price * .15)\n",
    "elif price>=50000 and price<=100000: \n",
    "    print(\"10% and total tax to be paid : \", price * .1)\n",
    "elif price>0 and price<50000 : \n",
    "    print(\"5% and total tax to be paid : \", price * .05)\n",
    "else: \n",
    "    print(\"Wrong input \")"
   ]
  },
  {
   "cell_type": "code",
   "execution_count": 8,
   "id": "676f4b46-5170-4b8d-b120-2af6bde9f461",
   "metadata": {},
   "outputs": [
    {
     "name": "stdin",
     "output_type": "stream",
     "text": [
      "Please enter city Delhi\n"
     ]
    },
    {
     "name": "stdout",
     "output_type": "stream",
     "text": [
      "Red Fort\n"
     ]
    }
   ],
   "source": [
    "#3. Program to accept city and dispaly monument\n",
    "city = input(\"Please enter city\")\n",
    "\n",
    "if city.strip().lower() ==\"delhi\": \n",
    "    print(\"Red Fort\")\n",
    "elif city.strip().lower()==\"agra\": \n",
    "    print(\" Taj Mahal \")\n",
    "elif city.strip().lower()==\"jaipur\" : \n",
    "    print(\"Jal Mahal\")\n",
    "else: \n",
    "    print(\"Wrong input \")"
   ]
  },
  {
   "cell_type": "code",
   "execution_count": 9,
   "id": "564d8791-7164-4425-94f2-8bbc6a5c295a",
   "metadata": {},
   "outputs": [
    {
     "name": "stdin",
     "output_type": "stream",
     "text": [
      "Please enter the number 56\n"
     ]
    },
    {
     "name": "stdout",
     "output_type": "stream",
     "text": [
      "56 can be divided by 16 times before it is less than or equal to 10\n"
     ]
    }
   ],
   "source": [
    "#Check how many times a number can be divided by 3 before it is less than or equal to 10 \n",
    "\n",
    "num = int(input(\"Please enter the number\"))\n",
    "\n",
    "print( num , \"can be divided by\" , int((num-10)/3) +1 ,\"times before it is less than or equal to 10\")\n",
    "          "
   ]
  },
  {
   "cell_type": "code",
   "execution_count": 12,
   "id": "ca3a6bce-90bd-49c4-96c3-eb8a013a05e0",
   "metadata": {},
   "outputs": [
    {
     "name": "stdout",
     "output_type": "stream",
     "text": [
      "1 2 3 4 5 6 7 8 9 10 "
     ]
    }
   ],
   "source": [
    "#5. Why and when to use while loop in python give a detailed example \n",
    "# while loop is used to iterate untlil a condition is satisfied\n",
    "\n",
    "# Print only first 10 integers \n",
    "\n",
    "i = 1 \n",
    "#print until the count reaches to 10 \n",
    "while(i<=10):\n",
    "    print(i, end=\" \")\n",
    "    i = i +1\n"
   ]
  },
  {
   "cell_type": "code",
   "execution_count": 1,
   "id": "b3e03353-a975-4ba1-a7bc-0f5d3e891ac6",
   "metadata": {
    "tags": []
   },
   "outputs": [
    {
     "name": "stdout",
     "output_type": "stream",
     "text": [
      "1st Pattern............\n",
      "1 \n",
      "1 2 \n",
      "1 2 3 \n",
      "1 2 3 4 \n",
      "1 2 3 4 5 \n",
      "\n",
      "2nd Pattern............\n",
      "1 2 3 4 5 \n",
      "1 2 3 4 \n",
      "1 2 3 \n",
      "1 2 \n",
      "1 \n",
      "\n",
      "3rd Pattern............\n",
      "1 \n",
      "1 2 \n",
      "1 2 3 \n",
      "1 2 3 4 \n",
      "1 2 3 4 5 \n",
      "1 2 3 4 5 \n",
      "1 2 3 4 \n",
      "1 2 3 \n",
      "1 2 \n",
      "1 \n",
      "\n"
     ]
    }
   ],
   "source": [
    "#6. use nested while loop to print 3 different pattern \n",
    "\n",
    "# first \n",
    "# 1\n",
    "# 1 2 \n",
    "# 1 2 3\n",
    "# 1 2 3 4 \n",
    "# 1 2 3 4 5 \n",
    "print(\"1st Pattern............\")\n",
    "i  = 1 \n",
    "while(i<=5):\n",
    "    j = 1\n",
    "    while(j <=i):\n",
    "        print(j, end=\" \")\n",
    "        j = j + 1 \n",
    "    print(\"\")\n",
    "    i = i +1\n",
    "\n",
    "# 1 2 3 4 5 \n",
    "# 1 2 3 4\n",
    "# 1 2 3\n",
    "# 1 2 \n",
    "# 1 \n",
    "i = 5 \n",
    "j = 1\n",
    "print(\"\\n2nd Pattern............\")\n",
    "i =5 \n",
    "\n",
    "while (i >=1):\n",
    "    j =1 \n",
    "    while(j<=i):\n",
    "        print(j, end=\" \")\n",
    "        j = j +1\n",
    "    print(\"\")\n",
    "    i = i - 1\n",
    "print(\"\")\n",
    "\n",
    "print(\"3rd Pattern............\")\n",
    "i  = 1 \n",
    "while(i<=5):\n",
    "    j = 1\n",
    "    while(j <=i):\n",
    "        print(j, end=\" \")\n",
    "        j = j + 1 \n",
    "    print(\"\")\n",
    "    i = i +1\n",
    "\n",
    "i = 5 \n",
    "j = 1\n",
    "while (i >=1):\n",
    "    j =1 \n",
    "    while(j<=i):\n",
    "        print(j, end=\" \")\n",
    "        j = j +1\n",
    "    print(\"\")\n",
    "    i = i - 1\n",
    "print(\"\")"
   ]
  },
  {
   "cell_type": "code",
   "execution_count": 1,
   "id": "4be90bfe-57e3-402f-a627-0255b6cee277",
   "metadata": {},
   "outputs": [
    {
     "name": "stdout",
     "output_type": "stream",
     "text": [
      "10 9 8 7 6 5 4 3 2 1 "
     ]
    }
   ],
   "source": [
    "#7. reverse a while loop to display number s from 10 -1 \n",
    "\n",
    "i = 10 \n",
    "while(i>=1):\n",
    "    print(i, end=\" \")\n",
    "    i = i -1"
   ]
  },
  {
   "cell_type": "code",
   "execution_count": 2,
   "id": "62e42db6-2adc-488a-9ffc-a2c171a41e60",
   "metadata": {},
   "outputs": [
    {
     "name": "stdout",
     "output_type": "stream",
     "text": [
      "10 9 8 7 6 5 4 3 2 1 "
     ]
    }
   ],
   "source": [
    "#8. reverse a while loop to display number s from 10 -1 \n",
    "# 7 and 8 are copy \n",
    "i = 10 \n",
    "while(i>=1):\n",
    "    print(i, end=\" \")\n",
    "    i = i -1"
   ]
  },
  {
   "cell_type": "code",
   "execution_count": null,
   "id": "016910ed-e087-4793-9189-fb4bab96e5f9",
   "metadata": {},
   "outputs": [],
   "source": []
  },
  {
   "cell_type": "code",
   "execution_count": null,
   "id": "63c411fd-795f-4e6e-b3ed-8c3ef4c89662",
   "metadata": {},
   "outputs": [],
   "source": []
  },
  {
   "cell_type": "code",
   "execution_count": null,
   "id": "a9768688-2ae5-4583-8078-ea28ab51af7b",
   "metadata": {},
   "outputs": [],
   "source": []
  },
  {
   "cell_type": "code",
   "execution_count": null,
   "id": "25bb0d37-ef74-4452-8381-5b5ecff6f4dd",
   "metadata": {},
   "outputs": [],
   "source": []
  },
  {
   "cell_type": "code",
   "execution_count": null,
   "id": "4efa5867-0c13-4dd2-809d-093bd887e99b",
   "metadata": {},
   "outputs": [],
   "source": []
  },
  {
   "cell_type": "code",
   "execution_count": null,
   "id": "cf020a9e-5324-47ba-a674-c1b8eb2e92ed",
   "metadata": {},
   "outputs": [],
   "source": []
  },
  {
   "cell_type": "code",
   "execution_count": null,
   "id": "f9a5286b-1226-47c3-8dae-e5ebfbdfea5f",
   "metadata": {},
   "outputs": [],
   "source": []
  },
  {
   "cell_type": "code",
   "execution_count": null,
   "id": "f636f093-c669-4fbb-91b3-8a5484a06c27",
   "metadata": {},
   "outputs": [],
   "source": []
  },
  {
   "cell_type": "code",
   "execution_count": null,
   "id": "498501a8-98df-4265-a652-d6ae439b804b",
   "metadata": {},
   "outputs": [],
   "source": []
  },
  {
   "cell_type": "code",
   "execution_count": null,
   "id": "535f9260-94aa-4cee-8f7f-6aec7b61c067",
   "metadata": {},
   "outputs": [],
   "source": []
  },
  {
   "cell_type": "code",
   "execution_count": null,
   "id": "7fe2706f-11e0-4ce6-bf4d-aa94a8172f0d",
   "metadata": {},
   "outputs": [],
   "source": []
  },
  {
   "cell_type": "code",
   "execution_count": null,
   "id": "90f3c496-14bc-4b79-908d-c56115ac5f39",
   "metadata": {},
   "outputs": [],
   "source": []
  }
 ],
 "metadata": {
  "kernelspec": {
   "display_name": "Python 3 (ipykernel)",
   "language": "python",
   "name": "python3"
  },
  "language_info": {
   "codemirror_mode": {
    "name": "ipython",
    "version": 3
   },
   "file_extension": ".py",
   "mimetype": "text/x-python",
   "name": "python",
   "nbconvert_exporter": "python",
   "pygments_lexer": "ipython3",
   "version": "3.10.8"
  }
 },
 "nbformat": 4,
 "nbformat_minor": 5
}
