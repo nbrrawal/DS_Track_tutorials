{
 "cells": [
  {
   "cell_type": "code",
   "execution_count": 1,
   "id": "78caa531-3929-4d93-9905-8f2a3e3e930e",
   "metadata": {},
   "outputs": [
    {
     "data": {
      "text/plain": [
       "2"
      ]
     },
     "execution_count": 1,
     "metadata": {},
     "output_type": "execute_result"
    }
   ],
   "source": [
    "1+1"
   ]
  },
  {
   "cell_type": "code",
   "execution_count": 2,
   "id": "3421a776-e8dc-46ae-9058-3c8a863370d7",
   "metadata": {},
   "outputs": [
    {
     "data": {
      "text/plain": [
       "8"
      ]
     },
     "execution_count": 2,
     "metadata": {},
     "output_type": "execute_result"
    }
   ],
   "source": [
    "5+3"
   ]
  },
  {
   "cell_type": "code",
   "execution_count": 3,
   "id": "d3c6bbf7-f38d-452b-9a70-68cba0518361",
   "metadata": {},
   "outputs": [
    {
     "data": {
      "text/plain": [
       "9"
      ]
     },
     "execution_count": 3,
     "metadata": {},
     "output_type": "execute_result"
    }
   ],
   "source": [
    "3*3"
   ]
  },
  {
   "cell_type": "code",
   "execution_count": 4,
   "id": "8c72ca91-bf80-4d54-85fa-4623a0254b62",
   "metadata": {},
   "outputs": [],
   "source": [
    "a=10"
   ]
  },
  {
   "cell_type": "code",
   "execution_count": 5,
   "id": "9856ea94-5535-4a6b-ac98-816ffe8d89bb",
   "metadata": {},
   "outputs": [
    {
     "data": {
      "text/plain": [
       "10"
      ]
     },
     "execution_count": 5,
     "metadata": {},
     "output_type": "execute_result"
    }
   ],
   "source": [
    "a"
   ]
  },
  {
   "cell_type": "code",
   "execution_count": 6,
   "id": "edbba14d-9129-44dd-9c80-9ac7209ef924",
   "metadata": {},
   "outputs": [],
   "source": [
    "test=-a"
   ]
  },
  {
   "cell_type": "code",
   "execution_count": 7,
   "id": "a7d13eca-f800-4816-99d6-2b6dc7912bd1",
   "metadata": {},
   "outputs": [
    {
     "data": {
      "text/plain": [
       "-10"
      ]
     },
     "execution_count": 7,
     "metadata": {},
     "output_type": "execute_result"
    }
   ],
   "source": [
    "test"
   ]
  },
  {
   "cell_type": "code",
   "execution_count": 8,
   "id": "71a8a454-a94f-4c26-9d21-21f1fd7f3544",
   "metadata": {},
   "outputs": [
    {
     "data": {
      "text/plain": [
       "0"
      ]
     },
     "execution_count": 8,
     "metadata": {},
     "output_type": "execute_result"
    }
   ],
   "source": [
    "test+a"
   ]
  },
  {
   "cell_type": "code",
   "execution_count": 18,
   "id": "2769de8f-9538-4866-be45-9e6c23dee3af",
   "metadata": {},
   "outputs": [],
   "source": [
    "a=300000000000000000000\n",
    "b=9223372036854775809"
   ]
  },
  {
   "cell_type": "code",
   "execution_count": 17,
   "id": "9cef8988-4b61-4716-beae-f12c3b116d10",
   "metadata": {},
   "outputs": [
    {
     "data": {
      "text/plain": [
       "int"
      ]
     },
     "execution_count": 17,
     "metadata": {},
     "output_type": "execute_result"
    }
   ],
   "source": [
    "type(b)"
   ]
  },
  {
   "cell_type": "code",
   "execution_count": 19,
   "id": "4c212f5f-e26d-4b26-a95d-896a61da33de",
   "metadata": {},
   "outputs": [],
   "source": [
    "c = 3.54"
   ]
  },
  {
   "cell_type": "code",
   "execution_count": 20,
   "id": "00b02ca1-b1a3-4244-9e34-47927dd3925a",
   "metadata": {},
   "outputs": [
    {
     "data": {
      "text/plain": [
       "float"
      ]
     },
     "execution_count": 20,
     "metadata": {},
     "output_type": "execute_result"
    }
   ],
   "source": [
    "type(c)"
   ]
  },
  {
   "cell_type": "code",
   "execution_count": 21,
   "id": "7e979634-7e0a-449e-86a7-b68d045891d4",
   "metadata": {},
   "outputs": [
    {
     "data": {
      "text/plain": [
       "str"
      ]
     },
     "execution_count": 21,
     "metadata": {},
     "output_type": "execute_result"
    }
   ],
   "source": [
    "d =\"narender\" \n",
    "type(d)"
   ]
  },
  {
   "cell_type": "code",
   "execution_count": 22,
   "id": "06c6ff0e-2b86-4696-a7b7-334a98d3fdf7",
   "metadata": {},
   "outputs": [
    {
     "data": {
      "text/plain": [
       "bool"
      ]
     },
     "execution_count": 22,
     "metadata": {},
     "output_type": "execute_result"
    }
   ],
   "source": [
    "test = True \n",
    "type(test)"
   ]
  },
  {
   "cell_type": "code",
   "execution_count": 23,
   "id": "4c6c279f-d754-4f45-a7be-810cd9a0e43f",
   "metadata": {},
   "outputs": [
    {
     "data": {
      "text/plain": [
       "1"
      ]
     },
     "execution_count": 23,
     "metadata": {},
     "output_type": "execute_result"
    }
   ],
   "source": [
    "m=True\n",
    "n=False\n",
    "m+n"
   ]
  },
  {
   "cell_type": "code",
   "execution_count": 24,
   "id": "6279fac6-99bd-4951-a57d-923083cdbf40",
   "metadata": {},
   "outputs": [
    {
     "data": {
      "text/plain": [
       "1"
      ]
     },
     "execution_count": 24,
     "metadata": {},
     "output_type": "execute_result"
    }
   ],
   "source": [
    "True +  False"
   ]
  },
  {
   "cell_type": "code",
   "execution_count": 25,
   "id": "56a7c8de-697c-41a6-9e8b-63e8e34b060b",
   "metadata": {},
   "outputs": [
    {
     "data": {
      "text/plain": [
       "0"
      ]
     },
     "execution_count": 25,
     "metadata": {},
     "output_type": "execute_result"
    }
   ],
   "source": [
    "True *  False"
   ]
  },
  {
   "cell_type": "code",
   "execution_count": 26,
   "id": "d69be03d-4683-438a-9784-fa12565f76fa",
   "metadata": {},
   "outputs": [
    {
     "ename": "ZeroDivisionError",
     "evalue": "division by zero",
     "output_type": "error",
     "traceback": [
      "\u001b[0;31m---------------------------------------------------------------------------\u001b[0m",
      "\u001b[0;31mZeroDivisionError\u001b[0m                         Traceback (most recent call last)",
      "Cell \u001b[0;32mIn[26], line 1\u001b[0m\n\u001b[0;32m----> 1\u001b[0m \u001b[38;5;28;43;01mTrue\u001b[39;49;00m\u001b[43m \u001b[49m\u001b[38;5;241;43m/\u001b[39;49m\u001b[43m \u001b[49m\u001b[38;5;28;43;01mFalse\u001b[39;49;00m\n",
      "\u001b[0;31mZeroDivisionError\u001b[0m: division by zero"
     ]
    }
   ],
   "source": [
    "True / False"
   ]
  },
  {
   "cell_type": "code",
   "execution_count": 27,
   "id": "48dde7c9-1ba4-487a-9975-a27827cadca5",
   "metadata": {},
   "outputs": [],
   "source": [
    "v = a+8j"
   ]
  },
  {
   "cell_type": "code",
   "execution_count": 28,
   "id": "aefe1b27-4555-4df4-947c-34ca000e8f1d",
   "metadata": {},
   "outputs": [
    {
     "data": {
      "text/plain": [
       "complex"
      ]
     },
     "execution_count": 28,
     "metadata": {},
     "output_type": "execute_result"
    }
   ],
   "source": [
    "type(v)"
   ]
  },
  {
   "cell_type": "code",
   "execution_count": 29,
   "id": "2138203e-40dc-476f-88b6-6d7d23e8f7c7",
   "metadata": {},
   "outputs": [
    {
     "data": {
      "text/plain": [
       "3e+20"
      ]
     },
     "execution_count": 29,
     "metadata": {},
     "output_type": "execute_result"
    }
   ],
   "source": [
    "v.real"
   ]
  },
  {
   "cell_type": "code",
   "execution_count": 30,
   "id": "1552cb1d-f855-4580-977a-25e3705aed91",
   "metadata": {},
   "outputs": [
    {
     "data": {
      "text/plain": [
       "8.0"
      ]
     },
     "execution_count": 30,
     "metadata": {},
     "output_type": "execute_result"
    }
   ],
   "source": [
    "v.imag"
   ]
  },
  {
   "cell_type": "code",
   "execution_count": 31,
   "id": "b55a3952-9def-44d0-ba9c-7463a7f266c5",
   "metadata": {},
   "outputs": [
    {
     "data": {
      "text/plain": [
       "complex"
      ]
     },
     "execution_count": 31,
     "metadata": {},
     "output_type": "execute_result"
    }
   ],
   "source": [
    "type(v)"
   ]
  },
  {
   "cell_type": "code",
   "execution_count": 32,
   "id": "a08920e6-a8a2-4b1f-ae89-574a3383bc22",
   "metadata": {},
   "outputs": [
    {
     "name": "stdout",
     "output_type": "stream",
     "text": [
      "hello world\n"
     ]
    }
   ],
   "source": [
    "print(\"hello world\")"
   ]
  },
  {
   "cell_type": "code",
   "execution_count": 34,
   "id": "d60770cb-4412-4874-9fe0-b97891039a98",
   "metadata": {},
   "outputs": [
    {
     "name": "stdout",
     "output_type": "stream",
     "text": [
      "Hello World\n"
     ]
    }
   ],
   "source": [
    "a = \"World\"\n",
    "print(\"Hello \" + a)"
   ]
  },
  {
   "cell_type": "code",
   "execution_count": 35,
   "id": "ef68a404-e68b-4cec-8502-3e832e2fa450",
   "metadata": {},
   "outputs": [
    {
     "name": "stdout",
     "output_type": "stream",
     "text": [
      "9223372036854775809\n"
     ]
    }
   ],
   "source": [
    "print(b)"
   ]
  },
  {
   "cell_type": "code",
   "execution_count": 36,
   "id": "dd2a1c4c-9f44-4fc3-9e68-b730f103b376",
   "metadata": {},
   "outputs": [
    {
     "name": "stdout",
     "output_type": "stream",
     "text": [
      "(3e+20+8j)\n"
     ]
    }
   ],
   "source": [
    "print(v)"
   ]
  },
  {
   "cell_type": "code",
   "execution_count": 37,
   "id": "54175c5b-2ade-4026-96c9-7fa74f517307",
   "metadata": {},
   "outputs": [],
   "source": [
    "name=\"Narender\""
   ]
  },
  {
   "cell_type": "code",
   "execution_count": 38,
   "id": "e347af8e-8cff-488e-aaef-747c7c59333a",
   "metadata": {},
   "outputs": [
    {
     "data": {
      "text/plain": [
       "str"
      ]
     },
     "execution_count": 38,
     "metadata": {},
     "output_type": "execute_result"
    }
   ],
   "source": [
    "type(name)"
   ]
  },
  {
   "cell_type": "code",
   "execution_count": 39,
   "id": "3861a514-4d09-49e0-bec1-3fd191209cfb",
   "metadata": {},
   "outputs": [
    {
     "data": {
      "text/plain": [
       "'N'"
      ]
     },
     "execution_count": 39,
     "metadata": {},
     "output_type": "execute_result"
    }
   ],
   "source": [
    "name[0]"
   ]
  },
  {
   "cell_type": "code",
   "execution_count": 41,
   "id": "0cc20484-7a6c-4215-9d29-dca5439250ff",
   "metadata": {},
   "outputs": [
    {
     "data": {
      "text/plain": [
       "'N'"
      ]
     },
     "execution_count": 41,
     "metadata": {},
     "output_type": "execute_result"
    }
   ],
   "source": [
    "name[-8]"
   ]
  },
  {
   "cell_type": "code",
   "execution_count": 43,
   "id": "0422bda1-97a7-4981-9044-98813fb5f6a0",
   "metadata": {},
   "outputs": [
    {
     "data": {
      "text/plain": [
       "'Naren'"
      ]
     },
     "execution_count": 43,
     "metadata": {},
     "output_type": "execute_result"
    }
   ],
   "source": [
    "name[0:5]"
   ]
  },
  {
   "cell_type": "code",
   "execution_count": 46,
   "id": "a231f2a9-746d-4ed4-a181-d20233b0d459",
   "metadata": {},
   "outputs": [
    {
     "data": {
      "text/plain": [
       "'Narende'"
      ]
     },
     "execution_count": 46,
     "metadata": {},
     "output_type": "execute_result"
    }
   ],
   "source": [
    "name[0:7:1]"
   ]
  },
  {
   "cell_type": "code",
   "execution_count": 49,
   "id": "ca50b889-cb08-4f1d-8f56-18dfeac6c62f",
   "metadata": {},
   "outputs": [
    {
     "data": {
      "text/plain": [
       "'Nrne'"
      ]
     },
     "execution_count": 49,
     "metadata": {},
     "output_type": "execute_result"
    }
   ],
   "source": [
    "name[0:7:2]"
   ]
  },
  {
   "cell_type": "code",
   "execution_count": 52,
   "id": "639594b0-a0a8-4345-be88-fee885bfd7dd",
   "metadata": {},
   "outputs": [
    {
     "data": {
      "text/plain": [
       "'Nrne'"
      ]
     },
     "execution_count": 52,
     "metadata": {},
     "output_type": "execute_result"
    }
   ],
   "source": [
    "name[::2]"
   ]
  },
  {
   "cell_type": "code",
   "execution_count": 53,
   "id": "b5956928-c7f1-4588-9972-8767652a5eb7",
   "metadata": {},
   "outputs": [
    {
     "data": {
      "text/plain": [
       "'rdea'"
      ]
     },
     "execution_count": 53,
     "metadata": {},
     "output_type": "execute_result"
    }
   ],
   "source": [
    "name[::-2]"
   ]
  },
  {
   "cell_type": "code",
   "execution_count": 54,
   "id": "ef078adf-23d2-4b5f-b615-740a5839c18c",
   "metadata": {},
   "outputs": [
    {
     "data": {
      "text/plain": [
       "'redneraN'"
      ]
     },
     "execution_count": 54,
     "metadata": {},
     "output_type": "execute_result"
    }
   ],
   "source": [
    "name[::-1]"
   ]
  },
  {
   "cell_type": "code",
   "execution_count": 57,
   "id": "9ade4cd4-2627-4a00-81e7-a66635b60619",
   "metadata": {},
   "outputs": [
    {
     "data": {
      "text/plain": [
       "''"
      ]
     },
     "execution_count": 57,
     "metadata": {},
     "output_type": "execute_result"
    }
   ],
   "source": [
    "name[0:7:-1]"
   ]
  },
  {
   "cell_type": "code",
   "execution_count": 1,
   "id": "9f5bb6f0-8615-4474-92bc-c836a8b60c27",
   "metadata": {},
   "outputs": [
    {
     "data": {
      "text/plain": [
       "''"
      ]
     },
     "execution_count": 1,
     "metadata": {},
     "output_type": "execute_result"
    }
   ],
   "source": [
    "s=\"ABCDEFGH\"\n",
    "s[8:0]"
   ]
  },
  {
   "cell_type": "code",
   "execution_count": 72,
   "id": "1dd7c256-7840-496e-8990-210957094836",
   "metadata": {},
   "outputs": [
    {
     "data": {
      "text/plain": [
       "'HGFEDCB'"
      ]
     },
     "execution_count": 72,
     "metadata": {},
     "output_type": "execute_result"
    }
   ],
   "source": [
    "s[9:0:-1]"
   ]
  },
  {
   "cell_type": "code",
   "execution_count": 77,
   "id": "41c648af-1387-43b0-a781-829ab8dcf4de",
   "metadata": {},
   "outputs": [
    {
     "data": {
      "text/plain": [
       "'A'"
      ]
     },
     "execution_count": 77,
     "metadata": {},
     "output_type": "execute_result"
    }
   ],
   "source": [
    "s[0::-1]"
   ]
  },
  {
   "cell_type": "code",
   "execution_count": 71,
   "id": "dcebc5ab-38d0-4ebc-946d-77aa6d27fc8c",
   "metadata": {},
   "outputs": [
    {
     "data": {
      "text/plain": [
       "'HGFEDCBA'"
      ]
     },
     "execution_count": 71,
     "metadata": {},
     "output_type": "execute_result"
    }
   ],
   "source": [
    "s[:-900:-1]"
   ]
  },
  {
   "cell_type": "code",
   "execution_count": 73,
   "id": "5012ab62-dc74-4098-9182-24aa7eea592f",
   "metadata": {},
   "outputs": [
    {
     "data": {
      "text/plain": [
       "'HGFEDCBA'"
      ]
     },
     "execution_count": 73,
     "metadata": {},
     "output_type": "execute_result"
    }
   ],
   "source": [
    "s[::-1]"
   ]
  },
  {
   "cell_type": "code",
   "execution_count": 62,
   "id": "6ae4a705-ffc9-4bf2-af23-ad28a85766a0",
   "metadata": {},
   "outputs": [
    {
     "data": {
      "text/plain": [
       "'GEC'"
      ]
     },
     "execution_count": 62,
     "metadata": {},
     "output_type": "execute_result"
    }
   ],
   "source": [
    "s[-2:-8:-2]"
   ]
  },
  {
   "cell_type": "code",
   "execution_count": 63,
   "id": "e2550507-5644-4191-983f-d4d15b121de9",
   "metadata": {},
   "outputs": [
    {
     "data": {
      "text/plain": [
       "'GECA'"
      ]
     },
     "execution_count": 63,
     "metadata": {},
     "output_type": "execute_result"
    }
   ],
   "source": [
    "s[-2::-2]"
   ]
  },
  {
   "cell_type": "code",
   "execution_count": 65,
   "id": "5ff3da63-5967-4ed4-a181-9e9b490e2338",
   "metadata": {},
   "outputs": [
    {
     "data": {
      "text/plain": [
       "'HGFEDCBA'"
      ]
     },
     "execution_count": 65,
     "metadata": {},
     "output_type": "execute_result"
    }
   ],
   "source": [
    "s[::-1]"
   ]
  },
  {
   "cell_type": "code",
   "execution_count": 66,
   "id": "749d35e2-1835-479a-8410-f57535958d85",
   "metadata": {},
   "outputs": [
    {
     "data": {
      "text/plain": [
       "'A'"
      ]
     },
     "execution_count": 66,
     "metadata": {},
     "output_type": "execute_result"
    }
   ],
   "source": [
    "s[::90]"
   ]
  },
  {
   "cell_type": "code",
   "execution_count": 67,
   "id": "9768a372-cb4c-4c75-a463-bbe5fb2009f4",
   "metadata": {},
   "outputs": [
    {
     "ename": "IndexError",
     "evalue": "string index out of range",
     "output_type": "error",
     "traceback": [
      "\u001b[0;31m---------------------------------------------------------------------------\u001b[0m",
      "\u001b[0;31mIndexError\u001b[0m                                Traceback (most recent call last)",
      "Cell \u001b[0;32mIn[67], line 1\u001b[0m\n\u001b[0;32m----> 1\u001b[0m \u001b[43ms\u001b[49m\u001b[43m[\u001b[49m\u001b[38;5;241;43m90\u001b[39;49m\u001b[43m]\u001b[49m\n",
      "\u001b[0;31mIndexError\u001b[0m: string index out of range"
     ]
    }
   ],
   "source": [
    "s[90]"
   ]
  },
  {
   "cell_type": "code",
   "execution_count": 69,
   "id": "daf3ee9e-be24-4b4d-b197-10aa5efe1367",
   "metadata": {},
   "outputs": [
    {
     "data": {
      "text/plain": [
       "''"
      ]
     },
     "execution_count": 69,
     "metadata": {},
     "output_type": "execute_result"
    }
   ],
   "source": [
    "s[0:-90:]"
   ]
  },
  {
   "cell_type": "code",
   "execution_count": 14,
   "id": "76824a3b-a761-4090-9f25-0bd044fbced4",
   "metadata": {},
   "outputs": [],
   "source": [
    "s=\"Hello world\""
   ]
  },
  {
   "cell_type": "code",
   "execution_count": 15,
   "id": "20984753-fa32-4758-a5a3-3f569845a1c2",
   "metadata": {},
   "outputs": [
    {
     "data": {
      "text/plain": [
       "11"
      ]
     },
     "execution_count": 15,
     "metadata": {},
     "output_type": "execute_result"
    }
   ],
   "source": [
    "len(s)"
   ]
  },
  {
   "cell_type": "code",
   "execution_count": 16,
   "id": "218309cb-288c-4b13-a85a-21670cc52088",
   "metadata": {},
   "outputs": [
    {
     "data": {
      "text/plain": [
       "-1"
      ]
     },
     "execution_count": 16,
     "metadata": {},
     "output_type": "execute_result"
    }
   ],
   "source": [
    "s.find('a')"
   ]
  },
  {
   "cell_type": "code",
   "execution_count": 17,
   "id": "0056c21a-a917-46e7-a051-6f35b97e23ac",
   "metadata": {},
   "outputs": [
    {
     "data": {
      "text/plain": [
       "-1"
      ]
     },
     "execution_count": 17,
     "metadata": {},
     "output_type": "execute_result"
    }
   ],
   "source": [
    "s.find('h')"
   ]
  },
  {
   "cell_type": "code",
   "execution_count": 18,
   "id": "9029654d-d324-4bc1-a261-8b499fa1c822",
   "metadata": {},
   "outputs": [
    {
     "data": {
      "text/plain": [
       "0"
      ]
     },
     "execution_count": 18,
     "metadata": {},
     "output_type": "execute_result"
    }
   ],
   "source": [
    "s.find(\"He\")"
   ]
  },
  {
   "cell_type": "code",
   "execution_count": 19,
   "id": "c82372fa-629d-45b5-8b1f-79805081ddb3",
   "metadata": {},
   "outputs": [
    {
     "data": {
      "text/plain": [
       "3"
      ]
     },
     "execution_count": 19,
     "metadata": {},
     "output_type": "execute_result"
    }
   ],
   "source": [
    "s.count(\"l\")"
   ]
  },
  {
   "cell_type": "code",
   "execution_count": 20,
   "id": "168ccb01-a689-4e4c-8f3d-d2bd94d8316c",
   "metadata": {},
   "outputs": [
    {
     "data": {
      "text/plain": [
       "'HELLO WORLD'"
      ]
     },
     "execution_count": 20,
     "metadata": {},
     "output_type": "execute_result"
    }
   ],
   "source": [
    "s.upper()"
   ]
  },
  {
   "cell_type": "code",
   "execution_count": 21,
   "id": "30065798-84be-46b2-af37-3389e0461698",
   "metadata": {},
   "outputs": [
    {
     "name": "stdout",
     "output_type": "stream",
     "text": [
      "hello world\n"
     ]
    }
   ],
   "source": [
    "s1=s\n",
    "print(s1.lower())"
   ]
  },
  {
   "cell_type": "code",
   "execution_count": 22,
   "id": "3c8aec1f-ab72-413b-a37e-ade5c0948e8e",
   "metadata": {},
   "outputs": [
    {
     "data": {
      "text/plain": [
       "'Hello World'"
      ]
     },
     "execution_count": 22,
     "metadata": {},
     "output_type": "execute_result"
    }
   ],
   "source": [
    "s1.title()"
   ]
  },
  {
   "cell_type": "code",
   "execution_count": 23,
   "id": "d11cd24c-71cd-48ef-ab17-190f128e0b86",
   "metadata": {},
   "outputs": [
    {
     "data": {
      "text/plain": [
       "'Hello world'"
      ]
     },
     "execution_count": 23,
     "metadata": {},
     "output_type": "execute_result"
    }
   ],
   "source": [
    "s1.capitalize()"
   ]
  },
  {
   "cell_type": "code",
   "execution_count": 24,
   "id": "20d73ff9-4cc5-4b69-8af9-46b0896480f2",
   "metadata": {},
   "outputs": [
    {
     "ename": "TypeError",
     "evalue": "can only concatenate str (not \"int\") to str",
     "output_type": "error",
     "traceback": [
      "\u001b[0;31m---------------------------------------------------------------------------\u001b[0m",
      "\u001b[0;31mTypeError\u001b[0m                                 Traceback (most recent call last)",
      "Cell \u001b[0;32mIn[24], line 1\u001b[0m\n\u001b[0;32m----> 1\u001b[0m \u001b[43ms\u001b[49m\u001b[43m \u001b[49m\u001b[38;5;241;43m+\u001b[39;49m\u001b[43m \u001b[49m\u001b[38;5;241;43m1\u001b[39;49m\n",
      "\u001b[0;31mTypeError\u001b[0m: can only concatenate str (not \"int\") to str"
     ]
    }
   ],
   "source": [
    "s + 1"
   ]
  },
  {
   "cell_type": "code",
   "execution_count": 25,
   "id": "c2a0977e-39d4-4f4e-9cf6-418376fe1079",
   "metadata": {},
   "outputs": [
    {
     "data": {
      "text/plain": [
       "'Hello world to you.'"
      ]
     },
     "execution_count": 25,
     "metadata": {},
     "output_type": "execute_result"
    }
   ],
   "source": [
    "s+ \" to you.\""
   ]
  },
  {
   "cell_type": "code",
   "execution_count": 28,
   "id": "1d31303d-aed7-46d7-bbf1-ba03d7777cc3",
   "metadata": {},
   "outputs": [
    {
     "data": {
      "text/plain": [
       "'Hello worldHello worldHello world'"
      ]
     },
     "execution_count": 28,
     "metadata": {},
     "output_type": "execute_result"
    }
   ],
   "source": [
    "s * 3"
   ]
  },
  {
   "cell_type": "code",
   "execution_count": 29,
   "id": "5684ea81-34a6-408a-bdce-053d4d62f260",
   "metadata": {},
   "outputs": [
    {
     "ename": "TypeError",
     "evalue": "unsupported operand type(s) for /: 'str' and 'int'",
     "output_type": "error",
     "traceback": [
      "\u001b[0;31m---------------------------------------------------------------------------\u001b[0m",
      "\u001b[0;31mTypeError\u001b[0m                                 Traceback (most recent call last)",
      "Cell \u001b[0;32mIn[29], line 1\u001b[0m\n\u001b[0;32m----> 1\u001b[0m \u001b[43ms\u001b[49m\u001b[38;5;241;43m/\u001b[39;49m\u001b[38;5;241;43m3\u001b[39;49m\n",
      "\u001b[0;31mTypeError\u001b[0m: unsupported operand type(s) for /: 'str' and 'int'"
     ]
    }
   ],
   "source": [
    "s/3"
   ]
  },
  {
   "cell_type": "code",
   "execution_count": 30,
   "id": "155ded36-87c9-4ec5-b9ca-550a353b54cb",
   "metadata": {},
   "outputs": [
    {
     "data": {
      "text/plain": [
       "'hello'"
      ]
     },
     "execution_count": 30,
     "metadata": {},
     "output_type": "execute_result"
    }
   ],
   "source": [
    "\"hello\""
   ]
  },
  {
   "cell_type": "code",
   "execution_count": 31,
   "id": "e53685b8-1da6-45c3-99f0-cd0d859a15b7",
   "metadata": {},
   "outputs": [
    {
     "data": {
      "text/plain": [
       "'hello'"
      ]
     },
     "execution_count": 31,
     "metadata": {},
     "output_type": "execute_result"
    }
   ],
   "source": [
    "'hello'"
   ]
  },
  {
   "cell_type": "code",
   "execution_count": 32,
   "id": "79ff1b0f-7c64-4b80-80d6-a5cdac04bf9a",
   "metadata": {},
   "outputs": [
    {
     "data": {
      "text/plain": [
       "\"hel'lo\""
      ]
     },
     "execution_count": 32,
     "metadata": {},
     "output_type": "execute_result"
    }
   ],
   "source": [
    "\"hel'lo\""
   ]
  },
  {
   "cell_type": "code",
   "execution_count": 33,
   "id": "8b401546-f65e-4200-b3d4-bdb9055f4fdf",
   "metadata": {},
   "outputs": [
    {
     "ename": "SyntaxError",
     "evalue": "unterminated string literal (detected at line 1) (1085813292.py, line 1)",
     "output_type": "error",
     "traceback": [
      "\u001b[0;36m  Cell \u001b[0;32mIn[33], line 1\u001b[0;36m\u001b[0m\n\u001b[0;31m    'hel'lo'\u001b[0m\n\u001b[0m           ^\u001b[0m\n\u001b[0;31mSyntaxError\u001b[0m\u001b[0;31m:\u001b[0m unterminated string literal (detected at line 1)\n"
     ]
    }
   ],
   "source": [
    "'hel'lo'"
   ]
  },
  {
   "cell_type": "code",
   "execution_count": null,
   "id": "2867f39e-a649-4991-9ce4-663306153726",
   "metadata": {},
   "outputs": [],
   "source": [
    "hi there this is exactly a multi line command \n",
    "sfgfdg dfh dgh gdh d\n",
    "dfg dfg dfg dg fdg dfg dg \n",
    "dfg fdg \n"
   ]
  }
 ],
 "metadata": {
  "kernelspec": {
   "display_name": "Python 3 (ipykernel)",
   "language": "python",
   "name": "python3"
  },
  "language_info": {
   "codemirror_mode": {
    "name": "ipython",
    "version": 3
   },
   "file_extension": ".py",
   "mimetype": "text/x-python",
   "name": "python",
   "nbconvert_exporter": "python",
   "pygments_lexer": "ipython3",
   "version": "3.10.8"
  }
 },
 "nbformat": 4,
 "nbformat_minor": 5
}
