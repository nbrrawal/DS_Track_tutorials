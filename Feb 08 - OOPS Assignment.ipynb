{
 "cells": [
  {
   "cell_type": "markdown",
   "id": "d73e8837-dcd1-4a39-94ed-dc95801092c8",
   "metadata": {},
   "source": [
    "## OOPS Part 1 "
   ]
  },
  {
   "cell_type": "markdown",
   "id": "3b678a41-4522-420c-a4d0-1fd49ad5f8f9",
   "metadata": {},
   "source": [
    "Q1. What is Abstraction in OOps? Explain with an example.\n",
    "A. Abstraction is providing a skeleton class which can be used as a structure and all its functions and variables can be used while providing different functionalities. \n",
    "\n",
    "e.g.  IPL Cricket player dress for different teams will be of different color , different team name, team logos, brands but the color, apparel would be a similar property.   "
   ]
  },
  {
   "cell_type": "code",
   "execution_count": null,
   "id": "8110933f-dcf8-4f1e-8c93-2cf066868105",
   "metadata": {},
   "outputs": [],
   "source": []
  },
  {
   "cell_type": "markdown",
   "id": "63600972-1ca8-4da7-8ca1-737207ef4155",
   "metadata": {},
   "source": [
    "Q2. Differentiate between Abstraction and Encapsulation. Explain with an example.\n",
    "\n",
    "abstraction allows you to provide a flexible structure of class and its attributes whereas encapsuation is hiding certain vital features of a class so that outside world does not see full class information\n"
   ]
  },
  {
   "cell_type": "code",
   "execution_count": null,
   "id": "f4c4f8df-cd44-4185-bc24-c6c2edc5e80f",
   "metadata": {},
   "outputs": [],
   "source": []
  },
  {
   "cell_type": "markdown",
   "id": "d7662052-9378-43fc-bbe4-9f81bc8062d2",
   "metadata": {},
   "source": [
    "Q3. What is abc module in python? Why is it used?"
   ]
  },
  {
   "cell_type": "markdown",
   "id": "17284894-b57f-454a-8d27-be3b21468a92",
   "metadata": {},
   "source": [
    "abc module is used for declaring abstract methods and abstract base class  "
   ]
  },
  {
   "cell_type": "code",
   "execution_count": null,
   "id": "fcc9455d-c614-4a97-9890-af5b23f40792",
   "metadata": {},
   "outputs": [],
   "source": []
  },
  {
   "cell_type": "markdown",
   "id": "48eec8ce-3ef5-4008-9fd5-4130956e6085",
   "metadata": {},
   "source": [
    "Q4. How can we achieve data abstraction?\n",
    "\n",
    "using abc module "
   ]
  },
  {
   "cell_type": "markdown",
   "id": "c4a96012-f761-4d5e-8479-7c18382ffbf3",
   "metadata": {},
   "source": [
    "Q5. Can we create an instance of an abstract class? Explain your answer.\n",
    "\n",
    "No. abstract class only provide skeleton of a class. Abstract class can be inherited in other class and after that we can create its instances."
   ]
  },
  {
   "cell_type": "code",
   "execution_count": null,
   "id": "a0b22d6e-b3e5-4709-8e7b-167214c5ff89",
   "metadata": {},
   "outputs": [],
   "source": []
  },
  {
   "cell_type": "markdown",
   "id": "f67ec5f4-d491-4364-95ee-3976ec29a0f6",
   "metadata": {},
   "source": [
    "\n",
    "Note: Create your assignment in Jupyter notebook and upload it to GitHub & share that GitHub repository\n",
    "link through your dashboard. Make sure the repository is public."
   ]
  },
  {
   "cell_type": "code",
   "execution_count": null,
   "id": "e15fa1f3-5cc3-4e11-b61b-d8dd2aa09004",
   "metadata": {},
   "outputs": [],
   "source": []
  },
  {
   "cell_type": "code",
   "execution_count": null,
   "id": "6dfed369-a029-466c-b18d-aa223ba5158d",
   "metadata": {},
   "outputs": [],
   "source": []
  },
  {
   "cell_type": "code",
   "execution_count": null,
   "id": "087b40ce-2ed2-4c10-bb80-c3b51629b12d",
   "metadata": {},
   "outputs": [],
   "source": []
  },
  {
   "cell_type": "code",
   "execution_count": null,
   "id": "2b407e54-4b32-41c7-ade0-0d3934d17fb1",
   "metadata": {},
   "outputs": [],
   "source": []
  },
  {
   "cell_type": "code",
   "execution_count": null,
   "id": "9a6b1fbe-6a94-4d71-b477-878dc8d16396",
   "metadata": {},
   "outputs": [],
   "source": []
  },
  {
   "cell_type": "code",
   "execution_count": null,
   "id": "37d21170-25ed-4b20-a1cb-c7bca014c45a",
   "metadata": {},
   "outputs": [],
   "source": []
  },
  {
   "cell_type": "code",
   "execution_count": null,
   "id": "90e3171d-b759-45a0-b064-b13f6dd070b5",
   "metadata": {},
   "outputs": [],
   "source": []
  }
 ],
 "metadata": {
  "kernelspec": {
   "display_name": "Python 3 (ipykernel)",
   "language": "python",
   "name": "python3"
  },
  "language_info": {
   "codemirror_mode": {
    "name": "ipython",
    "version": 3
   },
   "file_extension": ".py",
   "mimetype": "text/x-python",
   "name": "python",
   "nbconvert_exporter": "python",
   "pygments_lexer": "ipython3",
   "version": "3.10.8"
  }
 },
 "nbformat": 4,
 "nbformat_minor": 5
}
