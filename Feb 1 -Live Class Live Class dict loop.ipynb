{
 "cells": [
  {
   "cell_type": "code",
   "execution_count": 2,
   "id": "8e3fb7c6-f761-4410-8056-501902261d79",
   "metadata": {},
   "outputs": [],
   "source": [
    "d={}"
   ]
  },
  {
   "cell_type": "code",
   "execution_count": 3,
   "id": "86ac5580-ca9c-477d-bf9e-194805f2fcb2",
   "metadata": {},
   "outputs": [
    {
     "data": {
      "text/plain": [
       "dict"
      ]
     },
     "execution_count": 3,
     "metadata": {},
     "output_type": "execute_result"
    }
   ],
   "source": [
    "type(d)"
   ]
  },
  {
   "cell_type": "code",
   "execution_count": 4,
   "id": "b5d950fc-175c-402b-9ea4-f2236438f3c1",
   "metadata": {},
   "outputs": [
    {
     "data": {
      "text/plain": [
       "{'a': 'apple'}"
      ]
     },
     "execution_count": 4,
     "metadata": {},
     "output_type": "execute_result"
    }
   ],
   "source": [
    "d1={\"a\": \"apple\"}\n",
    "d1"
   ]
  },
  {
   "cell_type": "code",
   "execution_count": 6,
   "id": "ef45d0e6-ed59-48d0-9dfa-7e18c5cdcdf9",
   "metadata": {},
   "outputs": [
    {
     "data": {
      "text/plain": [
       "{'a': 'apple', 'b': 'bat', 'c': 'cat'}"
      ]
     },
     "execution_count": 6,
     "metadata": {},
     "output_type": "execute_result"
    }
   ],
   "source": [
    "d2={\"a\":\"apple\",\"b\":\"bat\", \"c\":\"cat\"}\n",
    "d2"
   ]
  },
  {
   "cell_type": "code",
   "execution_count": 7,
   "id": "b4d1ee21-e3db-4e51-952d-5cc20b784ca0",
   "metadata": {},
   "outputs": [
    {
     "data": {
      "text/plain": [
       "{1: 'one', 2: 'two', '3': 'three'}"
      ]
     },
     "execution_count": 7,
     "metadata": {},
     "output_type": "execute_result"
    }
   ],
   "source": [
    "d3={1:\"one\", 2:\"two\", \"3\":\"three\"}\n",
    "d3"
   ]
  },
  {
   "cell_type": "code",
   "execution_count": 8,
   "id": "b96a722b-36da-4d78-afe4-eae0449e6574",
   "metadata": {},
   "outputs": [
    {
     "ename": "SyntaxError",
     "evalue": "invalid syntax (3612999811.py, line 1)",
     "output_type": "error",
     "traceback": [
      "\u001b[0;36m  Cell \u001b[0;32mIn[8], line 1\u001b[0;36m\u001b[0m\n\u001b[0;31m    d4={@:\"hello\"}\u001b[0m\n\u001b[0m        ^\u001b[0m\n\u001b[0;31mSyntaxError\u001b[0m\u001b[0;31m:\u001b[0m invalid syntax\n"
     ]
    }
   ],
   "source": [
    "d4={@:\"hello\"}"
   ]
  },
  {
   "cell_type": "code",
   "execution_count": 9,
   "id": "be609c41-eca2-43ab-b927-a1baacf88aac",
   "metadata": {},
   "outputs": [
    {
     "data": {
      "text/plain": [
       "{'@': 'hello', '$': 'dollar'}"
      ]
     },
     "execution_count": 9,
     "metadata": {},
     "output_type": "execute_result"
    }
   ],
   "source": [
    "d4={\"@\":\"hello\",\"$\":\"dollar\"}\n",
    "d4"
   ]
  },
  {
   "cell_type": "code",
   "execution_count": 11,
   "id": "01f6d44b-a3ca-4067-8648-1bdfc04a52f5",
   "metadata": {},
   "outputs": [
    {
     "data": {
      "text/plain": [
       "{True: 'True', False: 'false'}"
      ]
     },
     "execution_count": 11,
     "metadata": {},
     "output_type": "execute_result"
    }
   ],
   "source": [
    "d5={True:\"true\", False:\"false\", True:\"True\"}\n",
    "d5"
   ]
  },
  {
   "cell_type": "code",
   "execution_count": 12,
   "id": "80f6f63b-bbd2-4a2a-a07e-ee7fefc3fc9e",
   "metadata": {},
   "outputs": [
    {
     "data": {
      "text/plain": [
       "'True'"
      ]
     },
     "execution_count": 12,
     "metadata": {},
     "output_type": "execute_result"
    }
   ],
   "source": [
    "d5[True]"
   ]
  },
  {
   "cell_type": "code",
   "execution_count": 13,
   "id": "0a3e3088-fc02-4ab2-a2ac-01e0438adb96",
   "metadata": {},
   "outputs": [
    {
     "data": {
      "text/plain": [
       "'one'"
      ]
     },
     "execution_count": 13,
     "metadata": {},
     "output_type": "execute_result"
    }
   ],
   "source": [
    "d3[1]"
   ]
  },
  {
   "cell_type": "code",
   "execution_count": 14,
   "id": "4dff34d5-6bca-45a2-9317-89379f210032",
   "metadata": {},
   "outputs": [
    {
     "data": {
      "text/plain": [
       "{1: [1, 2, 3, 4], 2: (1, 2, 3, 4, 5), 3: {1, 2, 3, 4, 5}}"
      ]
     },
     "execution_count": 14,
     "metadata": {},
     "output_type": "execute_result"
    }
   ],
   "source": [
    "d6={1:[1,2,3,4], 2:(1,2,3,4,5), 3:{1,2,3,4,5}}\n",
    "d6"
   ]
  },
  {
   "cell_type": "code",
   "execution_count": 22,
   "id": "f025f835-e2a4-4c19-9233-b7076c7fdb17",
   "metadata": {},
   "outputs": [
    {
     "data": {
      "text/plain": [
       "{'1': [1, 2, 3, 4], '2': (1, 2, 3, 4, 5), '3': {'a': 1, 'b': 2}}"
      ]
     },
     "execution_count": 22,
     "metadata": {},
     "output_type": "execute_result"
    }
   ],
   "source": [
    "d7={\"1\":[1,2,3,4], \"2\":(1,2,3,4,5), \"3\":{\"a\":1,\"b\":2}}\n",
    "d7"
   ]
  },
  {
   "cell_type": "code",
   "execution_count": 24,
   "id": "a7cc84bc-8c71-437f-aa41-446c3ffebc0a",
   "metadata": {},
   "outputs": [
    {
     "data": {
      "text/plain": [
       "2"
      ]
     },
     "execution_count": 24,
     "metadata": {},
     "output_type": "execute_result"
    }
   ],
   "source": [
    "d7[\"3\"][\"b\"]"
   ]
  },
  {
   "cell_type": "code",
   "execution_count": 25,
   "id": "8be77c75-56a2-4dc5-9303-2f96df4b24bd",
   "metadata": {},
   "outputs": [
    {
     "data": {
      "text/plain": [
       "{'1': [1, 2, 3, 4],\n",
       " '2': (1, 2, 3, 4, 5),\n",
       " '3': {'a': 1, 'b': 2},\n",
       " '4': [4, 5, 6, 7]}"
      ]
     },
     "execution_count": 25,
     "metadata": {},
     "output_type": "execute_result"
    }
   ],
   "source": [
    "d7[\"4\"]=[4,5,6,7]\n",
    "d7"
   ]
  },
  {
   "cell_type": "code",
   "execution_count": 26,
   "id": "e9c1ff70-ba73-4494-8db3-704ed6f97894",
   "metadata": {},
   "outputs": [
    {
     "data": {
      "text/plain": [
       "{'1': [1, 2, 3, 4], '3': {'a': 1, 'b': 2}, '4': [4, 5, 6, 7]}"
      ]
     },
     "execution_count": 26,
     "metadata": {},
     "output_type": "execute_result"
    }
   ],
   "source": [
    "del d7[\"2\"]\n",
    "d7"
   ]
  },
  {
   "cell_type": "code",
   "execution_count": 28,
   "id": "051cc981-8364-4a2a-a062-7e1dfe5a4c67",
   "metadata": {},
   "outputs": [
    {
     "data": {
      "text/plain": [
       "dict_keys([1, 2, 3])"
      ]
     },
     "execution_count": 28,
     "metadata": {},
     "output_type": "execute_result"
    }
   ],
   "source": [
    "d6.keys()"
   ]
  },
  {
   "cell_type": "code",
   "execution_count": 30,
   "id": "66f50fa0-b4f8-4220-ba5d-6dbeff491868",
   "metadata": {},
   "outputs": [
    {
     "data": {
      "text/plain": [
       "dict_items([(1, [1, 2, 3, 4]), (2, (1, 2, 3, 4, 5)), (3, {1, 2, 3, 4, 5})])"
      ]
     },
     "execution_count": 30,
     "metadata": {},
     "output_type": "execute_result"
    }
   ],
   "source": [
    "d6.items()"
   ]
  },
  {
   "cell_type": "code",
   "execution_count": null,
   "id": "d66ab0d3-9947-4dd8-8acd-388c743ffa13",
   "metadata": {},
   "outputs": [],
   "source": [
    "d6.pop()"
   ]
  },
  {
   "cell_type": "code",
   "execution_count": 35,
   "id": "2a4fbeef-4583-40fc-9b67-445714539196",
   "metadata": {},
   "outputs": [
    {
     "name": "stdin",
     "output_type": "stream",
     "text": [
      "enter marks 50\n"
     ]
    },
    {
     "name": "stdout",
     "output_type": "stream",
     "text": [
      "marks greater than 40 and lt 70\n"
     ]
    }
   ],
   "source": [
    "marks=int(input(\"enter marks\"))\n",
    "\n",
    "if marks>90:\n",
    "    print(\"marks greater than 90\")\n",
    "elif marks>70 and marks <= 90:\n",
    "    print(\"marks greater than 70 and <90\")\n",
    "elif marks> 40 and marks<= 70:\n",
    "    print(\"marks greater than 40 and lt 70\")\n",
    "else : \n",
    "    print(\"marks le 40\")\n",
    "    "
   ]
  },
  {
   "cell_type": "code",
   "execution_count": 41,
   "id": "2e5eb043-7556-48cb-9562-ea2e69ac8d29",
   "metadata": {},
   "outputs": [
    {
     "data": {
      "text/plain": [
       "[2, 3, 4, 5, 6, 7, 8]"
      ]
     },
     "execution_count": 41,
     "metadata": {},
     "output_type": "execute_result"
    }
   ],
   "source": [
    "l = [1,2,3,4,5,6,7]\n",
    "l1=[]\n",
    "for i in l : \n",
    "    l1.append(i+1)\n",
    "l1"
   ]
  },
  {
   "cell_type": "code",
   "execution_count": 42,
   "id": "cba94639-ad17-4547-9bbe-cc841efa22d0",
   "metadata": {},
   "outputs": [],
   "source": [
    "l2=[\"a\",\"b\",\"c\",\"d\"]"
   ]
  },
  {
   "cell_type": "code",
   "execution_count": 46,
   "id": "9b333191-701c-4d71-84e0-f067583d81ee",
   "metadata": {},
   "outputs": [
    {
     "data": {
      "text/plain": [
       "['A', 'B', 'C', 'D']"
      ]
     },
     "execution_count": 46,
     "metadata": {},
     "output_type": "execute_result"
    }
   ],
   "source": [
    "l3=[]\n",
    "for i in l2:\n",
    "    l3.append(i.upper())\n",
    "l3"
   ]
  },
  {
   "cell_type": "code",
   "execution_count": 47,
   "id": "073db38d-d0be-43ff-9885-cba364425430",
   "metadata": {},
   "outputs": [
    {
     "data": {
      "text/plain": [
       "str"
      ]
     },
     "execution_count": 47,
     "metadata": {},
     "output_type": "execute_result"
    }
   ],
   "source": [
    "l4=[1,2,3,4,\"a\",\"b\",\"c\", 234.23]\n",
    " "
   ]
  },
  {
   "cell_type": "code",
   "execution_count": 52,
   "id": "4cdcfec8-d718-4018-a68e-b3c16cf3fc61",
   "metadata": {},
   "outputs": [],
   "source": [
    "l1_num = []\n",
    "l2_str = []\n",
    "\n",
    "for i in l4:\n",
    "    if( type(i)==int or type(i)==float): \n",
    "        l1_num.append(i)\n",
    "    else: \n",
    "        l2_str.append(i)\n"
   ]
  },
  {
   "cell_type": "code",
   "execution_count": 53,
   "id": "3082e773-fb52-4a7c-a7f9-b4303b0e3a82",
   "metadata": {},
   "outputs": [
    {
     "data": {
      "text/plain": [
       "[1, 2, 3, 4, 234.23]"
      ]
     },
     "execution_count": 53,
     "metadata": {},
     "output_type": "execute_result"
    }
   ],
   "source": [
    "l1_num"
   ]
  },
  {
   "cell_type": "code",
   "execution_count": 54,
   "id": "fc1221a8-9b30-424c-b767-1ce778e51902",
   "metadata": {},
   "outputs": [
    {
     "data": {
      "text/plain": [
       "['a', 'b', 'c']"
      ]
     },
     "execution_count": 54,
     "metadata": {},
     "output_type": "execute_result"
    }
   ],
   "source": [
    "l2_str"
   ]
  },
  {
   "cell_type": "code",
   "execution_count": null,
   "id": "d96c982e-5f9a-4992-9bb9-4b93c0af8854",
   "metadata": {},
   "outputs": [],
   "source": []
  }
 ],
 "metadata": {
  "kernelspec": {
   "display_name": "Python 3 (ipykernel)",
   "language": "python",
   "name": "python3"
  },
  "language_info": {
   "codemirror_mode": {
    "name": "ipython",
    "version": 3
   },
   "file_extension": ".py",
   "mimetype": "text/x-python",
   "name": "python",
   "nbconvert_exporter": "python",
   "pygments_lexer": "ipython3",
   "version": "3.10.8"
  }
 },
 "nbformat": 4,
 "nbformat_minor": 5
}
