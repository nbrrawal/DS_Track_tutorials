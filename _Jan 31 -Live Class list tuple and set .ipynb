{
 "cells": [
  {
   "cell_type": "code",
   "execution_count": 49,
   "id": "90e1bb2d-85bc-4c6d-bebe-eb6facb408b2",
   "metadata": {},
   "outputs": [
    {
     "data": {
      "text/plain": [
       "[12, 30, 'hello', True, 90.45, 12, (3+5j)]"
      ]
     },
     "execution_count": 49,
     "metadata": {},
     "output_type": "execute_result"
    }
   ],
   "source": [
    "i=[12,30,\"hello\", True, 90.45,12, 3+5j]\n",
    "i"
   ]
  },
  {
   "cell_type": "code",
   "execution_count": 7,
   "id": "820006f3-0751-4426-b49d-6b8831916061",
   "metadata": {},
   "outputs": [
    {
     "data": {
      "text/plain": [
       "list"
      ]
     },
     "execution_count": 7,
     "metadata": {},
     "output_type": "execute_result"
    }
   ],
   "source": [
    "type(i)"
   ]
  },
  {
   "cell_type": "code",
   "execution_count": 10,
   "id": "6ad18b55-fb21-4158-8bdf-d05877cd72d1",
   "metadata": {},
   "outputs": [
    {
     "data": {
      "text/plain": [
       "12"
      ]
     },
     "execution_count": 10,
     "metadata": {},
     "output_type": "execute_result"
    }
   ],
   "source": [
    "i[0]"
   ]
  },
  {
   "cell_type": "code",
   "execution_count": 11,
   "id": "894bc618-1e30-484c-aa8a-709e9c8d9b01",
   "metadata": {},
   "outputs": [
    {
     "ename": "IndexError",
     "evalue": "list index out of range",
     "output_type": "error",
     "traceback": [
      "\u001b[0;31m---------------------------------------------------------------------------\u001b[0m",
      "\u001b[0;31mIndexError\u001b[0m                                Traceback (most recent call last)",
      "Cell \u001b[0;32mIn[11], line 1\u001b[0m\n\u001b[0;32m----> 1\u001b[0m \u001b[43mi\u001b[49m\u001b[43m[\u001b[49m\u001b[38;5;241;43m90\u001b[39;49m\u001b[43m]\u001b[49m\n",
      "\u001b[0;31mIndexError\u001b[0m: list index out of range"
     ]
    }
   ],
   "source": [
    "i[90]"
   ]
  },
  {
   "cell_type": "code",
   "execution_count": 12,
   "id": "7ac95aac-f685-413f-b618-1d6a7389bbfe",
   "metadata": {},
   "outputs": [
    {
     "data": {
      "text/plain": [
       "[(3+5j), 12, 90.45, True, 'hello', 30, 12]"
      ]
     },
     "execution_count": 12,
     "metadata": {},
     "output_type": "execute_result"
    }
   ],
   "source": [
    "i[::-1]"
   ]
  },
  {
   "cell_type": "code",
   "execution_count": 13,
   "id": "0f3a1127-e10c-4fee-b1e3-df879313146f",
   "metadata": {},
   "outputs": [],
   "source": [
    "s='dasdsa'"
   ]
  },
  {
   "cell_type": "code",
   "execution_count": 14,
   "id": "e201c3c0-d849-4352-b500-d6da54f3203b",
   "metadata": {},
   "outputs": [
    {
     "ename": "TypeError",
     "evalue": "can only concatenate str (not \"list\") to str",
     "output_type": "error",
     "traceback": [
      "\u001b[0;31m---------------------------------------------------------------------------\u001b[0m",
      "\u001b[0;31mTypeError\u001b[0m                                 Traceback (most recent call last)",
      "Cell \u001b[0;32mIn[14], line 1\u001b[0m\n\u001b[0;32m----> 1\u001b[0m \u001b[43ms\u001b[49m\u001b[38;5;241;43m+\u001b[39;49m\u001b[43mi\u001b[49m\n",
      "\u001b[0;31mTypeError\u001b[0m: can only concatenate str (not \"list\") to str"
     ]
    }
   ],
   "source": [
    "s+i"
   ]
  },
  {
   "cell_type": "code",
   "execution_count": 15,
   "id": "46771c30-db23-4e38-81ea-e086b85e588d",
   "metadata": {},
   "outputs": [
    {
     "data": {
      "text/plain": [
       "['d', 'a', 's', 'd', 's', 'a']"
      ]
     },
     "execution_count": 15,
     "metadata": {},
     "output_type": "execute_result"
    }
   ],
   "source": [
    "list(s)"
   ]
  },
  {
   "cell_type": "code",
   "execution_count": 20,
   "id": "151652b3-dd2f-44de-8532-11427a5a89e7",
   "metadata": {},
   "outputs": [
    {
     "data": {
      "text/plain": [
       "'he'"
      ]
     },
     "execution_count": 20,
     "metadata": {},
     "output_type": "execute_result"
    }
   ],
   "source": [
    "i[2][0:2]"
   ]
  },
  {
   "cell_type": "code",
   "execution_count": 23,
   "id": "950028c3-4f3d-4072-8d8f-8cacd76fba78",
   "metadata": {},
   "outputs": [
    {
     "data": {
      "text/plain": [
       "[1, 2, 3, 4, 5, 6]"
      ]
     },
     "execution_count": 23,
     "metadata": {},
     "output_type": "execute_result"
    }
   ],
   "source": [
    "a=[1,2,3]\n",
    "a*5\n",
    "b=[4,5,6]\n",
    "a+b"
   ]
  },
  {
   "cell_type": "code",
   "execution_count": 24,
   "id": "d8947101-881d-47d5-96ed-0995ff446a29",
   "metadata": {},
   "outputs": [
    {
     "data": {
      "text/plain": [
       "7"
      ]
     },
     "execution_count": 24,
     "metadata": {},
     "output_type": "execute_result"
    }
   ],
   "source": [
    "len(i)"
   ]
  },
  {
   "cell_type": "code",
   "execution_count": 26,
   "id": "d85c96b7-48b5-4133-96b7-f46e1f6f26b7",
   "metadata": {},
   "outputs": [
    {
     "data": {
      "text/plain": [
       "(3+5j)"
      ]
     },
     "execution_count": 26,
     "metadata": {},
     "output_type": "execute_result"
    }
   ],
   "source": [
    "i[7-1]"
   ]
  },
  {
   "cell_type": "code",
   "execution_count": 27,
   "id": "f4ee069d-ff70-4fea-8c31-f44b6b2545c0",
   "metadata": {},
   "outputs": [],
   "source": [
    "i.append(s)"
   ]
  },
  {
   "cell_type": "code",
   "execution_count": 28,
   "id": "2de8e5cd-ee9e-45fb-bd19-2ec200956023",
   "metadata": {},
   "outputs": [
    {
     "data": {
      "text/plain": [
       "[12, 30, 'hello', True, 90.45, 12, (3+5j), 'dasdsa']"
      ]
     },
     "execution_count": 28,
     "metadata": {},
     "output_type": "execute_result"
    }
   ],
   "source": [
    "i"
   ]
  },
  {
   "cell_type": "code",
   "execution_count": 29,
   "id": "c1b450d6-c02d-410f-be01-384b479b79bd",
   "metadata": {},
   "outputs": [],
   "source": [
    "i.append(a)"
   ]
  },
  {
   "cell_type": "code",
   "execution_count": 30,
   "id": "986e4f21-37c4-463f-8d7c-bcfabed0f3c7",
   "metadata": {},
   "outputs": [
    {
     "data": {
      "text/plain": [
       "[12, 30, 'hello', True, 90.45, 12, (3+5j), 'dasdsa', [1, 2, 3]]"
      ]
     },
     "execution_count": 30,
     "metadata": {},
     "output_type": "execute_result"
    }
   ],
   "source": [
    "i"
   ]
  },
  {
   "cell_type": "code",
   "execution_count": 31,
   "id": "ab0ced39-9dab-422f-9ae7-7830cfb8ba72",
   "metadata": {},
   "outputs": [
    {
     "data": {
      "text/plain": [
       "2"
      ]
     },
     "execution_count": 31,
     "metadata": {},
     "output_type": "execute_result"
    }
   ],
   "source": [
    "i[-1][1]"
   ]
  },
  {
   "cell_type": "code",
   "execution_count": 32,
   "id": "35465431-540f-4693-8d08-64d824e320be",
   "metadata": {},
   "outputs": [
    {
     "ename": "TypeError",
     "evalue": "'int' object is not iterable",
     "output_type": "error",
     "traceback": [
      "\u001b[0;31m---------------------------------------------------------------------------\u001b[0m",
      "\u001b[0;31mTypeError\u001b[0m                                 Traceback (most recent call last)",
      "Cell \u001b[0;32mIn[32], line 1\u001b[0m\n\u001b[0;32m----> 1\u001b[0m \u001b[43mi\u001b[49m\u001b[38;5;241;43m.\u001b[39;49m\u001b[43mextend\u001b[49m\u001b[43m(\u001b[49m\u001b[38;5;241;43m3\u001b[39;49m\u001b[43m)\u001b[49m\n",
      "\u001b[0;31mTypeError\u001b[0m: 'int' object is not iterable"
     ]
    }
   ],
   "source": [
    "i.extend(3)"
   ]
  },
  {
   "cell_type": "code",
   "execution_count": 33,
   "id": "36955726-cf1b-466a-b35b-79b5ab1c4bcf",
   "metadata": {},
   "outputs": [],
   "source": [
    "i.extend(s)"
   ]
  },
  {
   "cell_type": "code",
   "execution_count": 34,
   "id": "f2101ed2-7627-4116-8cec-cd5e9c4851f1",
   "metadata": {},
   "outputs": [
    {
     "data": {
      "text/plain": [
       "[12,\n",
       " 30,\n",
       " 'hello',\n",
       " True,\n",
       " 90.45,\n",
       " 12,\n",
       " (3+5j),\n",
       " 'dasdsa',\n",
       " [1, 2, 3],\n",
       " 'd',\n",
       " 'a',\n",
       " 's',\n",
       " 'd',\n",
       " 's',\n",
       " 'a']"
      ]
     },
     "execution_count": 34,
     "metadata": {},
     "output_type": "execute_result"
    }
   ],
   "source": [
    "i"
   ]
  },
  {
   "cell_type": "code",
   "execution_count": 35,
   "id": "80136e4f-a860-4def-a8c5-88f4b69c5db6",
   "metadata": {},
   "outputs": [],
   "source": [
    "i.insert(0,\"Hi there\")"
   ]
  },
  {
   "cell_type": "code",
   "execution_count": 36,
   "id": "8ceddc81-43b0-41a0-89ad-1f88b59eefa6",
   "metadata": {},
   "outputs": [
    {
     "data": {
      "text/plain": [
       "['Hi there',\n",
       " 12,\n",
       " 30,\n",
       " 'hello',\n",
       " True,\n",
       " 90.45,\n",
       " 12,\n",
       " (3+5j),\n",
       " 'dasdsa',\n",
       " [1, 2, 3],\n",
       " 'd',\n",
       " 'a',\n",
       " 's',\n",
       " 'd',\n",
       " 's',\n",
       " 'a']"
      ]
     },
     "execution_count": 36,
     "metadata": {},
     "output_type": "execute_result"
    }
   ],
   "source": [
    "i"
   ]
  },
  {
   "cell_type": "code",
   "execution_count": 37,
   "id": "1c3c4382-24b8-4502-92e6-c9ec27d0c837",
   "metadata": {},
   "outputs": [],
   "source": [
    "i.insert(-1,\"added -1\")"
   ]
  },
  {
   "cell_type": "code",
   "execution_count": 38,
   "id": "88d47a20-c10a-4863-9407-2835c5dca9ea",
   "metadata": {},
   "outputs": [
    {
     "data": {
      "text/plain": [
       "['Hi there',\n",
       " 12,\n",
       " 30,\n",
       " 'hello',\n",
       " True,\n",
       " 90.45,\n",
       " 12,\n",
       " (3+5j),\n",
       " 'dasdsa',\n",
       " [1, 2, 3],\n",
       " 'd',\n",
       " 'a',\n",
       " 's',\n",
       " 'd',\n",
       " 's',\n",
       " 'added -1',\n",
       " 'a']"
      ]
     },
     "execution_count": 38,
     "metadata": {},
     "output_type": "execute_result"
    }
   ],
   "source": [
    "i"
   ]
  },
  {
   "cell_type": "code",
   "execution_count": 39,
   "id": "1555755d-b8bc-42fa-a6a9-f9972a05896a",
   "metadata": {},
   "outputs": [
    {
     "data": {
      "text/plain": [
       "['Hi there',\n",
       " 12,\n",
       " 30,\n",
       " 'hello',\n",
       " True,\n",
       " 90.45,\n",
       " 12,\n",
       " (3+5j),\n",
       " 'dasdsa',\n",
       " [1, 2, 3],\n",
       " 'd',\n",
       " 'a',\n",
       " 's',\n",
       " 'd',\n",
       " 's',\n",
       " 'added -1']"
      ]
     },
     "execution_count": 39,
     "metadata": {},
     "output_type": "execute_result"
    }
   ],
   "source": [
    "i.pop()\n",
    "i"
   ]
  },
  {
   "cell_type": "code",
   "execution_count": 40,
   "id": "c7febacb-ee33-4d97-bbe1-bc0117d1ed77",
   "metadata": {},
   "outputs": [
    {
     "data": {
      "text/plain": [
       "30"
      ]
     },
     "execution_count": 40,
     "metadata": {},
     "output_type": "execute_result"
    }
   ],
   "source": [
    "i.pop(2)"
   ]
  },
  {
   "cell_type": "code",
   "execution_count": 41,
   "id": "ad8b4129-b3e7-4182-a2df-0986f57e1d02",
   "metadata": {},
   "outputs": [
    {
     "data": {
      "text/plain": [
       "['Hi there',\n",
       " 12,\n",
       " 'hello',\n",
       " True,\n",
       " 90.45,\n",
       " 12,\n",
       " (3+5j),\n",
       " 'dasdsa',\n",
       " [1, 2, 3],\n",
       " 'd',\n",
       " 'a',\n",
       " 's',\n",
       " 'd',\n",
       " 's',\n",
       " 'added -1']"
      ]
     },
     "execution_count": 41,
     "metadata": {},
     "output_type": "execute_result"
    }
   ],
   "source": [
    "i"
   ]
  },
  {
   "cell_type": "code",
   "execution_count": 42,
   "id": "41c33493-57c4-46f4-b63a-6e1560235975",
   "metadata": {},
   "outputs": [],
   "source": [
    "i.remove(12)"
   ]
  },
  {
   "cell_type": "code",
   "execution_count": 43,
   "id": "ba4db0c4-0606-4b95-9043-e936b90a28ac",
   "metadata": {},
   "outputs": [
    {
     "data": {
      "text/plain": [
       "['Hi there',\n",
       " 'hello',\n",
       " True,\n",
       " 90.45,\n",
       " 12,\n",
       " (3+5j),\n",
       " 'dasdsa',\n",
       " [1, 2, 3],\n",
       " 'd',\n",
       " 'a',\n",
       " 's',\n",
       " 'd',\n",
       " 's',\n",
       " 'added -1']"
      ]
     },
     "execution_count": 43,
     "metadata": {},
     "output_type": "execute_result"
    }
   ],
   "source": [
    "i"
   ]
  },
  {
   "cell_type": "code",
   "execution_count": 44,
   "id": "497bdc52-13fb-488e-b943-c73d2a48253d",
   "metadata": {},
   "outputs": [
    {
     "ename": "ValueError",
     "evalue": "list.remove(x): x not in list",
     "output_type": "error",
     "traceback": [
      "\u001b[0;31m---------------------------------------------------------------------------\u001b[0m",
      "\u001b[0;31mValueError\u001b[0m                                Traceback (most recent call last)",
      "Cell \u001b[0;32mIn[44], line 1\u001b[0m\n\u001b[0;32m----> 1\u001b[0m \u001b[43mi\u001b[49m\u001b[38;5;241;43m.\u001b[39;49m\u001b[43mremove\u001b[49m\u001b[43m(\u001b[49m\u001b[38;5;241;43m89\u001b[39;49m\u001b[43m)\u001b[49m\n",
      "\u001b[0;31mValueError\u001b[0m: list.remove(x): x not in list"
     ]
    }
   ],
   "source": [
    "i.remove(89)"
   ]
  },
  {
   "cell_type": "code",
   "execution_count": 45,
   "id": "6b80cff8-9266-4b26-8337-d994a9780617",
   "metadata": {},
   "outputs": [],
   "source": [
    "i[7].remove(2)"
   ]
  },
  {
   "cell_type": "code",
   "execution_count": 46,
   "id": "ce99d9c9-c315-4944-adf4-603c9b631626",
   "metadata": {},
   "outputs": [
    {
     "data": {
      "text/plain": [
       "['Hi there',\n",
       " 'hello',\n",
       " True,\n",
       " 90.45,\n",
       " 12,\n",
       " (3+5j),\n",
       " 'dasdsa',\n",
       " [1, 3],\n",
       " 'd',\n",
       " 'a',\n",
       " 's',\n",
       " 'd',\n",
       " 's',\n",
       " 'added -1']"
      ]
     },
     "execution_count": 46,
     "metadata": {},
     "output_type": "execute_result"
    }
   ],
   "source": [
    "i"
   ]
  },
  {
   "cell_type": "code",
   "execution_count": 50,
   "id": "49f6bc59-ce15-4990-8aab-7a3fc81249c5",
   "metadata": {},
   "outputs": [],
   "source": [
    "i.reverse()"
   ]
  },
  {
   "cell_type": "code",
   "execution_count": 51,
   "id": "4c605a0b-264e-4360-b058-5d74d40d896c",
   "metadata": {},
   "outputs": [
    {
     "data": {
      "text/plain": [
       "[(3+5j), 12, 90.45, True, 'hello', 30, 12]"
      ]
     },
     "execution_count": 51,
     "metadata": {},
     "output_type": "execute_result"
    }
   ],
   "source": [
    "i"
   ]
  },
  {
   "cell_type": "code",
   "execution_count": 52,
   "id": "8a16e71b-b3b0-41ef-884a-c26396ec2008",
   "metadata": {},
   "outputs": [
    {
     "ename": "TypeError",
     "evalue": "'<' not supported between instances of 'int' and 'complex'",
     "output_type": "error",
     "traceback": [
      "\u001b[0;31m---------------------------------------------------------------------------\u001b[0m",
      "\u001b[0;31mTypeError\u001b[0m                                 Traceback (most recent call last)",
      "Cell \u001b[0;32mIn[52], line 1\u001b[0m\n\u001b[0;32m----> 1\u001b[0m i1\u001b[38;5;241m=\u001b[39m\u001b[43mi\u001b[49m\u001b[38;5;241;43m.\u001b[39;49m\u001b[43msort\u001b[49m\u001b[43m(\u001b[49m\u001b[43m)\u001b[49m\n\u001b[1;32m      2\u001b[0m i1\n",
      "\u001b[0;31mTypeError\u001b[0m: '<' not supported between instances of 'int' and 'complex'"
     ]
    }
   ],
   "source": [
    "i1=i.sort()\n",
    "i1"
   ]
  },
  {
   "cell_type": "code",
   "execution_count": 53,
   "id": "69520f0f-7de0-4fc6-a663-aef3a080082a",
   "metadata": {},
   "outputs": [
    {
     "data": {
      "text/plain": [
       "[3, 4, 6, 7, 8]"
      ]
     },
     "execution_count": 53,
     "metadata": {},
     "output_type": "execute_result"
    }
   ],
   "source": [
    "i=[7,8,3,4,6]\n",
    "i.sort()\n",
    "i"
   ]
  },
  {
   "cell_type": "code",
   "execution_count": 56,
   "id": "242634b1-ff40-442a-a343-8473725b8d21",
   "metadata": {},
   "outputs": [
    {
     "ename": "TypeError",
     "evalue": "'<' not supported between instances of 'list' and 'int'",
     "output_type": "error",
     "traceback": [
      "\u001b[0;31m---------------------------------------------------------------------------\u001b[0m",
      "\u001b[0;31mTypeError\u001b[0m                                 Traceback (most recent call last)",
      "Cell \u001b[0;32mIn[56], line 2\u001b[0m\n\u001b[1;32m      1\u001b[0m i\u001b[38;5;241m=\u001b[39m[\u001b[38;5;241m7\u001b[39m,\u001b[38;5;241m8\u001b[39m,\u001b[38;5;241m3\u001b[39m,\u001b[38;5;241m4\u001b[39m,[\u001b[38;5;241m6\u001b[39m,\u001b[38;5;241m2\u001b[39m,\u001b[38;5;241m9\u001b[39m],\u001b[38;5;241m6\u001b[39m]\n\u001b[0;32m----> 2\u001b[0m \u001b[43mi\u001b[49m\u001b[38;5;241;43m.\u001b[39;49m\u001b[43msort\u001b[49m\u001b[43m(\u001b[49m\u001b[43m)\u001b[49m\n\u001b[1;32m      3\u001b[0m i\n",
      "\u001b[0;31mTypeError\u001b[0m: '<' not supported between instances of 'list' and 'int'"
     ]
    }
   ],
   "source": [
    "i=[7,8,3,4,[6,2,9],6]\n",
    "i.sort()\n",
    "i"
   ]
  },
  {
   "cell_type": "code",
   "execution_count": 57,
   "id": "811d5aee-e8c1-4b96-bf0c-c65467535fbf",
   "metadata": {},
   "outputs": [],
   "source": [
    "i=[\"aaa\",\"bbb\",\"ccc\",\"ddd\"]"
   ]
  },
  {
   "cell_type": "code",
   "execution_count": 58,
   "id": "b182998f-05c4-4161-b43f-e8f059520583",
   "metadata": {},
   "outputs": [
    {
     "data": {
      "text/plain": [
       "['aaa', 'bbb', 'ccc', 'ddd']"
      ]
     },
     "execution_count": 58,
     "metadata": {},
     "output_type": "execute_result"
    }
   ],
   "source": [
    "i"
   ]
  },
  {
   "cell_type": "code",
   "execution_count": 60,
   "id": "aebe73c1-5b02-4833-87f8-27cb04d71fe9",
   "metadata": {},
   "outputs": [
    {
     "data": {
      "text/plain": [
       "3"
      ]
     },
     "execution_count": 60,
     "metadata": {},
     "output_type": "execute_result"
    }
   ],
   "source": [
    "i.index(\"ddd\")"
   ]
  },
  {
   "cell_type": "code",
   "execution_count": 61,
   "id": "fe9a1b43-c88e-4515-9d20-ee07ed2279c3",
   "metadata": {},
   "outputs": [
    {
     "data": {
      "text/plain": [
       "1"
      ]
     },
     "execution_count": 61,
     "metadata": {},
     "output_type": "execute_result"
    }
   ],
   "source": [
    "i.count(\"aaa\")"
   ]
  },
  {
   "cell_type": "code",
   "execution_count": 62,
   "id": "0420a4b4-f523-439b-8eab-a32bc4c0d53d",
   "metadata": {},
   "outputs": [
    {
     "data": {
      "text/plain": [
       "'aaa'"
      ]
     },
     "execution_count": 62,
     "metadata": {},
     "output_type": "execute_result"
    }
   ],
   "source": [
    "i[0]"
   ]
  },
  {
   "cell_type": "code",
   "execution_count": 63,
   "id": "328e2a9e-5ff1-42fc-b0ca-8d24744f82e0",
   "metadata": {},
   "outputs": [
    {
     "name": "stdout",
     "output_type": "stream",
     "text": [
      "[4, 8, 1, 9]\n"
     ]
    },
    {
     "data": {
      "text/plain": [
       "[3, 8, 1, 9]"
      ]
     },
     "execution_count": 63,
     "metadata": {},
     "output_type": "execute_result"
    }
   ],
   "source": [
    "j=[4,8,1,9]\n",
    "print(j)\n",
    "j[0]=3\n",
    "j\n"
   ]
  },
  {
   "cell_type": "code",
   "execution_count": 65,
   "id": "04f0bbcd-fb32-40ee-9659-cf43187a6c68",
   "metadata": {},
   "outputs": [
    {
     "data": {
      "text/plain": [
       "'bbb'"
      ]
     },
     "execution_count": 65,
     "metadata": {},
     "output_type": "execute_result"
    }
   ],
   "source": [
    "i[0].replace('a','b')"
   ]
  },
  {
   "cell_type": "code",
   "execution_count": 67,
   "id": "4d85033b-326d-4952-bfb1-6a5d8c947d45",
   "metadata": {},
   "outputs": [],
   "source": [
    "i[0]=i[0].replace('a','ee')"
   ]
  },
  {
   "cell_type": "code",
   "execution_count": 68,
   "id": "0c0560f0-db84-4a64-b7f7-8b4037ab1483",
   "metadata": {},
   "outputs": [
    {
     "data": {
      "text/plain": [
       "['eeeeee', 'bbb', 'ccc', 'ddd']"
      ]
     },
     "execution_count": 68,
     "metadata": {},
     "output_type": "execute_result"
    }
   ],
   "source": [
    "i"
   ]
  },
  {
   "cell_type": "code",
   "execution_count": 69,
   "id": "99556a4c-126d-4c14-8313-ed551f1d629a",
   "metadata": {},
   "outputs": [
    {
     "data": {
      "text/plain": [
       "tuple"
      ]
     },
     "execution_count": 69,
     "metadata": {},
     "output_type": "execute_result"
    }
   ],
   "source": [
    "t=(1,2,3,4,5,\"vvv\",198.23)\n",
    "type(t)\n"
   ]
  },
  {
   "cell_type": "code",
   "execution_count": 70,
   "id": "714e6d43-a92d-417a-a971-d7d793c20da6",
   "metadata": {},
   "outputs": [
    {
     "data": {
      "text/plain": [
       "7"
      ]
     },
     "execution_count": 70,
     "metadata": {},
     "output_type": "execute_result"
    }
   ],
   "source": [
    "len(t)"
   ]
  },
  {
   "cell_type": "code",
   "execution_count": 71,
   "id": "ae26678b-d80b-46fe-bac0-9934eb151d74",
   "metadata": {},
   "outputs": [
    {
     "ename": "TypeError",
     "evalue": "'tuple' object does not support item assignment",
     "output_type": "error",
     "traceback": [
      "\u001b[0;31m---------------------------------------------------------------------------\u001b[0m",
      "\u001b[0;31mTypeError\u001b[0m                                 Traceback (most recent call last)",
      "Cell \u001b[0;32mIn[71], line 1\u001b[0m\n\u001b[0;32m----> 1\u001b[0m \u001b[43mt\u001b[49m\u001b[43m[\u001b[49m\u001b[38;5;241;43m0\u001b[39;49m\u001b[43m]\u001b[49m\u001b[38;5;241m=\u001b[39m\u001b[38;5;241m23432\u001b[39m\n\u001b[1;32m      2\u001b[0m t\n",
      "\u001b[0;31mTypeError\u001b[0m: 'tuple' object does not support item assignment"
     ]
    }
   ],
   "source": [
    "t[0]=23432\n",
    "t"
   ]
  },
  {
   "cell_type": "code",
   "execution_count": 72,
   "id": "4aa1a6ce-55b4-41b8-af17-4481c688cc3c",
   "metadata": {},
   "outputs": [
    {
     "data": {
      "text/plain": [
       "(198.23, 'vvv', 5, 4, 3, 2, 1)"
      ]
     },
     "execution_count": 72,
     "metadata": {},
     "output_type": "execute_result"
    }
   ],
   "source": [
    "t[::-1]"
   ]
  },
  {
   "cell_type": "code",
   "execution_count": 73,
   "id": "937d5e5d-c86e-4b64-ba1a-7c4909da4e3a",
   "metadata": {},
   "outputs": [],
   "source": [
    "d={}"
   ]
  },
  {
   "cell_type": "code",
   "execution_count": 74,
   "id": "a5fb8c30-ff9e-4f1f-a3c6-8e9c559b579e",
   "metadata": {},
   "outputs": [
    {
     "data": {
      "text/plain": [
       "dict"
      ]
     },
     "execution_count": 74,
     "metadata": {},
     "output_type": "execute_result"
    }
   ],
   "source": [
    "type(d)"
   ]
  },
  {
   "cell_type": "code",
   "execution_count": 75,
   "id": "0e308785-8b1c-432c-b4e8-f977a0b0c6a6",
   "metadata": {},
   "outputs": [
    {
     "data": {
      "text/plain": [
       "set"
      ]
     },
     "execution_count": 75,
     "metadata": {},
     "output_type": "execute_result"
    }
   ],
   "source": [
    "d={2,3,4,5,6}\n",
    "type(d)"
   ]
  },
  {
   "cell_type": "code",
   "execution_count": 76,
   "id": "315b5a38-c139-4ec9-a152-b59fc9b7f8c5",
   "metadata": {},
   "outputs": [
    {
     "data": {
      "text/plain": [
       "set"
      ]
     },
     "execution_count": 76,
     "metadata": {},
     "output_type": "execute_result"
    }
   ],
   "source": [
    "d={12321,34,\"acd\",\"\",(1,2,3), 234.23}\n",
    "type(d)"
   ]
  },
  {
   "cell_type": "code",
   "execution_count": 77,
   "id": "ac8f7753-ecd4-4c47-bf78-3045f21a84c6",
   "metadata": {},
   "outputs": [
    {
     "ename": "TypeError",
     "evalue": "unhashable type: 'list'",
     "output_type": "error",
     "traceback": [
      "\u001b[0;31m---------------------------------------------------------------------------\u001b[0m",
      "\u001b[0;31mTypeError\u001b[0m                                 Traceback (most recent call last)",
      "Cell \u001b[0;32mIn[77], line 1\u001b[0m\n\u001b[0;32m----> 1\u001b[0m d\u001b[38;5;241m=\u001b[39m{\u001b[38;5;241m12321\u001b[39m,\u001b[38;5;241m34\u001b[39m,\u001b[38;5;124m\"\u001b[39m\u001b[38;5;124macd\u001b[39m\u001b[38;5;124m\"\u001b[39m,\u001b[38;5;124m\"\u001b[39m\u001b[38;5;124m\"\u001b[39m,[\u001b[38;5;241m1\u001b[39m,\u001b[38;5;241m2\u001b[39m,\u001b[38;5;241m3\u001b[39m], \u001b[38;5;241m234.23\u001b[39m}\n",
      "\u001b[0;31mTypeError\u001b[0m: unhashable type: 'list'"
     ]
    }
   ],
   "source": [
    "d={12321,34,\"acd\",\"\",[1,2,3], 234.23}\n"
   ]
  },
  {
   "cell_type": "code",
   "execution_count": 78,
   "id": "57a1030b-fc15-4c54-a0b9-2288eb52d8c7",
   "metadata": {},
   "outputs": [],
   "source": [
    "s={1,2,3,4,4,5,6,7,8,5,0,0}"
   ]
  },
  {
   "cell_type": "code",
   "execution_count": 79,
   "id": "752c1cf0-642e-48f8-a7a4-37c048233dd2",
   "metadata": {},
   "outputs": [
    {
     "data": {
      "text/plain": [
       "{0, 1, 2, 3, 4, 5, 6, 7, 8}"
      ]
     },
     "execution_count": 79,
     "metadata": {},
     "output_type": "execute_result"
    }
   ],
   "source": [
    "s"
   ]
  },
  {
   "cell_type": "code",
   "execution_count": 80,
   "id": "5dd19a85-b403-4222-8942-1266879cd58c",
   "metadata": {},
   "outputs": [
    {
     "data": {
      "text/plain": [
       "set"
      ]
     },
     "execution_count": 80,
     "metadata": {},
     "output_type": "execute_result"
    }
   ],
   "source": [
    "type(s)"
   ]
  },
  {
   "cell_type": "code",
   "execution_count": 81,
   "id": "afd0ca3b-7d07-40b7-8524-0827652b7d48",
   "metadata": {},
   "outputs": [
    {
     "data": {
      "text/plain": [
       "{2, 3, 4, 5, 'Test', 'test'}"
      ]
     },
     "execution_count": 81,
     "metadata": {},
     "output_type": "execute_result"
    }
   ],
   "source": [
    "s1={2,3,4,5,5,'test', \"Test\"}\n",
    "s1"
   ]
  },
  {
   "cell_type": "code",
   "execution_count": 82,
   "id": "d24519c7-4294-45ec-a0f4-6d726a58b498",
   "metadata": {},
   "outputs": [
    {
     "data": {
      "text/plain": [
       "{2, 3, 4, 5, 'Test', 'test'}"
      ]
     },
     "execution_count": 82,
     "metadata": {},
     "output_type": "execute_result"
    }
   ],
   "source": [
    "set(s1)"
   ]
  },
  {
   "cell_type": "code",
   "execution_count": 83,
   "id": "8cc74e95-0fcf-4226-b5ae-9d884d059bcf",
   "metadata": {},
   "outputs": [
    {
     "data": {
      "text/plain": [
       "{23, 2342, 23423, 3454, 5234, 'Asda', 'asda'}"
      ]
     },
     "execution_count": 83,
     "metadata": {},
     "output_type": "execute_result"
    }
   ],
   "source": [
    "s2={23423,3454,23423,23,5234,\"asda\",\"Asda\",2342}\n",
    "s2"
   ]
  },
  {
   "cell_type": "code",
   "execution_count": 84,
   "id": "f4e1bf30-57c8-4fe1-89ba-da559f7dac13",
   "metadata": {},
   "outputs": [
    {
     "ename": "TypeError",
     "evalue": "'set' object is not subscriptable",
     "output_type": "error",
     "traceback": [
      "\u001b[0;31m---------------------------------------------------------------------------\u001b[0m",
      "\u001b[0;31mTypeError\u001b[0m                                 Traceback (most recent call last)",
      "Cell \u001b[0;32mIn[84], line 1\u001b[0m\n\u001b[0;32m----> 1\u001b[0m \u001b[43ms2\u001b[49m\u001b[43m[\u001b[49m\u001b[38;5;241;43m0\u001b[39;49m\u001b[43m]\u001b[49m\n",
      "\u001b[0;31mTypeError\u001b[0m: 'set' object is not subscriptable"
     ]
    }
   ],
   "source": [
    "s2[0]"
   ]
  },
  {
   "cell_type": "code",
   "execution_count": null,
   "id": "ccfb30a9-de73-45a8-8d14-02b7b2d1d24f",
   "metadata": {},
   "outputs": [],
   "source": []
  }
 ],
 "metadata": {
  "kernelspec": {
   "display_name": "Python 3 (ipykernel)",
   "language": "python",
   "name": "python3"
  },
  "language_info": {
   "codemirror_mode": {
    "name": "ipython",
    "version": 3
   },
   "file_extension": ".py",
   "mimetype": "text/x-python",
   "name": "python",
   "nbconvert_exporter": "python",
   "pygments_lexer": "ipython3",
   "version": "3.10.8"
  }
 },
 "nbformat": 4,
 "nbformat_minor": 5
}
