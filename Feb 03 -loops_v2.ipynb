{
 "cells": [
  {
   "cell_type": "markdown",
   "id": "a4ea497e-761a-4bd9-bd24-ba8ea5ba3371",
   "metadata": {},
   "source": [
    "### Feb -2 -Loop example "
   ]
  },
  {
   "cell_type": "markdown",
   "id": "689d0c6e-b15f-4887-9011-1bc7d71d3140",
   "metadata": {},
   "source": [
    "#Q1.  Explain with an example each when to use a for loop and a while loop.\n"
   ]
  },
  {
   "cell_type": "code",
   "execution_count": 18,
   "id": "cd7258df-ef29-4336-9c31-27293e7df3ba",
   "metadata": {},
   "outputs": [
    {
     "name": "stdout",
     "output_type": "stream",
     "text": [
      "for loop example\n",
      "10\n",
      "20\n",
      "30\n",
      "40\n",
      "50\n",
      "60\n",
      "70\n",
      "80\n",
      "90\n",
      "100\n",
      "while  loop example only printing till 50\n",
      "1\n",
      "11\n",
      "21\n",
      "31\n",
      "41\n",
      "51\n",
      "61\n",
      "71\n",
      "81\n",
      "91\n"
     ]
    }
   ],
   "source": [
    "# for loop should be used when you know how many times you need to iterate \n",
    "# while is used when you wish to break the loop using a condition \n",
    "\n",
    "print(\"for loop example\") \n",
    "\n",
    "lst_for_loop =  [10, 20, 30, 40, 50, 60, 70 , 80, 90 , 100]\n",
    "\n",
    "for i in lst_for_loop: \n",
    "    print(i)\n",
    "\n",
    "print(\"while  loop example only printing till 50\") \n",
    "lst_while = [10, 20, 30, 40, 50, 60, 70 , 80, 90 , 100]\n",
    "\n",
    "#using while loopto print only till 50  \n",
    "i = 1\n",
    "while (i <=100):\n",
    "    if i == 50: \n",
    "        break\n",
    "    else:\n",
    "        print(i)\n",
    "    i = i +10"
   ]
  },
  {
   "cell_type": "markdown",
   "id": "e75f515d-8dba-4359-a706-c6d3c75d007d",
   "metadata": {},
   "source": [
    "#Q2.  Write a python program to print the sum and product of the first 10 natural numbers using for\n",
    "and while loop."
   ]
  },
  {
   "cell_type": "code",
   "execution_count": 4,
   "id": "fb8c1bdc-7353-4fed-a959-efdaf05808ad",
   "metadata": {},
   "outputs": [
    {
     "name": "stdout",
     "output_type": "stream",
     "text": [
      "\n",
      "****************** For loop example ********************\n",
      "\n",
      "Total sum using for loop is  55\n",
      "Total product using for loop is  3628800\n",
      "\n",
      "******************While loop example********************\n",
      "\n",
      "Total sum using for loop is  55\n",
      "Total product using for loop is  3628800\n"
     ]
    }
   ],
   "source": [
    "#print first 10 natural numbers using for loop \n",
    "print(\"\\n****************** For loop example ********************\\n\")\n",
    "total_sum= 0 \n",
    "total_product =1  \n",
    "for i in range(1,11): \n",
    "    total_sum= total_sum+ i \n",
    "    total_product= total_product* i \n",
    "\n",
    "print(\"Total sum using for loop is \", total_sum)\n",
    "print(\"Total product using for loop is \", total_product)\n",
    "\n",
    "print(\"\\n******************While loop example********************\\n\")\n",
    "#print first 10 natural numbers using while loop\n",
    "total_sum= 0 \n",
    "total_product =1  \n",
    "i =1 \n",
    "while(i<11):\n",
    "    total_sum= total_sum+ i \n",
    "    total_product= total_product* i \n",
    "    i = i +1 \n",
    "print(\"Total sum using for loop is \", total_sum)\n",
    "print(\"Total product using for loop is \", total_product)\n"
   ]
  },
  {
   "cell_type": "markdown",
   "id": "83bd3568-c57f-46b8-8469-61f728eeeaff",
   "metadata": {},
   "source": [
    "#Q3. Create a python program to compute the electricity bill for a household.\n",
    "\n",
    "You are required to take the units of electricity consumed in a month from the user as input.\n",
    "\n",
    "Your program must pass this test case: when the unit of electricity consumed by the user in a month is\n",
    "310, the total electricity bill should be 2250.\n",
    "\n",
    "<br>The per-unit charges in rupees are as follows: For the first 100 units, the user will be charged Rs. 4.5 per\n",
    "unit, for the next 100 units, the user will be charged Rs. 6 per unit, and for the next 100 units, the user will\n",
    "be charged Rs. 10 per unit, After 300 units and above the user will be charged Rs. 20 per unit."
   ]
  },
  {
   "cell_type": "code",
   "execution_count": 53,
   "id": "2f1faa9b-e8fa-43a0-8386-6ad697a6b076",
   "metadata": {},
   "outputs": [
    {
     "name": "stdin",
     "output_type": "stream",
     "text": [
      "please enter total units 310\n"
     ]
    },
    {
     "data": {
      "text/plain": [
       "2250.0"
      ]
     },
     "execution_count": 53,
     "metadata": {},
     "output_type": "execute_result"
    }
   ],
   "source": [
    "###\n",
    "total_units = int(input(\"please enter total units\"))\n",
    "left_units=total_units  \n",
    "total_charge = 0 \n",
    "if left_units > 100:\n",
    "    total_charge = 100*4.5 \n",
    "    left_units = left_units-100\n",
    "if left_units > 100:\n",
    "    total_charge += 100*6 \n",
    "    left_units = left_units-100\n",
    "if left_units > 100:\n",
    "    total_charge += 100*10 \n",
    "    left_units = left_units-100\n",
    "if left_units > 0:\n",
    "    total_charge += left_units*20 \n",
    "\n",
    "total_charge"
   ]
  },
  {
   "cell_type": "markdown",
   "id": "d40aab6f-f11b-413d-b238-3113ba1db59f",
   "metadata": {},
   "source": [
    "#Q4. Create a list of numbers from 1 to 100. Use for loop and while loop to calculate the cube of each\n",
    "number and if the cube of that number is divisible by 4 or 5 then append that number in a list and print\n",
    "that list."
   ]
  },
  {
   "cell_type": "code",
   "execution_count": 36,
   "id": "796309d7-51e1-447e-9b9e-d5d4eddcd3e7",
   "metadata": {},
   "outputs": [
    {
     "data": {
      "text/plain": [
       "[2,\n",
       " 4,\n",
       " 5,\n",
       " 6,\n",
       " 8,\n",
       " 10,\n",
       " 12,\n",
       " 14,\n",
       " 15,\n",
       " 16,\n",
       " 18,\n",
       " 20,\n",
       " 22,\n",
       " 24,\n",
       " 25,\n",
       " 26,\n",
       " 28,\n",
       " 30,\n",
       " 32,\n",
       " 34,\n",
       " 35,\n",
       " 36,\n",
       " 38,\n",
       " 40,\n",
       " 42,\n",
       " 44,\n",
       " 45,\n",
       " 46,\n",
       " 48,\n",
       " 50,\n",
       " 52,\n",
       " 54,\n",
       " 55,\n",
       " 56,\n",
       " 58,\n",
       " 60,\n",
       " 62,\n",
       " 64,\n",
       " 65,\n",
       " 66,\n",
       " 68,\n",
       " 70,\n",
       " 72,\n",
       " 74,\n",
       " 75,\n",
       " 76,\n",
       " 78,\n",
       " 80,\n",
       " 82,\n",
       " 84,\n",
       " 85,\n",
       " 86,\n",
       " 88,\n",
       " 90,\n",
       " 92,\n",
       " 94,\n",
       " 95,\n",
       " 96,\n",
       " 98,\n",
       " 100]"
      ]
     },
     "execution_count": 36,
     "metadata": {},
     "output_type": "execute_result"
    }
   ],
   "source": [
    "#creating the list of number using for loop\n",
    "lst_number= [i for i in range(1,100)]\n",
    "\n",
    "lst_cube=[]\n",
    "i = 1 \n",
    "while (i <= 100):\n",
    "    if (i ** 3 %4 ==0) or (i **3 %5 ==0):\n",
    "        lst_cube.append(i)\n",
    "    i = i + 1 \n",
    "\n",
    "lst_cube"
   ]
  },
  {
   "cell_type": "markdown",
   "id": "d6b9a49a-142e-4fcc-8876-b7fb3ad04352",
   "metadata": {},
   "source": [
    "#Q5.  Write a program to filter count vowels in the below-given string. \n"
   ]
  },
  {
   "cell_type": "code",
   "execution_count": 6,
   "id": "bfdd6dd6-9635-4882-94e7-510e5db8d7e7",
   "metadata": {},
   "outputs": [
    {
     "name": "stdout",
     "output_type": "stream",
     "text": [
      "total vowel count in the string is  12\n"
     ]
    }
   ],
   "source": [
    "string = \"I want to become a data scientist\"\n",
    "\n",
    "lst_vowel = [\"a\",\"e\",\"i\",\"o\",\"u\", \"A\",\"E\",\"I\",\"O\",\"U\"] \n",
    "\n",
    "count = 0\n",
    "for i in string: \n",
    "    if i  in lst_vowel:\n",
    "        count+= 1\n",
    "\n",
    "print(\"Total vowel count in the string is \" ,count)"
   ]
  },
  {
   "cell_type": "code",
   "execution_count": null,
   "id": "e3987ea6-8139-4c62-bc6c-6d98c8755fb2",
   "metadata": {},
   "outputs": [],
   "source": []
  },
  {
   "cell_type": "code",
   "execution_count": null,
   "id": "2a10d0d2-2cc6-421e-a5c9-b484e6291d31",
   "metadata": {},
   "outputs": [],
   "source": []
  },
  {
   "cell_type": "code",
   "execution_count": null,
   "id": "df18f5c5-19fc-41c5-9063-318824787495",
   "metadata": {},
   "outputs": [],
   "source": []
  },
  {
   "cell_type": "code",
   "execution_count": null,
   "id": "9c4f5f23-7c45-49d3-a8c6-0d19fc7cbc69",
   "metadata": {},
   "outputs": [],
   "source": []
  },
  {
   "cell_type": "code",
   "execution_count": null,
   "id": "dd1ad457-8915-49de-b1d6-06f9a93f2210",
   "metadata": {},
   "outputs": [],
   "source": []
  },
  {
   "cell_type": "code",
   "execution_count": null,
   "id": "ab70b6e6-5866-4332-a53c-4aff55337f27",
   "metadata": {},
   "outputs": [],
   "source": []
  }
 ],
 "metadata": {
  "kernelspec": {
   "display_name": "Python 3 (ipykernel)",
   "language": "python",
   "name": "python3"
  },
  "language_info": {
   "codemirror_mode": {
    "name": "ipython",
    "version": 3
   },
   "file_extension": ".py",
   "mimetype": "text/x-python",
   "name": "python",
   "nbconvert_exporter": "python",
   "pygments_lexer": "ipython3",
   "version": "3.10.8"
  }
 },
 "nbformat": 4,
 "nbformat_minor": 5
}
