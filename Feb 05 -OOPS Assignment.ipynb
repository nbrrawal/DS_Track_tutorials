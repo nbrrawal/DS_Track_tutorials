{
 "cells": [
  {
   "cell_type": "markdown",
   "id": "5b46e990-5d70-417c-b9a5-bd7c5fc64493",
   "metadata": {},
   "source": [
    "#Q1. Explain Class and Object with respect to Object-Oriented Programming. Give a suitable example."
   ]
  },
  {
   "cell_type": "code",
   "execution_count": 11,
   "id": "cc800692-e03d-4436-90f0-be1916d3fe45",
   "metadata": {},
   "outputs": [
    {
     "name": "stdout",
     "output_type": "stream",
     "text": [
      "Car obj of color : Red  , make is  Maruti Swift Lxi    and price -  6.5  lac Rs.\n",
      "Car obj of color : Blue  , make is  Hundai Verna Sedan   and price -  14.5  lac Rs.\n"
     ]
    }
   ],
   "source": [
    "# Object is instance of a class. \n",
    "\n",
    "class car: \n",
    "    def __init__(self, color, make, price ):\n",
    "        self.color = color\n",
    "        self.make= make\n",
    "        self.price = price\n",
    "        \n",
    "    def print_car_details(self):\n",
    "        print(\"Car obj of color :\",self.color, \" , make is \", self.make, \"  and price - \", self.price , \" lac Rs.\")\n",
    "\n",
    "obj_car = car(\"Red\", \"Maruti Swift Lxi \", 6.5)\n",
    "obj_car.print_car_details()\n",
    "\n",
    "obj_car = car(\"Blue\", \"Hundai Verna Sedan\", 14.5)\n",
    "obj_car.print_car_details()"
   ]
  },
  {
   "cell_type": "markdown",
   "id": "9caa170e-6874-4d5a-bb0a-84c3f60a51e7",
   "metadata": {},
   "source": [
    "#Q2. Name the four pillars of OOPs."
   ]
  },
  {
   "cell_type": "code",
   "execution_count": null,
   "id": "14c7e159-ffec-4575-9eb9-3a43a0fa9845",
   "metadata": {},
   "outputs": [],
   "source": [
    "#Abstraction\n",
    "#Encapsulation\n",
    "#Inheritance\n",
    "#Polymorphism"
   ]
  },
  {
   "cell_type": "markdown",
   "id": "e7a99752-063c-4ae8-b5a4-1ade9b227e74",
   "metadata": {},
   "source": [
    "#Q3. Explain why the __init__() function is used. Give a suitable example."
   ]
  },
  {
   "cell_type": "code",
   "execution_count": 14,
   "id": "dff91837-3f86-40c6-ba1b-8272bee446c7",
   "metadata": {},
   "outputs": [
    {
     "name": "stdout",
     "output_type": "stream",
     "text": [
      "This value is set in constructor\n"
     ]
    }
   ],
   "source": [
    "#__init__ is used to initialise the values of a class \n",
    "\n",
    "class cls: \n",
    "    def __init__(self): \n",
    "        self.cls_variable = \"This value is set in constructor\"\n",
    "    \n",
    "    def print_cls_variable(self): \n",
    "        print(self.cls_variable)\n",
    "\n",
    "        \n",
    "clsobj = cls()\n",
    "clsobj.print_cls_variable()\n"
   ]
  },
  {
   "cell_type": "markdown",
   "id": "214e6c71-e616-49f5-82fc-c8011a051f6b",
   "metadata": {},
   "source": [
    "#Q4. Why self is used in OOPs?\n",
    "\n",
    "#Answer -  to bind the variables to the class  "
   ]
  },
  {
   "cell_type": "markdown",
   "id": "3341581d-8441-4832-b04b-df792ea010db",
   "metadata": {},
   "source": [
    "#Q5. What is inheritance? Give an example for each type of inheritance."
   ]
  },
  {
   "cell_type": "code",
   "execution_count": 15,
   "id": "2a81d679-7c89-44c0-bab6-92b23d38d6fc",
   "metadata": {},
   "outputs": [],
   "source": [
    "#Q5. What is inheritance? Give an example for each type of inheritance."
   ]
  },
  {
   "cell_type": "markdown",
   "id": "b4eb4121-2e9e-4b8e-8aae-92f2b7bf5392",
   "metadata": {
    "tags": []
   },
   "source": [
    "#### Inhertance is used to inherit function, properties of a class, below is differnt types of inheritance\n",
    "\n",
    "#Single Inheritance: A > B\n",
    "\n",
    "#Multiple Inheritance: A B > C\n",
    "\n",
    "#Multilevel Inheritance : A > B > C\n",
    "\n",
    "#Hierarchical Inheritance:  A > B C D \n",
    "\n",
    "#Hybrid Inheritance:  A > B C > D E "
   ]
  },
  {
   "cell_type": "code",
   "execution_count": 3,
   "id": "fb5182c0-7f2a-48dc-9dd8-1c764ae99845",
   "metadata": {},
   "outputs": [
    {
     "name": "stdout",
     "output_type": "stream",
     "text": [
      "this is son class\n"
     ]
    }
   ],
   "source": [
    "#Single Inheritance: A>B \n",
    "class father : \n",
    "    def print_function(self):\n",
    "        print(\"this is father class\")\n",
    "\n",
    "class son(father) : \n",
    "    def print_function(self):\n",
    "        print(\"this is son class\")\n",
    "\n",
    "son_obj = son()\n",
    "\n",
    "son_obj.print_function()"
   ]
  },
  {
   "cell_type": "code",
   "execution_count": 5,
   "id": "9ff72a5f-76cb-42b1-9493-e576d7001362",
   "metadata": {},
   "outputs": [
    {
     "name": "stdout",
     "output_type": "stream",
     "text": [
      "this is father class\n",
      "this is mother class\n",
      "this is son class\n"
     ]
    }
   ],
   "source": [
    "#Multiple Inheritance: A B > c  \n",
    "class father : \n",
    "    def print_function_father(self):\n",
    "        print(\"this is father class\")\n",
    "\n",
    "class mother : \n",
    "    def print_function_mother(self):\n",
    "        print(\"this is mother class\")\n",
    "\n",
    "class son(father, mother) : \n",
    "    def print_function_son(self):\n",
    "        print(\"this is son class\")\n",
    "\n",
    "son_obj = son()\n",
    "\n",
    "son_obj.print_function_father()\n",
    "son_obj.print_function_mother()\n",
    "son_obj.print_function_son()"
   ]
  },
  {
   "cell_type": "code",
   "execution_count": 6,
   "id": "d370ca48-8113-449e-b890-216910b1b1b5",
   "metadata": {},
   "outputs": [
    {
     "name": "stdout",
     "output_type": "stream",
     "text": [
      "this is father class\n",
      "this is son class\n",
      "this is grand son class\n"
     ]
    }
   ],
   "source": [
    "#Multiple Inheritance: A B > c  \n",
    "class father : \n",
    "    def print_function_father(self):\n",
    "        print(\"this is father class\")\n",
    "\n",
    "class son (father): \n",
    "    def print_function_son(self):\n",
    "        print(\"this is son class\")\n",
    "\n",
    "class grandson(son) : \n",
    "    def print_function_grandson(self):\n",
    "        print(\"this is grand son class\")\n",
    "\n",
    "grandson_obj = grandson()\n",
    "\n",
    "grandson_obj.print_function_father()\n",
    "grandson_obj.print_function_son()\n",
    "grandson_obj.print_function_grandson()"
   ]
  },
  {
   "cell_type": "code",
   "execution_count": 7,
   "id": "52a87767-0cba-4e08-99f5-d67eeb86ca83",
   "metadata": {},
   "outputs": [
    {
     "name": "stdout",
     "output_type": "stream",
     "text": [
      "this is first son class\n",
      "this is second son class\n"
     ]
    }
   ],
   "source": [
    "#Hierarchical Inheritance: A > B C \n",
    "\n",
    "class father : \n",
    "    def print_function_father(self):\n",
    "        print(\"this is father class\")\n",
    "\n",
    "class first_son(father): \n",
    "    def print_function_firstson(self):\n",
    "        print(\"this is first son class\")\n",
    "\n",
    "class second_son(father): \n",
    "    def print_function_secondson(self):\n",
    "        print(\"this is second son class\")\n",
    "\n",
    "first_son_obj =  first_son()\n",
    "second_son_obj =  second_son()\n",
    "\n",
    "first_son_obj.print_function_firstson()\n",
    "second_son_obj.print_function_secondson()\n",
    "\n"
   ]
  },
  {
   "cell_type": "code",
   "execution_count": 19,
   "id": "a769bd78-c75f-48c0-8583-2759c66f14db",
   "metadata": {},
   "outputs": [
    {
     "name": "stdout",
     "output_type": "stream",
     "text": [
      "this is first son class\n",
      "this is second son class\n",
      "this is first_grandson class\n",
      "this is second_son class\n"
     ]
    }
   ],
   "source": [
    "#Hybrid Inheritance: \n",
    "#grandfather \n",
    "# > first_son \n",
    "# > second_son \n",
    "## >> first_grandson \n",
    "## >> second_grandson\n",
    "\n",
    "class grandfather : \n",
    "    def print_function_grandfather(self):\n",
    "        print(\"this is grandfather class\")\n",
    "\n",
    "class first_son(grandfather):\n",
    "    def print_function_firstson(self):\n",
    "        print(\"this is first son class\")\n",
    "class second_son(grandfather):\n",
    "    def print_function_secondson(self):\n",
    "        print(\"this is second son class\")\n",
    "\n",
    "class first_grandson(first_son):\n",
    "    def print_function_first_grandson(self):\n",
    "        print(\"this is first_grandson class\")\n",
    "class second_grandson(second_son):\n",
    "    def print_function_second_grandson(self):\n",
    "        print(\"this is second_son class\")\n",
    "\n",
    "first_son_obj =  first_son()\n",
    "second_son_obj =  second_son()\n",
    "\n",
    "first_son_obj.print_function_firstson()\n",
    "second_son_obj.print_function_secondson()\n",
    "\n",
    "first_grandson_obj = first_grandson()\n",
    "second_grandson_obj = second_grandson()\n",
    "\n",
    "first_grandson_obj.print_function_first_grandson()\n",
    "second_grandson_obj.print_function_second_grandson()\n"
   ]
  },
  {
   "cell_type": "code",
   "execution_count": null,
   "id": "4cf6a79b-ccaf-4297-83e9-83623c85eeb7",
   "metadata": {},
   "outputs": [],
   "source": []
  }
 ],
 "metadata": {
  "kernelspec": {
   "display_name": "Python 3 (ipykernel)",
   "language": "python",
   "name": "python3"
  },
  "language_info": {
   "codemirror_mode": {
    "name": "ipython",
    "version": 3
   },
   "file_extension": ".py",
   "mimetype": "text/x-python",
   "name": "python",
   "nbconvert_exporter": "python",
   "pygments_lexer": "ipython3",
   "version": "3.10.8"
  }
 },
 "nbformat": 4,
 "nbformat_minor": 5
}
