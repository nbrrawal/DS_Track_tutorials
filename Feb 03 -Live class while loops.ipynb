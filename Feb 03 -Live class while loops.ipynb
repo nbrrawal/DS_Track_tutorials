{
 "cells": [
  {
   "cell_type": "code",
   "execution_count": 2,
   "id": "ddace2ef-ce11-4087-a3ee-1ff6f1916a83",
   "metadata": {},
   "outputs": [
    {
     "name": "stdout",
     "output_type": "stream",
     "text": [
      "1\n",
      "2\n",
      "3\n",
      "4\n",
      "5\n",
      "6\n",
      "7\n",
      "8\n",
      "9\n",
      "10\n"
     ]
    }
   ],
   "source": [
    "#Q1. Explain with an example each when to use a for loop and a while loop.\n",
    "\n",
    "a=1\n",
    "while(a<=10):\n",
    "    print(a)\n",
    "    a =a +1"
   ]
  },
  {
   "cell_type": "code",
   "execution_count": 3,
   "id": "cbb9e128-823f-4e41-baec-13a8402a600f",
   "metadata": {},
   "outputs": [
    {
     "name": "stdin",
     "output_type": "stream",
     "text": [
      "Please input limit  5\n"
     ]
    },
    {
     "data": {
      "text/plain": [
       "15"
      ]
     },
     "execution_count": 3,
     "metadata": {},
     "output_type": "execute_result"
    }
   ],
   "source": [
    "#sum up the numbers \n",
    "n = int(input(\"Please input limit \"))\n",
    "\n",
    "start_point = 0 \n",
    "end_point = 40\n",
    "\n",
    "_sum = 0 \n",
    "counter = 1 \n",
    "\n",
    "while(counter <= n):\n",
    "    _sum=_sum + counter\n",
    "    counter = counter + 1  \n",
    "_sum"
   ]
  },
  {
   "cell_type": "code",
   "execution_count": 5,
   "id": "74fda3b6-4d53-480b-b0c4-ea9cd445828c",
   "metadata": {},
   "outputs": [
    {
     "name": "stdin",
     "output_type": "stream",
     "text": [
      "Enter number 5\n"
     ]
    },
    {
     "data": {
      "text/plain": [
       "120"
      ]
     },
     "execution_count": 5,
     "metadata": {},
     "output_type": "execute_result"
    }
   ],
   "source": [
    "#factorial \n",
    "number = int(input(\"Enter number\"))\n",
    "\n",
    "factorial = 1 \n",
    "\n",
    "while( number > 0): \n",
    "    factorial = factorial * number \n",
    "    number = number - 1  \n",
    "\n",
    "factorial "
   ]
  },
  {
   "cell_type": "code",
   "execution_count": 8,
   "id": "6a352997-b950-4600-8f72-c1f40276fe77",
   "metadata": {},
   "outputs": [
    {
     "name": "stdin",
     "output_type": "stream",
     "text": [
      " Enter input number  9\n"
     ]
    },
    {
     "name": "stdout",
     "output_type": "stream",
     "text": [
      "0\n",
      "1\n",
      "1\n",
      "2\n",
      "3\n",
      "5\n",
      "8\n",
      "13\n",
      "21\n"
     ]
    }
   ],
   "source": [
    "number = int(input(\" Enter input number \"))\n",
    "\n",
    "counter = 0\n",
    "a, b = 0, 1\n",
    "while(counter < number): \n",
    "    print(a) \n",
    "    c = a + b \n",
    "    a = b \n",
    "    b = c\n",
    "    counter = counter + 1 "
   ]
  },
  {
   "cell_type": "code",
   "execution_count": 9,
   "id": "056a534e-7632-4a65-8ccc-f2372cbec302",
   "metadata": {},
   "outputs": [
    {
     "name": "stdout",
     "output_type": "stream",
     "text": [
      "0\n",
      "1\n",
      "2\n",
      "3\n",
      "4\n",
      "5\n",
      "6\n",
      "7\n",
      "8\n",
      "9\n"
     ]
    }
   ],
   "source": [
    "a, b, = 0, 1\n",
    "\n",
    "for i in range(10):\n",
    "    print(i)\n",
    "    c = a + b \n",
    "    a = b \n",
    "    b = c"
   ]
  },
  {
   "cell_type": "code",
   "execution_count": 10,
   "id": "3ae4a464-2e97-410d-af31-0de9729fc5f7",
   "metadata": {},
   "outputs": [
    {
     "data": {
      "text/plain": [
       "'hgfedcba'"
      ]
     },
     "execution_count": 10,
     "metadata": {},
     "output_type": "execute_result"
    }
   ],
   "source": [
    "s=\"abcdefgh\"\n",
    "s[::-1]"
   ]
  },
  {
   "cell_type": "code",
   "execution_count": 13,
   "id": "a0634b52-27eb-4981-a527-86ca8e90ff42",
   "metadata": {},
   "outputs": [
    {
     "name": "stdin",
     "output_type": "stream",
     "text": [
      "enter your word abcd\n"
     ]
    },
    {
     "data": {
      "text/plain": [
       "'dcba'"
      ]
     },
     "execution_count": 13,
     "metadata": {},
     "output_type": "execute_result"
    }
   ],
   "source": [
    "word = input(\"enter your word\")\n",
    "reverse= \"\"\n",
    "length = len(word)\n",
    "\n",
    "while(length > 0):\n",
    "    reverse = reverse + word[length-1] \n",
    "    length = length - 1 \n",
    "\n",
    "reverse      "
   ]
  },
  {
   "cell_type": "code",
   "execution_count": 17,
   "id": "de5366b4-7f9d-400f-9432-f2e34ceaf603",
   "metadata": {},
   "outputs": [
    {
     "name": "stdin",
     "output_type": "stream",
     "text": [
      "please enter number 4\n"
     ]
    },
    {
     "name": "stdout",
     "output_type": "stream",
     "text": [
      "4  *  1  =  4\n",
      "4  *  2  =  8\n",
      "4  *  3  =  12\n",
      "4  *  4  =  16\n",
      "4  *  5  =  20\n",
      "4  *  6  =  24\n",
      "4  *  7  =  28\n",
      "4  *  8  =  32\n",
      "4  *  9  =  36\n",
      "4  *  10  =  40\n"
     ]
    }
   ],
   "source": [
    "# table of numbers \n",
    "\n",
    "number = int(input(\"please enter number\"))\n",
    "i =1 \n",
    "while i <= 10 : \n",
    "    print( number , \" * \", i , \" = \", number * i )\n",
    "    i = i + 1 "
   ]
  },
  {
   "cell_type": "code",
   "execution_count": 18,
   "id": "f5c8eab8-d9b7-49a9-979f-570e3496bc39",
   "metadata": {},
   "outputs": [
    {
     "name": "stdin",
     "output_type": "stream",
     "text": [
      "please enter number 7\n"
     ]
    },
    {
     "name": "stdout",
     "output_type": "stream",
     "text": [
      "7  *  1  =  7\n",
      "7  *  2  =  14\n",
      "7  *  3  =  21\n",
      "7  *  4  =  28\n",
      "7  *  5  =  35\n",
      "7  *  6  =  42\n",
      "7  *  7  =  49\n",
      "7  *  8  =  56\n",
      "7  *  9  =  63\n",
      "7  *  10  =  70\n",
      "table complete\n"
     ]
    }
   ],
   "source": [
    "# table of numbers \n",
    "\n",
    "number = int(input(\"please enter number\"))\n",
    "i =1 \n",
    "while i <= 10 : \n",
    "    print( number , \" * \", i , \" = \", number * i )\n",
    "    i = i + 1 \n",
    "else: \n",
    "    print(\"table complete\")"
   ]
  },
  {
   "cell_type": "code",
   "execution_count": 21,
   "id": "27bb2a58-8250-43d3-9d87-5f2cb6e68d00",
   "metadata": {},
   "outputs": [
    {
     "name": "stdin",
     "output_type": "stream",
     "text": [
      "please enter number 7\n"
     ]
    },
    {
     "name": "stdout",
     "output_type": "stream",
     "text": [
      "1\n",
      "2\n",
      "3\n"
     ]
    }
   ],
   "source": [
    "# table of numbers \n",
    "#break statement does not allow exeution and also for else \n",
    "\n",
    "number = int(input(\"please enter number\"))\n",
    "i =1 \n",
    "while i <= 10 :\n",
    "    print(i)\n",
    "    if i == 3 : \n",
    "        break\n",
    "    i = i + 1\n",
    "else :\n",
    "    print(\"code complete\")"
   ]
  },
  {
   "cell_type": "code",
   "execution_count": null,
   "id": "2d8c8b2b-8c06-4fc4-bf72-d57b5a6839d1",
   "metadata": {},
   "outputs": [],
   "source": []
  }
 ],
 "metadata": {
  "kernelspec": {
   "display_name": "Python 3 (ipykernel)",
   "language": "python",
   "name": "python3"
  },
  "language_info": {
   "codemirror_mode": {
    "name": "ipython",
    "version": 3
   },
   "file_extension": ".py",
   "mimetype": "text/x-python",
   "name": "python",
   "nbconvert_exporter": "python",
   "pygments_lexer": "ipython3",
   "version": "3.10.8"
  }
 },
 "nbformat": 4,
 "nbformat_minor": 5
}
