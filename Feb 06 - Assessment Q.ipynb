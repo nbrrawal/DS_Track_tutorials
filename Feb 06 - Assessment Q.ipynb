{
 "cells": [
  {
   "cell_type": "markdown",
   "id": "8ae2e7f3-c03a-4b8a-aed0-24bc8388d1df",
   "metadata": {},
   "source": [
    " \n",
    "Q1. Create a function which will take a list as an argument and return the product of all the numbers  after creating a flat list. \n",
    "Use the below-given list as an argument for your function. \n",
    "list1 = [1,2,3,4, [44,55,66, True], False, (34,56,78,89,34), {1,2,3,3,2,1}, {1:34, \"key2\": [55, 67, 78, 89], 4: (45,  22, 61, 34)}, [56, 'data science'], 'Machine Learning'] \n",
    "Note: you must extract numeric keys and values of the dictionary also. \n",
    "\n"
   ]
  },
  {
   "cell_type": "code",
   "execution_count": 107,
   "id": "661523e4-54c1-40cc-bd0c-dd385440198a",
   "metadata": {},
   "outputs": [
    {
     "name": "stdout",
     "output_type": "stream",
     "text": [
      "[1, 2, 3, 4, [44, 55, 66, True], False, (34, 56, 78, 89, 34), {1, 2, 3}, {1: 34, 'key2': [55, 67, 78, 89], 4: (45, 22, 61, 34)}, [56, 'data science'], 'Machine Learning']\n",
      "Full list  [1, 2, 3, 4, 44, 55, 66, 34, 56, 78, 89, 34, 1, 2, 3, 34, 55, 67, 78, 89, 45, 22, 61, 34, 56]\n",
      "total sum = 1033677959746771369708460310528000\n"
     ]
    }
   ],
   "source": [
    "nested_list =[1,2,3,4, [44,55,66, True], False, (34,56,78,89,34), {1,2,3,3,2,1}, {1:34, \"key2\": [55, 67, 78, 89], 4: (45, 22, 61, 34)}, [56, 'data science'], 'Machine Learning']\n",
    "\n",
    "list_final=[]\n",
    "for i in nested_list:\n",
    "    if type(i) == int: \n",
    "        list_final.append(i)\n",
    "    elif type(i) == list or type(i) == set  :\n",
    "        for k in i:\n",
    "            list_final.append(k)\n",
    "    elif  type(i) == tuple : \n",
    "        for t in i:\n",
    "            list_final.append(t)        \n",
    "    elif type(i) == dict :\n",
    "        for l in i.values():\n",
    "            if type(l) == tuple:\n",
    "                for k in l:\n",
    "                    list_final.append(k)\n",
    "            else: \n",
    "                list_final.append(l)\n",
    "\n",
    "full_in_lst = []\n",
    "for n in list_final:\n",
    "    if type(n) == int: \n",
    "        full_in_lst.append(n)\n",
    "    elif type(n)==list:\n",
    "        for o in n:\n",
    "            full_in_lst.append(o)\n",
    "\n",
    "total_sum = 1\n",
    "\n",
    "for i in full_in_lst: \n",
    "    total_sum= total_sum * i\n",
    "\n",
    "print(nested_list)\n",
    "print(\"Full list \", full_in_lst)\n",
    "print(\"total sum =\", total_sum)"
   ]
  },
  {
   "cell_type": "markdown",
   "id": "56f8b561-5d8d-4051-86e6-c8d25f9c5928",
   "metadata": {},
   "source": [
    "Q2. Write a python program for encrypting a message sent to you by your friend. The logic of encryption  should be such that, for a the output should be z. For b, the output should be y. For c, the output should  be x respectively. Also, the whitespace should be replaced with a dollar sign. Keep the punctuation  marks unchanged. \n",
    "Input Sentence: I want to become a Data Scientist. \n",
    "Encrypt the above input sentence using the program you just created. \n",
    "Note: Convert the given input sentence into lowercase before encrypting. The final output should be  lowercase. \n",
    "Note: Create your assignment in Jupyter notebook and upload it to GitHub & share that GitHub repository   link through your dashboard. \n",
    "Data Science Masters"
   ]
  },
  {
   "cell_type": "code",
   "execution_count": 36,
   "id": "5e71bd8a-1317-4272-9fff-a2edd5baacec",
   "metadata": {},
   "outputs": [
    {
     "name": "stdout",
     "output_type": "stream",
     "text": [
      "Old string :  I Want to become a Data Scientist\n",
      "New string :  R$Dzmg$gl$yvxlnv$z$Wzgz$Hxrvmgrhg\n"
     ]
    }
   ],
   "source": [
    "lst = \"\"\n",
    "for i in word:\n",
    "    if ord(i) >= 65 and ord(i) < 90:\n",
    "        lst+=chr(65 + 90 - ord(i))\n",
    "        #print( i ,'=', ord(i),  \"-\",  chr(65 + 90 - ord(i)) )\n",
    "    elif ord(i) >= 97 and ord(i) <= 122:\n",
    "        lst+=chr(122 + 97 - ord(i)   )\n",
    "    elif ord(i) == 32:\n",
    "        lst += chr(36)\n",
    "    else :\n",
    "        lst += chr(i)\n",
    "print(\"Old string : \", word)\n",
    "print(\"New string : \", lst)"
   ]
  },
  {
   "cell_type": "code",
   "execution_count": 34,
   "id": "1beb66bc-fa01-4952-b719-5b9aaae920db",
   "metadata": {},
   "outputs": [],
   "source": [
    "#word = \"I Want to become a Data Scientist\"\n",
    "\n",
    "#lst_a=[]\n",
    "#for i in range(26): \n",
    "#    print(65+i, ' -', chr(65 + i), (90-i), '-', chr(90- i), \"     ###########     \",97+i, ' -', chr(97 + i), (122-i), '-', chr(122- i))"
   ]
  },
  {
   "cell_type": "code",
   "execution_count": null,
   "id": "e7ffa2a4-4372-4860-8aea-c94bd563f271",
   "metadata": {},
   "outputs": [],
   "source": []
  },
  {
   "cell_type": "code",
   "execution_count": null,
   "id": "be17fdf2-2dca-4b0c-b233-088493534b49",
   "metadata": {},
   "outputs": [],
   "source": []
  },
  {
   "cell_type": "code",
   "execution_count": null,
   "id": "f4082b38-edbd-49c0-a366-e0cc039358ef",
   "metadata": {},
   "outputs": [],
   "source": []
  },
  {
   "cell_type": "code",
   "execution_count": null,
   "id": "b20d094a-87a3-4465-b275-c69bfa752108",
   "metadata": {},
   "outputs": [],
   "source": []
  },
  {
   "cell_type": "code",
   "execution_count": null,
   "id": "8c600d3e-6708-41d6-ad2f-276c0814eb43",
   "metadata": {},
   "outputs": [],
   "source": []
  },
  {
   "cell_type": "code",
   "execution_count": null,
   "id": "38dbd0a6-39cf-4663-8968-998eb90c45f1",
   "metadata": {},
   "outputs": [],
   "source": []
  }
 ],
 "metadata": {
  "kernelspec": {
   "display_name": "Python 3 (ipykernel)",
   "language": "python",
   "name": "python3"
  },
  "language_info": {
   "codemirror_mode": {
    "name": "ipython",
    "version": 3
   },
   "file_extension": ".py",
   "mimetype": "text/x-python",
   "name": "python",
   "nbconvert_exporter": "python",
   "pygments_lexer": "ipython3",
   "version": "3.10.8"
  }
 },
 "nbformat": 4,
 "nbformat_minor": 5
}
