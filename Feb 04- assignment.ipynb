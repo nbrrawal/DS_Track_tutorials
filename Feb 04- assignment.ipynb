{
 "cells": [
  {
   "cell_type": "markdown",
   "id": "67699628-d392-4a2b-bf08-6bd4194c82d5",
   "metadata": {},
   "source": [
    "#Q1. Create a python program to sort the given list of tuples based on integer value using a\n",
    "lambda function.\n",
    "[('Sachin Tendulkar', 34357), ('Ricky Ponting', 27483), ('Jack Kallis', 25534), ('Virat Kohli', 24936)]\n"
   ]
  },
  {
   "cell_type": "code",
   "execution_count": 20,
   "id": "c29e07f5-2267-4473-b6f5-724e4576ed16",
   "metadata": {},
   "outputs": [
    {
     "data": {
      "text/plain": [
       "[('Virat Kohli', 24936),\n",
       " ('Jack Kallis', 25534),\n",
       " ('Ricky Ponting', 27483),\n",
       " ('Sachin Tendulkar', 34357)]"
      ]
     },
     "execution_count": 20,
     "metadata": {},
     "output_type": "execute_result"
    }
   ],
   "source": [
    "lst = [('Sachin Tendulkar', 34357), ('Ricky Ponting', 27483), ('Jack Kallis', 25534), ('Virat Kohli', 24936)]\n",
    "\n",
    "from operator import itemgetter \n",
    "\n",
    "sorted_lambda = lambda x: sorted(x, key=itemgetter(1)) \n",
    "\n",
    "sorted_lambda(lst)"
   ]
  },
  {
   "cell_type": "markdown",
   "id": "55e30e6e-eb88-4ced-a0e9-a3f3db05f320",
   "metadata": {},
   "source": [
    "#Q2. Write a Python Program to find the squares of all the numbers in the given list of integers using\n",
    "lambda and map functions.\n",
    "[1, 2, 3, 4, 5, 6, 7, 8, 9, 10]"
   ]
  },
  {
   "cell_type": "code",
   "execution_count": 31,
   "id": "92232f16-c19c-4fe5-830e-96e2e6619d26",
   "metadata": {},
   "outputs": [
    {
     "data": {
      "text/plain": [
       "[1, 4, 9, 16, 25, 36, 49, 64, 81, 100]"
      ]
     },
     "execution_count": 31,
     "metadata": {},
     "output_type": "execute_result"
    }
   ],
   "source": [
    "lst = [1,2,3,4,5,6,7,8,9,10]\n",
    "\n",
    "list(map(lambda x:x**2 , lst))"
   ]
  },
  {
   "cell_type": "markdown",
   "id": "b4808a3b-ac74-40bc-b917-5d4557f6d69b",
   "metadata": {},
   "source": [
    "#Q3. Write a python program to convert the given list of integers into a tuple of strings. Use map and\n",
    "lambda functions\n",
    "Given String: [1, 2, 3, 4, 5, 6, 7, 8, 9, 10]\n",
    "Expected output: ('1', '2', '3', '4', '5', '6', '7', '8', '9', '10')\n"
   ]
  },
  {
   "cell_type": "code",
   "execution_count": 35,
   "id": "f129950b-d69b-422e-b7f0-cf45eb368fe5",
   "metadata": {},
   "outputs": [
    {
     "data": {
      "text/plain": [
       "('1', '2', '3', '4', '5', '6', '7', '8', '9', '10')"
      ]
     },
     "execution_count": 35,
     "metadata": {},
     "output_type": "execute_result"
    }
   ],
   "source": [
    "str_fn = lambda x : str(x)\n",
    "\n",
    "str_tuple = tuple(map(str, lst))\n",
    "\n",
    "str_tuple"
   ]
  },
  {
   "cell_type": "markdown",
   "id": "5d747164-9355-4be3-b957-692f5bb08474",
   "metadata": {},
   "source": [
    "#Q4. Write a python program using reduce function to compute the product of a list containing numbers\n",
    "from 1 to 25.\n"
   ]
  },
  {
   "cell_type": "code",
   "execution_count": 53,
   "id": "01ab55e3-762b-437f-a918-8ec78e1d6913",
   "metadata": {},
   "outputs": [
    {
     "data": {
      "text/plain": [
       "15511210043330985984000000"
      ]
     },
     "execution_count": 53,
     "metadata": {},
     "output_type": "execute_result"
    }
   ],
   "source": [
    "from functools import reduce \n",
    "lst=[i for i in  range(1,26)]\n",
    "\n",
    "reduce(lambda x , y: x*y, lst)"
   ]
  },
  {
   "cell_type": "markdown",
   "id": "568763b0-c5a9-43d0-8424-c84e850d6011",
   "metadata": {},
   "source": [
    "#Q5. Write a python program to filter the numbers in a given list that are divisible by 2 and 3 using the\n",
    "filter function.\n",
    "[2, 3, 6, 9, 27, 60, 90, 120, 55, 46]\n"
   ]
  },
  {
   "cell_type": "code",
   "execution_count": 51,
   "id": "23e298ce-7320-460a-b2af-42fb8d001a5b",
   "metadata": {},
   "outputs": [
    {
     "data": {
      "text/plain": [
       "[6, 60, 90, 120]"
      ]
     },
     "execution_count": 51,
     "metadata": {},
     "output_type": "execute_result"
    }
   ],
   "source": [
    "lst2 = [2, 3, 6, 9, 27, 60, 90, 120, 55, 46]\n",
    "\n",
    "list(filter(lambda x: x%2 == 0 and x%3==0, lst2 )) "
   ]
  },
  {
   "cell_type": "markdown",
   "id": "132f453e-8063-48b8-a530-34cff855ebc9",
   "metadata": {},
   "source": [
    "#Q6. Write a python program to find palindromes in the given list of strings using lambda and filter\n",
    "function.\n",
    "['python', 'php', 'aba', 'radar', 'level']"
   ]
  },
  {
   "cell_type": "code",
   "execution_count": 57,
   "id": "ed12b129-3468-4495-b55c-b69a4c525d68",
   "metadata": {},
   "outputs": [
    {
     "data": {
      "text/plain": [
       "['aba', 'bab']"
      ]
     },
     "execution_count": 57,
     "metadata": {},
     "output_type": "execute_result"
    }
   ],
   "source": [
    "lst_str = [\"abc\", \"aba\", \"abcde\", \"bab\", \"dec\"]\n",
    "\n",
    "list(filter( lambda x: x==x[::-1], lst_str))"
   ]
  },
  {
   "cell_type": "code",
   "execution_count": null,
   "id": "26099ef9-7c8c-4197-86d5-1ff4d9c2d93a",
   "metadata": {},
   "outputs": [],
   "source": []
  },
  {
   "cell_type": "code",
   "execution_count": null,
   "id": "5bb65452-72c9-4aaa-bd87-29faeb74e54c",
   "metadata": {},
   "outputs": [],
   "source": []
  }
 ],
 "metadata": {
  "kernelspec": {
   "display_name": "Python 3 (ipykernel)",
   "language": "python",
   "name": "python3"
  },
  "language_info": {
   "codemirror_mode": {
    "name": "ipython",
    "version": 3
   },
   "file_extension": ".py",
   "mimetype": "text/x-python",
   "name": "python",
   "nbconvert_exporter": "python",
   "pygments_lexer": "ipython3",
   "version": "3.10.8"
  }
 },
 "nbformat": 4,
 "nbformat_minor": 5
}
