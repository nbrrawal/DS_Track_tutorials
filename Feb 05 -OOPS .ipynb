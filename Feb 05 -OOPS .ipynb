{
 "cells": [
  {
   "cell_type": "code",
   "execution_count": 1,
   "id": "0c833e15-a641-420c-b597-166b5370c4d1",
   "metadata": {},
   "outputs": [
    {
     "name": "stdout",
     "output_type": "stream",
     "text": [
      "<class 'int'>\n"
     ]
    }
   ],
   "source": [
    "a=1 \n",
    "print(type(a))"
   ]
  },
  {
   "cell_type": "code",
   "execution_count": 2,
   "id": "1356e05a-0fef-483e-b482-b3e22b57891b",
   "metadata": {},
   "outputs": [
    {
     "name": "stdout",
     "output_type": "stream",
     "text": [
      "<class 'str'>\n"
     ]
    }
   ],
   "source": [
    "b='a'\n",
    "print(type(b))"
   ]
  },
  {
   "cell_type": "code",
   "execution_count": 3,
   "id": "15e2c755-2336-43bc-a559-d210d0b36319",
   "metadata": {},
   "outputs": [],
   "source": [
    "class test: \n",
    "    pass "
   ]
  },
  {
   "cell_type": "code",
   "execution_count": 4,
   "id": "d5111c50-318e-43d2-8411-5b205b783b7b",
   "metadata": {},
   "outputs": [
    {
     "data": {
      "text/plain": [
       "__main__.test"
      ]
     },
     "execution_count": 4,
     "metadata": {},
     "output_type": "execute_result"
    }
   ],
   "source": [
    "a = test()\n",
    "type(a)"
   ]
  },
  {
   "cell_type": "code",
   "execution_count": 10,
   "id": "c47820aa-b49f-4b9d-822c-a0f364272cac",
   "metadata": {},
   "outputs": [],
   "source": [
    "class coding:\n",
    "    def welcome(self): \n",
    "        print(\"welcome to class\")\n"
   ]
  },
  {
   "cell_type": "code",
   "execution_count": 11,
   "id": "112ce6af-6796-4291-85d2-13527a1434b9",
   "metadata": {},
   "outputs": [
    {
     "name": "stdout",
     "output_type": "stream",
     "text": [
      "<class '__main__.coding'>\n"
     ]
    }
   ],
   "source": [
    "student = coding()\n",
    "print(type(student))"
   ]
  },
  {
   "cell_type": "code",
   "execution_count": 12,
   "id": "fbe98499-25a7-494d-b519-74d46d8c7d78",
   "metadata": {},
   "outputs": [
    {
     "name": "stdout",
     "output_type": "stream",
     "text": [
      "welcome to class\n"
     ]
    }
   ],
   "source": [
    "student.welcome()"
   ]
  },
  {
   "cell_type": "code",
   "execution_count": 18,
   "id": "2db19cc7-013f-470b-a37d-c427eaf5c8bb",
   "metadata": {},
   "outputs": [],
   "source": [
    "class cls_skills:\n",
    "     def __init__(self,student_id, phone_number, email_id):\n",
    "            self.student_id =student_id\n",
    "            self.phone_number = phone_number\n",
    "            self.email_id = email_id\n",
    "     \n",
    "     def return_student_details(self):\n",
    "        return self.student_id, self.phone_number, self.email_id"
   ]
  },
  {
   "cell_type": "code",
   "execution_count": 21,
   "id": "7f63f51e-e7af-45f9-afbc-0065e9ec4927",
   "metadata": {},
   "outputs": [],
   "source": [
    "class1= cls_skills(123, 777999, \"abc@email.com\")"
   ]
  },
  {
   "cell_type": "code",
   "execution_count": 22,
   "id": "9ae20b95-e720-4f26-90d1-82bdfbcb6ac7",
   "metadata": {},
   "outputs": [
    {
     "data": {
      "text/plain": [
       "(123, 777999, 'abc@email.com')"
      ]
     },
     "execution_count": 22,
     "metadata": {},
     "output_type": "execute_result"
    }
   ],
   "source": [
    "class1.return_student_details()"
   ]
  },
  {
   "cell_type": "code",
   "execution_count": 24,
   "id": "69ed4bfe-80f9-440d-8366-4e24275d59af",
   "metadata": {},
   "outputs": [
    {
     "data": {
      "text/plain": [
       "(121, 1112233, 'def@email.com')"
      ]
     },
     "execution_count": 24,
     "metadata": {},
     "output_type": "execute_result"
    }
   ],
   "source": [
    "class2= cls_skills(121, 1112233, \"def@email.com\")\n",
    "class2.return_student_details()"
   ]
  },
  {
   "cell_type": "code",
   "execution_count": 25,
   "id": "feb6b025-4cc0-4b17-ac91-b2b8e87ab68f",
   "metadata": {},
   "outputs": [
    {
     "data": {
      "text/plain": [
       "1112233"
      ]
     },
     "execution_count": 25,
     "metadata": {},
     "output_type": "execute_result"
    }
   ],
   "source": [
    "class2.phone_number"
   ]
  },
  {
   "cell_type": "code",
   "execution_count": 26,
   "id": "7b4c889b-7c77-4d6f-bffa-a4d7bb0eeeb2",
   "metadata": {},
   "outputs": [
    {
     "data": {
      "text/plain": [
       "3334444"
      ]
     },
     "execution_count": 26,
     "metadata": {},
     "output_type": "execute_result"
    }
   ],
   "source": [
    "test = cls_skills(232, 3334444, \"ghi@email.com\")\n",
    "test.phone_number"
   ]
  },
  {
   "cell_type": "code",
   "execution_count": 36,
   "id": "e3fcddcf-2353-4465-8730-4a701456e6f8",
   "metadata": {},
   "outputs": [],
   "source": [
    "class cls_skills:\n",
    "     def __init__(self,student_id, phone_number, email_id):\n",
    "            self.student_id1 =student_id\n",
    "            self.phone_number1 = phone_number\n",
    "            self.email_id1 = email_id\n",
    "     \n",
    "     def return_student_details(self):\n",
    "        return self.student_id1, self.phone_number1, self.email_id1"
   ]
  },
  {
   "cell_type": "code",
   "execution_count": 37,
   "id": "effe30a5-db43-4f2d-b5f4-2d67dfde568d",
   "metadata": {},
   "outputs": [],
   "source": [
    "test_class=cls_skills(111,132423,\"jkl@gmail.com\")"
   ]
  },
  {
   "cell_type": "code",
   "execution_count": 38,
   "id": "0607a704-c2c9-4d5d-8f45-66d07dec837e",
   "metadata": {},
   "outputs": [
    {
     "ename": "AttributeError",
     "evalue": "'cls_skills' object has no attribute 'phone_number'",
     "output_type": "error",
     "traceback": [
      "\u001b[0;31m---------------------------------------------------------------------------\u001b[0m",
      "\u001b[0;31mAttributeError\u001b[0m                            Traceback (most recent call last)",
      "Cell \u001b[0;32mIn[38], line 1\u001b[0m\n\u001b[0;32m----> 1\u001b[0m \u001b[43mtest_class\u001b[49m\u001b[38;5;241;43m.\u001b[39;49m\u001b[43mphone_number\u001b[49m\n",
      "\u001b[0;31mAttributeError\u001b[0m: 'cls_skills' object has no attribute 'phone_number'"
     ]
    }
   ],
   "source": [
    "test_class.phone_number"
   ]
  },
  {
   "cell_type": "code",
   "execution_count": 39,
   "id": "7e2c05f9-566c-4b33-b780-c15cc42d244c",
   "metadata": {},
   "outputs": [
    {
     "data": {
      "text/plain": [
       "132423"
      ]
     },
     "execution_count": 39,
     "metadata": {},
     "output_type": "execute_result"
    }
   ],
   "source": [
    "test_class.phone_number1"
   ]
  },
  {
   "cell_type": "code",
   "execution_count": 41,
   "id": "efcb13a2-ba71-4911-bf6a-d8bfa7fd5857",
   "metadata": {},
   "outputs": [
    {
     "data": {
      "text/plain": [
       "(111, 132423, 'jkl@gmail.com')"
      ]
     },
     "execution_count": 41,
     "metadata": {},
     "output_type": "execute_result"
    }
   ],
   "source": [
    "test_class.return_student_details()"
   ]
  },
  {
   "cell_type": "code",
   "execution_count": 46,
   "id": "b26c3a27-9262-4261-a447-e522f70949ba",
   "metadata": {},
   "outputs": [
    {
     "data": {
      "text/plain": [
       "'mno@gmail.com'"
      ]
     },
     "execution_count": 46,
     "metadata": {},
     "output_type": "execute_result"
    }
   ],
   "source": [
    "class cls_skills:\n",
    "     def __init__(test_class,student_id, phone_number, email_id):\n",
    "            test_class.student_id1 =student_id\n",
    "            test_class.phone_number1 = phone_number\n",
    "            test_class.email_id1 = email_id\n",
    "     \n",
    "     def return_student_details(test_class):\n",
    "        return test_class.student_id1, test_class.phone_number1, test_class.email_id1\n",
    "    \n",
    "test2 = cls_skills(222,23432423,\"mno@gmail.com\")\n",
    "test2.email_id1"
   ]
  },
  {
   "cell_type": "code",
   "execution_count": null,
   "id": "8781bb49-570d-4c8e-a542-37126edae7ec",
   "metadata": {},
   "outputs": [],
   "source": []
  }
 ],
 "metadata": {
  "kernelspec": {
   "display_name": "Python 3 (ipykernel)",
   "language": "python",
   "name": "python3"
  },
  "language_info": {
   "codemirror_mode": {
    "name": "ipython",
    "version": 3
   },
   "file_extension": ".py",
   "mimetype": "text/x-python",
   "name": "python",
   "nbconvert_exporter": "python",
   "pygments_lexer": "ipython3",
   "version": "3.10.8"
  }
 },
 "nbformat": 4,
 "nbformat_minor": 5
}
