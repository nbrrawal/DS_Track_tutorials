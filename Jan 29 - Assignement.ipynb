{
 "cells": [
  {
   "cell_type": "markdown",
   "id": "b4993a43-a84f-4719-982f-ddd3fee05a06",
   "metadata": {},
   "source": [
    "### 1. Who developed Python language <br>\n",
    "#It was initially designed by Guido van Rossum in 1991 and developed by Python Software Foundation"
   ]
  },
  {
   "cell_type": "code",
   "execution_count": 1,
   "id": "755f21f8-dff5-4fc0-94fa-0b643a2a287a",
   "metadata": {},
   "outputs": [],
   "source": [
    "#2. Which type of programming language does python support \n",
    "#Answer : Python is an interpreted programming language, supporting object-oriented, structured, and functional programming."
   ]
  },
  {
   "cell_type": "code",
   "execution_count": null,
   "id": "0cfd7680-772f-466d-b080-733bb6aef94b",
   "metadata": {},
   "outputs": [],
   "source": [
    "#3. is python case sensitive when dealing with indentifiers\n",
    "# Yes"
   ]
  },
  {
   "cell_type": "code",
   "execution_count": null,
   "id": "638baa6d-9933-4d82-abc6-71f04c5d524e",
   "metadata": {},
   "outputs": [],
   "source": [
    "#4. What is correct extension of Python file\n",
    "# .py "
   ]
  },
  {
   "cell_type": "code",
   "execution_count": null,
   "id": "b076b190-dd11-44b2-abba-8b694564c780",
   "metadata": {},
   "outputs": [],
   "source": [
    "#5. is python code compiled or interpreted\n",
    "# python code is first compiled then interpreted"
   ]
  },
  {
   "cell_type": "code",
   "execution_count": 6,
   "id": "c33e0868-c184-47a7-981c-8eae2b16435d",
   "metadata": {},
   "outputs": [
    {
     "name": "stdout",
     "output_type": "stream",
     "text": [
      "a <= 5\n",
      "5\n",
      "6\n",
      "7\n"
     ]
    }
   ],
   "source": [
    "#6. Name a few blocks of code used to define in Python lanaguage \n",
    "#Indentation is used to define a block of code \n",
    "a = 5 \n",
    "if a > 5 :\n",
    "    print(\"a  > 5\")\n",
    "else: \n",
    "    print(\"a <= 5\")\n",
    "    \n",
    "#using while \n",
    "\n",
    "while(a >=5 and a <8 ): \n",
    "    print(a)\n",
    "    a = a + 1"
   ]
  },
  {
   "cell_type": "code",
   "execution_count": 8,
   "id": "12670dff-01eb-4eb9-8aa2-a465cc260c06",
   "metadata": {},
   "outputs": [
    {
     "data": {
      "text/plain": [
       "' This is\\n    mullt line comment\\n    using double quote\\n'"
      ]
     },
     "execution_count": 8,
     "metadata": {},
     "output_type": "execute_result"
    }
   ],
   "source": [
    "#7. State a character used to give single-line comments in python \n",
    "# three single quote \n",
    "''' This is\n",
    "    mullt line comment\n",
    "    using single quote\n",
    "'''\n",
    "\n",
    "#Double quote \n",
    "\"\"\" This is\n",
    "    mullt line comment\n",
    "    using double quote\n",
    "\"\"\""
   ]
  },
  {
   "cell_type": "code",
   "execution_count": 16,
   "id": "17de655d-a454-47a3-a5e0-80205c2884b5",
   "metadata": {},
   "outputs": [
    {
     "name": "stdout",
     "output_type": "stream",
     "text": [
      "3.10.8 | packaged by conda-forge | (main, Nov 22 2022, 08:26:04) [GCC 10.4.0]\n",
      "sys.version_info(major=3, minor=10, micro=8, releaselevel='final', serial=0)\n"
     ]
    }
   ],
   "source": [
    "#8. Mention functions which can help us find the version of python that we are currently workin on? \n",
    "\n",
    "#a. using command line \n",
    "# python -V\n",
    "\n",
    "#b.using sys function \n",
    "import sys\n",
    "print(sys.version)\n",
    "print(sys.version_info)"
   ]
  },
  {
   "cell_type": "code",
   "execution_count": 17,
   "id": "5bba868c-ede6-4e08-873c-8c10d48a0e8d",
   "metadata": {},
   "outputs": [],
   "source": [
    "#9. python supports the creation of anonymous functions at runtime, using a construct called \n",
    "# ______lambda function_______ "
   ]
  },
  {
   "cell_type": "code",
   "execution_count": 18,
   "id": "53bdfbe8-7c0c-482a-9fc6-f8029e91e721",
   "metadata": {},
   "outputs": [],
   "source": [
    "#10 what does PIP stand for \n",
    "# PIP is a package manager that is used to manage( install, uninstall, upgrade) python packages "
   ]
  },
  {
   "cell_type": "code",
   "execution_count": 19,
   "id": "4d9b5f5d-778c-4371-a2ff-68fd2f37ef20",
   "metadata": {},
   "outputs": [],
   "source": [
    "#11. Mention a few built in functions \n",
    "# answer - print(), type(), int(), len()"
   ]
  },
  {
   "cell_type": "code",
   "execution_count": null,
   "id": "8c8788a7-db80-4ce6-ab9e-e5903a49466d",
   "metadata": {},
   "outputs": [],
   "source": [
    "# 12. What is max possible length of identifier \n",
    "# 79 "
   ]
  },
  {
   "cell_type": "code",
   "execution_count": null,
   "id": "3ec4be1f-be12-4ae8-a525-666d1926cd22",
   "metadata": {},
   "outputs": [],
   "source": [
    "#13. What are benfits of using python \n",
    "# open source \n",
    "# strong community base , avaialbility of support. \n",
    "# highly demanding skillset in job market  "
   ]
  },
  {
   "cell_type": "code",
   "execution_count": 20,
   "id": "be80e7bb-4373-41f4-ad24-9e0f324754bd",
   "metadata": {},
   "outputs": [],
   "source": [
    "#14. how is memory managed in python\n",
    "# python contains automatic garbage collection so developers dont need to explicitly collect the memory"
   ]
  },
  {
   "cell_type": "code",
   "execution_count": null,
   "id": "f9bea4bb-0513-4f58-92ed-410b08631868",
   "metadata": {},
   "outputs": [],
   "source": [
    "#15. How to install pyton on windows and set path variable\n",
    "#1. Find python.exe and copy its path \n",
    "#2. Go to system > properties > Advanced system settings >Advanced > Environment variables > \n",
    "# New > Add Variable name as Python and Variable value as Python exe path"
   ]
  },
  {
   "cell_type": "code",
   "execution_count": null,
   "id": "79290316-a2e4-43ef-a738-5a9971b8c80a",
   "metadata": {},
   "outputs": [],
   "source": [
    "#16. is identation required in python \n",
    "# Yes "
   ]
  },
  {
   "cell_type": "code",
   "execution_count": null,
   "id": "6e445700-5f1d-43af-bca1-d1ce59a7730e",
   "metadata": {},
   "outputs": [],
   "source": []
  },
  {
   "cell_type": "code",
   "execution_count": null,
   "id": "83079b06-744a-4395-a49b-99fa11450bd5",
   "metadata": {},
   "outputs": [],
   "source": []
  },
  {
   "cell_type": "code",
   "execution_count": null,
   "id": "1069e586-777f-413b-9f2d-c8b3173e675c",
   "metadata": {},
   "outputs": [],
   "source": []
  },
  {
   "cell_type": "code",
   "execution_count": null,
   "id": "676f4b46-5170-4b8d-b120-2af6bde9f461",
   "metadata": {},
   "outputs": [],
   "source": []
  },
  {
   "cell_type": "code",
   "execution_count": null,
   "id": "564d8791-7164-4425-94f2-8bbc6a5c295a",
   "metadata": {},
   "outputs": [],
   "source": []
  }
 ],
 "metadata": {
  "kernelspec": {
   "display_name": "Python 3 (ipykernel)",
   "language": "python",
   "name": "python3"
  },
  "language_info": {
   "codemirror_mode": {
    "name": "ipython",
    "version": 3
   },
   "file_extension": ".py",
   "mimetype": "text/x-python",
   "name": "python",
   "nbconvert_exporter": "python",
   "pygments_lexer": "ipython3",
   "version": "3.10.8"
  }
 },
 "nbformat": 4,
 "nbformat_minor": 5
}
