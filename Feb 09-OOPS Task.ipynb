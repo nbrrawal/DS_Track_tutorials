{
 "cells": [
  {
   "cell_type": "markdown",
   "id": "d73e8837-dcd1-4a39-94ed-dc95801092c8",
   "metadata": {},
   "source": [
    "## OOPS Part 1 "
   ]
  },
  {
   "cell_type": "markdown",
   "id": "497961c6-7430-4211-bd54-e77aea462d0f",
   "metadata": {},
   "source": [
    "Q1, Create a vehicle class with an init method having instance variables as name_of_vehicle, max_speed\n",
    "and average_of_vehicle."
   ]
  },
  {
   "cell_type": "code",
   "execution_count": 8,
   "id": "4d7fe15f-00c8-42b5-b192-ac1f99915c22",
   "metadata": {},
   "outputs": [],
   "source": [
    "class vehicle:\n",
    "    \n",
    "    def __init__(self, name_of_vehicle, max_speed, average_of_vehicle):\n",
    "        self.name_of_vechicle = name_of_vehicle\n",
    "        self.max_speed = max_speed\n",
    "        self.average_of_vehicle = average_of_vehicle \n",
    "    \n",
    "        "
   ]
  },
  {
   "cell_type": "code",
   "execution_count": null,
   "id": "0849cf2d-9140-46ab-9fcd-6e59de386b63",
   "metadata": {},
   "outputs": [],
   "source": [
    "Q2. Create a child class car from the vehicle class created in Que 1, which will inherit the vehicle class.\n",
    "Create a method named seating_capacity which takes capacity as an argument and returns the name of\n",
    "the vehicle and its seating capacity.\n"
   ]
  },
  {
   "cell_type": "code",
   "execution_count": null,
   "id": "302834f1-d3bf-4d8f-993d-2356a7ee5ba1",
   "metadata": {},
   "outputs": [],
   "source": [
    "class car(vehicle):\n",
    "    \n",
    "    def seating_capacity(self, capacity):\n",
    "        return self.name_of_vehicle, self.capacity\n"
   ]
  },
  {
   "cell_type": "markdown",
   "id": "314c2dd1-f2f7-4e86-bbff-f10232d566ea",
   "metadata": {},
   "source": [
    "Q3. What is multiple inheritance? Write a python code to demonstrate multiple inheritance."
   ]
  },
  {
   "cell_type": "code",
   "execution_count": 13,
   "id": "ceacc192-8e36-48e8-b244-a2a224943c5c",
   "metadata": {},
   "outputs": [
    {
     "name": "stdout",
     "output_type": "stream",
     "text": [
      "a class\n",
      "b class\n",
      "c class\n"
     ]
    }
   ],
   "source": [
    "#when class a and class b are inhertied by a single class c \n",
    "\n",
    "class a:\n",
    "    def printa(self):\n",
    "        print(\"a class\")\n",
    "\n",
    "class b:\n",
    "    def printb(self):\n",
    "        print(\"b class\")\n",
    "        \n",
    "class c(a,b):\n",
    "    def printc(self):\n",
    "        print(\"c class\")\n",
    "\n",
    "cls = c()\n",
    "cls.printa()\n",
    "cls.printb()\n",
    "cls.printc()"
   ]
  },
  {
   "cell_type": "code",
   "execution_count": 19,
   "id": "97e6264a-4576-4f0e-9dc9-a3be56643157",
   "metadata": {},
   "outputs": [
    {
     "data": {
      "text/plain": [
       "83"
      ]
     },
     "execution_count": 19,
     "metadata": {},
     "output_type": "execute_result"
    }
   ],
   "source": [
    "#Q4. What are getter and setter in python? Create a class and create a getter and a setter method in this\n",
    "#class.\n",
    "\n",
    "#getter and setter are used to get or set the attribute of a class \n",
    "\n",
    "class student:\n",
    "    \n",
    "    def __init__(self, marks):\n",
    "        self.marks = marks \n",
    "    \n",
    "    def set_value(self, value): \n",
    "        self.marks = value\n",
    "\n",
    "    def get_value(self): \n",
    "        return self.marks \n",
    "\n",
    "cls = student(40)\n",
    "cls.marks\n",
    "\n",
    "#getter and setter\n",
    "cls.set_value(83)\n",
    "cls.get_value()\n"
   ]
  },
  {
   "cell_type": "code",
   "execution_count": 20,
   "id": "0e0c22f5-737a-44d1-b676-84f18992ccba",
   "metadata": {},
   "outputs": [
    {
     "name": "stdout",
     "output_type": "stream",
     "text": [
      "Parent class\n",
      "Child class\n"
     ]
    }
   ],
   "source": [
    "#Q5.What is method overriding in python? Write a python code to demonstrate method overriding.\n",
    "#its an OOPS feature that allow over riding defintion of an existing function of parent class \n",
    "\n",
    "class parent:\n",
    "    \n",
    "    def __init__(self):\n",
    "        self.message = \"Parent class\"\n",
    "    \n",
    "    def display(self):\n",
    "        print(self.message)\n",
    "        \n",
    "class child(parent):\n",
    "    \n",
    "    def __init__(self):\n",
    "        self.message = \"Child class\"\n",
    "    \n",
    "    def display(self):\n",
    "        print(self.message)\n",
    "\n",
    "cls_parent = parent()\n",
    "cls_child = child()\n",
    "\n",
    "cls_parent.display()\n",
    "cls_child.display()"
   ]
  },
  {
   "cell_type": "code",
   "execution_count": null,
   "id": "eb55956d-484c-47d2-aab0-8cd16a908a75",
   "metadata": {},
   "outputs": [],
   "source": []
  },
  {
   "cell_type": "code",
   "execution_count": null,
   "id": "60c8cf60-61b0-477c-95f5-90efbe03543b",
   "metadata": {},
   "outputs": [],
   "source": [
    "Note: Create your assignment in Jupyter notebook and upload it to GitHub & share that GitHub repository\n",
    "link through your dashboard. Make sure the repository is public."
   ]
  },
  {
   "cell_type": "code",
   "execution_count": null,
   "id": "5f9cb6a1-8925-4384-9c30-9773634c6aec",
   "metadata": {},
   "outputs": [],
   "source": []
  },
  {
   "cell_type": "code",
   "execution_count": null,
   "id": "221032f9-9317-49a8-a6ef-c8dadc89a1cc",
   "metadata": {},
   "outputs": [],
   "source": []
  },
  {
   "cell_type": "code",
   "execution_count": null,
   "id": "ae36c787-4320-4e09-b673-077d64ef9a2c",
   "metadata": {},
   "outputs": [],
   "source": []
  },
  {
   "cell_type": "code",
   "execution_count": null,
   "id": "6dfed369-a029-466c-b18d-aa223ba5158d",
   "metadata": {},
   "outputs": [],
   "source": []
  },
  {
   "cell_type": "code",
   "execution_count": null,
   "id": "087b40ce-2ed2-4c10-bb80-c3b51629b12d",
   "metadata": {},
   "outputs": [],
   "source": []
  },
  {
   "cell_type": "code",
   "execution_count": null,
   "id": "2b407e54-4b32-41c7-ade0-0d3934d17fb1",
   "metadata": {},
   "outputs": [],
   "source": []
  },
  {
   "cell_type": "code",
   "execution_count": null,
   "id": "9a6b1fbe-6a94-4d71-b477-878dc8d16396",
   "metadata": {},
   "outputs": [],
   "source": []
  },
  {
   "cell_type": "code",
   "execution_count": null,
   "id": "37d21170-25ed-4b20-a1cb-c7bca014c45a",
   "metadata": {},
   "outputs": [],
   "source": []
  },
  {
   "cell_type": "code",
   "execution_count": null,
   "id": "90e3171d-b759-45a0-b064-b13f6dd070b5",
   "metadata": {},
   "outputs": [],
   "source": []
  }
 ],
 "metadata": {
  "kernelspec": {
   "display_name": "Python 3 (ipykernel)",
   "language": "python",
   "name": "python3"
  },
  "language_info": {
   "codemirror_mode": {
    "name": "ipython",
    "version": 3
   },
   "file_extension": ".py",
   "mimetype": "text/x-python",
   "name": "python",
   "nbconvert_exporter": "python",
   "pygments_lexer": "ipython3",
   "version": "3.10.8"
  }
 },
 "nbformat": 4,
 "nbformat_minor": 5
}
