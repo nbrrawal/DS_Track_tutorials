{
 "cells": [
  {
   "cell_type": "markdown",
   "id": "4662cc98-a1dc-42b2-9bf1-9881c9e763ae",
   "metadata": {},
   "source": [
    "### Buffer Read "
   ]
  },
  {
   "cell_type": "code",
   "execution_count": 1,
   "id": "12505f57-5dc0-416c-8e4a-1bcee2b71ab5",
   "metadata": {},
   "outputs": [],
   "source": [
    "import io "
   ]
  },
  {
   "cell_type": "code",
   "execution_count": 3,
   "id": "81efee55-891a-41a7-86bf-56de1d7d54a2",
   "metadata": {},
   "outputs": [],
   "source": [
    "with open(\"buffer.txt\",\"wb\") as f: \n",
    "    file =io.BufferedWriter(f)\n",
    "    file.write(b\" this is first line\\n\")\n",
    "    file.write(b\" this is second line \\n\")\n",
    "    file.write(b\" third line\\n\")\n",
    "    file.flush()"
   ]
  },
  {
   "cell_type": "code",
   "execution_count": 6,
   "id": "045a4e38-87cd-40e0-ba3e-cecc21321a20",
   "metadata": {},
   "outputs": [
    {
     "name": "stdout",
     "output_type": "stream",
     "text": [
      "b' this is f'\n"
     ]
    }
   ],
   "source": [
    "with open(\"buffer.txt\", \"rb\") as f: \n",
    "    \n",
    "    file = io.BufferedReader(f)\n",
    "    data = file.read(10)\n",
    "    print(data)\n"
   ]
  },
  {
   "cell_type": "code",
   "execution_count": null,
   "id": "6db271fc-dd61-4718-a797-55e066f2dd53",
   "metadata": {},
   "outputs": [],
   "source": []
  },
  {
   "cell_type": "code",
   "execution_count": null,
   "id": "102c1bc4-a4e6-4c13-a118-0ecdf4f2d1d7",
   "metadata": {},
   "outputs": [],
   "source": []
  },
  {
   "cell_type": "code",
   "execution_count": null,
   "id": "7b489859-84e2-45b1-a632-f9751ded3e84",
   "metadata": {},
   "outputs": [],
   "source": []
  },
  {
   "cell_type": "code",
   "execution_count": null,
   "id": "f6e9d637-9d86-42d0-aad8-17f4ecfd4ee9",
   "metadata": {},
   "outputs": [],
   "source": []
  },
  {
   "cell_type": "code",
   "execution_count": null,
   "id": "c221afc0-eaf7-4fbc-829c-6e8872c7ac0b",
   "metadata": {},
   "outputs": [],
   "source": []
  },
  {
   "cell_type": "code",
   "execution_count": null,
   "id": "39dcd535-35c5-4a71-8eec-81e8bbfc85bc",
   "metadata": {},
   "outputs": [],
   "source": []
  },
  {
   "cell_type": "code",
   "execution_count": null,
   "id": "862a9185-a015-4c9a-acb7-0bb9a3ba2fe3",
   "metadata": {},
   "outputs": [],
   "source": []
  },
  {
   "cell_type": "code",
   "execution_count": null,
   "id": "c1453d9f-e1b5-4030-acd5-804912b6b2b0",
   "metadata": {},
   "outputs": [],
   "source": []
  },
  {
   "cell_type": "code",
   "execution_count": null,
   "id": "190c3bac-594f-478b-a1c8-554e9f4b8ae2",
   "metadata": {},
   "outputs": [],
   "source": []
  },
  {
   "cell_type": "code",
   "execution_count": null,
   "id": "b26a4e8b-6a5d-4730-b5b3-9ef39f9529e5",
   "metadata": {},
   "outputs": [],
   "source": []
  },
  {
   "cell_type": "code",
   "execution_count": null,
   "id": "b2c00616-5595-48af-80ba-15e42344bce1",
   "metadata": {},
   "outputs": [],
   "source": []
  },
  {
   "cell_type": "code",
   "execution_count": null,
   "id": "df85eaa1-00fd-4345-95ab-2f93dae1e5a2",
   "metadata": {},
   "outputs": [],
   "source": []
  },
  {
   "cell_type": "code",
   "execution_count": null,
   "id": "033bf467-ce13-46a5-968c-6a3331fcd41c",
   "metadata": {},
   "outputs": [],
   "source": []
  },
  {
   "cell_type": "code",
   "execution_count": null,
   "id": "163843b5-bd78-415d-bacc-c6080fa4ed9f",
   "metadata": {},
   "outputs": [],
   "source": []
  },
  {
   "cell_type": "code",
   "execution_count": null,
   "id": "ea9a4145-16a0-4096-88aa-99d3a2a37bc6",
   "metadata": {},
   "outputs": [],
   "source": []
  },
  {
   "cell_type": "code",
   "execution_count": null,
   "id": "f2c06d3e-5f27-46d8-96dc-3f6a12af60e8",
   "metadata": {},
   "outputs": [],
   "source": []
  }
 ],
 "metadata": {
  "kernelspec": {
   "display_name": "Python 3 (ipykernel)",
   "language": "python",
   "name": "python3"
  },
  "language_info": {
   "codemirror_mode": {
    "name": "ipython",
    "version": 3
   },
   "file_extension": ".py",
   "mimetype": "text/x-python",
   "name": "python",
   "nbconvert_exporter": "python",
   "pygments_lexer": "ipython3",
   "version": "3.10.8"
  }
 },
 "nbformat": 4,
 "nbformat_minor": 5
}
