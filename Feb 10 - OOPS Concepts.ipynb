{
 "cells": [
  {
   "cell_type": "markdown",
   "id": "d73e8837-dcd1-4a39-94ed-dc95801092c8",
   "metadata": {},
   "source": [
    "## OOPS Concepts"
   ]
  },
  {
   "cell_type": "code",
   "execution_count": 4,
   "id": "e15fa1f3-5cc3-4e11-b61b-d8dd2aa09004",
   "metadata": {},
   "outputs": [],
   "source": [
    "def test():\n",
    "    print(\"start \")\n",
    "    print(\"function 4-3\")\n",
    "    print(4-3)\n",
    "    print(\"end\")"
   ]
  },
  {
   "cell_type": "code",
   "execution_count": 5,
   "id": "3fd05679-5436-4ef5-b273-c96f9a297506",
   "metadata": {},
   "outputs": [
    {
     "name": "stdout",
     "output_type": "stream",
     "text": [
      "start \n",
      "function 4-3\n",
      "1\n",
      "end\n"
     ]
    }
   ],
   "source": [
    "test()"
   ]
  },
  {
   "cell_type": "markdown",
   "id": "b7e47b2a-4fa8-4fb7-97b6-e48e7b87106c",
   "metadata": {},
   "source": [
    "### decorator"
   ]
  },
  {
   "cell_type": "code",
   "execution_count": 7,
   "id": "a44cf8ca-0575-4bc0-a2dc-64da31c0a46b",
   "metadata": {},
   "outputs": [
    {
     "name": "stdout",
     "output_type": "stream",
     "text": [
      "start of the function\n",
      "9\n",
      "endo of the function\n"
     ]
    }
   ],
   "source": [
    "\n",
    "\n",
    "def decorate(func):\n",
    "    def inner_dec():\n",
    "        print(\"start of the function\")\n",
    "        func()\n",
    "        print(\"endo of the function\")\n",
    "    return inner_dec\n",
    "\n",
    "@decorate\n",
    "def test1():\n",
    "    print(6+3)\n",
    "\n",
    "test1()"
   ]
  },
  {
   "cell_type": "code",
   "execution_count": 16,
   "id": "2b97ea7a-5b19-4f55-8c5b-ea66f48031e6",
   "metadata": {},
   "outputs": [
    {
     "name": "stdout",
     "output_type": "stream",
     "text": [
      "total time taken 2.2036030292510986\n"
     ]
    }
   ],
   "source": [
    "import time\n",
    "\n",
    "def print_timer(func):\n",
    "    def time_test_timer():\n",
    "        start = time.time()\n",
    "        func()\n",
    "        end = time.time()\n",
    "        print(\"total time taken\", end-start)\n",
    "    return time_test_timer\n",
    "\n",
    "@print_timer\n",
    "def test(): \n",
    "    for i in range(100**4):\n",
    "        pass\n",
    "\n",
    "test()"
   ]
  },
  {
   "cell_type": "markdown",
   "id": "8492b267-f601-4936-9b65-dd6023b9eba5",
   "metadata": {},
   "source": [
    "### class methods "
   ]
  },
  {
   "cell_type": "code",
   "execution_count": 19,
   "id": "e38b48ac-cd7a-44ff-8383-82db2b98b920",
   "metadata": {},
   "outputs": [
    {
     "data": {
      "text/plain": [
       "22"
      ]
     },
     "execution_count": 19,
     "metadata": {},
     "output_type": "execute_result"
    }
   ],
   "source": [
    "\n",
    "class student:\n",
    "    def __init__(self, name, age):\n",
    "        self.name = name\n",
    "        self.age = age\n",
    "    \n",
    "    def student_detail(self):\n",
    "        print(self.name, self.age)\n",
    "\n",
    "obj = student(\"neeraj\", 22)\n",
    "        \n",
    "obj.name\n",
    "obj.age"
   ]
  },
  {
   "cell_type": "code",
   "execution_count": 27,
   "id": "7eba5e2b-ecd6-42e3-a5aa-23467f17a95e",
   "metadata": {},
   "outputs": [],
   "source": [
    "\n",
    "class student1:\n",
    "    marks = 70\n",
    "    def __init__(self, name, age):\n",
    "        self.name = name\n",
    "        self.age = age\n",
    "    \n",
    "    @classmethod\n",
    "    def detail(cls, name, age):\n",
    "        return cls(name,age)\n",
    "    \n",
    "    @classmethod\n",
    "    def change_marks(cls, marks):\n",
    "        student1.marks = marks\n",
    "\n",
    "    def student_detail(self):\n",
    "        print(self.name, self.age, student1.marks)\n",
    "\n",
    "st = student1.detail(\"narender\", 23)\n",
    "st.name\n",
    "st.age\n",
    "st.marks"
   ]
  },
  {
   "cell_type": "markdown",
   "id": "1d435643-bbc3-49ae-95d1-7432241323d8",
   "metadata": {},
   "source": [
    "### class methods  and overloading (init function)"
   ]
  },
  {
   "cell_type": "code",
   "execution_count": 34,
   "id": "2bf87e0b-f7b2-47b6-b87d-5e478a378d08",
   "metadata": {},
   "outputs": [],
   "source": [
    "class student1:\n",
    "    marks = 70\n",
    "    def __init__(self, name, age):\n",
    "        self.name = name\n",
    "        self.age = age\n",
    "    \n",
    "    @classmethod\n",
    "    def detail(cls, name, age):\n",
    "        return cls(name,age)\n",
    "    \n",
    "    @classmethod\n",
    "    def change_marks(cls, marks):\n",
    "        student1.marks = marks\n",
    "\n",
    "    def student_detail(self):\n",
    "        print(self.name, self.age, student1.marks)\n",
    "\n",
    "#student1.change_marks(90)\n",
    "#student1.marks\n",
    "\n",
    "#student1.change_marks(20)\n",
    "#student1.marks"
   ]
  },
  {
   "cell_type": "code",
   "execution_count": 35,
   "id": "6c0d9847-9f6c-4541-b340-2d21d7e6ed17",
   "metadata": {},
   "outputs": [
    {
     "data": {
      "text/plain": [
       "70"
      ]
     },
     "execution_count": 35,
     "metadata": {},
     "output_type": "execute_result"
    }
   ],
   "source": [
    "#first method to execute \n",
    "obj = student1(\"paakhi\", 33)\n",
    "obj.name\n",
    "obj.age\n",
    "obj.marks"
   ]
  },
  {
   "cell_type": "code",
   "execution_count": 36,
   "id": "1183f331-2906-4774-921e-84aacc72cd7d",
   "metadata": {},
   "outputs": [
    {
     "data": {
      "text/plain": [
       "70"
      ]
     },
     "execution_count": 36,
     "metadata": {},
     "output_type": "execute_result"
    }
   ],
   "source": [
    "#first method to execute \n",
    "obj = student1.detail(\"paakhi\", 33)\n",
    "obj.name\n",
    "obj.age\n",
    "student1.marks"
   ]
  },
  {
   "cell_type": "code",
   "execution_count": 41,
   "id": "c12d2f55-8f86-48bb-812b-9219a9626f31",
   "metadata": {},
   "outputs": [],
   "source": [
    "#add an outside method to existing class  \n",
    "def course_details(cls, course):\n",
    "    print(\"course name \", course)\n",
    "\n",
    "student1.course_details= classmethod(course_details)     "
   ]
  },
  {
   "cell_type": "code",
   "execution_count": 39,
   "id": "51ce0d0a-cca2-47ad-b5b6-dcf06ff4c7a2",
   "metadata": {},
   "outputs": [
    {
     "name": "stdout",
     "output_type": "stream",
     "text": [
      "course name  a\n"
     ]
    }
   ],
   "source": [
    "student1.course_details(\"a\")"
   ]
  },
  {
   "cell_type": "code",
   "execution_count": 42,
   "id": "6dfed369-a029-466c-b18d-aa223ba5158d",
   "metadata": {},
   "outputs": [],
   "source": [
    "def mentor(cls, list_of_mentor):\n",
    "    print(list_of_mentor)\n",
    "\n",
    "student1.mentor=classmethod(mentor)\n",
    "    "
   ]
  },
  {
   "cell_type": "code",
   "execution_count": 43,
   "id": "087b40ce-2ed2-4c10-bb80-c3b51629b12d",
   "metadata": {},
   "outputs": [
    {
     "name": "stdout",
     "output_type": "stream",
     "text": [
      "['Narender', 'Spot 1']\n"
     ]
    }
   ],
   "source": [
    "student1.mentor([\"Narender\", \"Spot 1\"])"
   ]
  },
  {
   "cell_type": "code",
   "execution_count": 47,
   "id": "2b407e54-4b32-41c7-ade0-0d3934d17fb1",
   "metadata": {},
   "outputs": [],
   "source": [
    "class student2:\n",
    "    marks = 70\n",
    "    def __init__(self, name, age):\n",
    "        self.name = name\n",
    "        self.age = age\n",
    "    \n",
    "    @classmethod\n",
    "    def detail(cls, name, age):\n",
    "        return cls(name,age)\n",
    "    \n",
    "    @classmethod\n",
    "    def change_marks(cls, marks):\n",
    "        student1.marks = marks\n",
    "\n",
    "    def student_detail(self):\n",
    "        print(self.name, self.age, student1.marks)\n",
    "\n",
    "del student2.change_marks"
   ]
  },
  {
   "cell_type": "code",
   "execution_count": 46,
   "id": "9a6b1fbe-6a94-4d71-b477-878dc8d16396",
   "metadata": {},
   "outputs": [
    {
     "ename": "AttributeError",
     "evalue": "type object 'student2' has no attribute 'change_marks'",
     "output_type": "error",
     "traceback": [
      "\u001b[0;31m---------------------------------------------------------------------------\u001b[0m",
      "\u001b[0;31mAttributeError\u001b[0m                            Traceback (most recent call last)",
      "Cell \u001b[0;32mIn[46], line 1\u001b[0m\n\u001b[0;32m----> 1\u001b[0m \u001b[43mstudent2\u001b[49m\u001b[38;5;241;43m.\u001b[39;49m\u001b[43mchange_marks\u001b[49m(\u001b[38;5;241m23\u001b[39m)\n",
      "\u001b[0;31mAttributeError\u001b[0m: type object 'student2' has no attribute 'change_marks'"
     ]
    }
   ],
   "source": [
    "student2.change_marks(23)"
   ]
  },
  {
   "cell_type": "code",
   "execution_count": 49,
   "id": "37d21170-25ed-4b20-a1cb-c7bca014c45a",
   "metadata": {},
   "outputs": [],
   "source": [
    "delattr(student2, \"detail\")"
   ]
  },
  {
   "cell_type": "code",
   "execution_count": 53,
   "id": "90e3171d-b759-45a0-b064-b13f6dd070b5",
   "metadata": {},
   "outputs": [
    {
     "ename": "AttributeError",
     "evalue": "student_detail",
     "output_type": "error",
     "traceback": [
      "\u001b[0;31m---------------------------------------------------------------------------\u001b[0m",
      "\u001b[0;31mAttributeError\u001b[0m                            Traceback (most recent call last)",
      "Cell \u001b[0;32mIn[53], line 1\u001b[0m\n\u001b[0;32m----> 1\u001b[0m \u001b[38;5;28;43mdelattr\u001b[39;49m\u001b[43m(\u001b[49m\u001b[43mstudent2\u001b[49m\u001b[43m,\u001b[49m\u001b[38;5;124;43m\"\u001b[39;49m\u001b[38;5;124;43mstudent_detail\u001b[39;49m\u001b[38;5;124;43m\"\u001b[39;49m\u001b[43m)\u001b[49m\n",
      "\u001b[0;31mAttributeError\u001b[0m: student_detail"
     ]
    }
   ],
   "source": [
    "delattr(student2,\"student_detail\")"
   ]
  },
  {
   "cell_type": "code",
   "execution_count": 52,
   "id": "1235793c-9aae-402c-91b7-2584f9bdeaa8",
   "metadata": {},
   "outputs": [],
   "source": [
    "delattr(student2, \"marks\")"
   ]
  },
  {
   "cell_type": "markdown",
   "id": "ac568cea-65d4-4f28-937b-418e7eb06117",
   "metadata": {},
   "source": [
    "### static method "
   ]
  },
  {
   "cell_type": "code",
   "execution_count": 55,
   "id": "c4afc7cb-fd55-49ef-8542-a6fe68fa229a",
   "metadata": {},
   "outputs": [
    {
     "name": "stdout",
     "output_type": "stream",
     "text": [
      "neeraj 45\n"
     ]
    }
   ],
   "source": [
    "class student:\n",
    "    def student_detail(self , name, age): \n",
    "        print(name, age)\n",
    "        \n",
    "obj = student()\n",
    "obj.student_detail(\"neeraj\", 45)\n"
   ]
  },
  {
   "cell_type": "code",
   "execution_count": 57,
   "id": "f56143d5-0fe5-4886-96de-86db6d32fe3a",
   "metadata": {},
   "outputs": [
    {
     "name": "stdout",
     "output_type": "stream",
     "text": [
      "['a', 'b']\n"
     ]
    }
   ],
   "source": [
    "class student1:\n",
    "    def student_detail(self , name, age): \n",
    "        print(name, age)\n",
    "    \n",
    "    @staticmethod\n",
    "    def mentor_list(list_mentor):\n",
    "        print(list_mentor)\n",
    "    \n",
    "    def mentor(self, list_mentor):\n",
    "            print(list_mentor)\n",
    "\n",
    "student1.mentor_list([\"a\",\"b\"])\n",
    "\n",
    "st1 = student()\n",
    "st2 = student()\n",
    "        "
   ]
  },
  {
   "cell_type": "code",
   "execution_count": 65,
   "id": "51ed8a4c-e44e-4382-aa1a-b73e3fdf6e49",
   "metadata": {},
   "outputs": [
    {
     "name": "stdout",
     "output_type": "stream",
     "text": [
      "[101, 102]\n",
      "['c', 'd']\n",
      "['a', 'b']\n",
      "[101, 102]\n",
      "['a', 'b']\n"
     ]
    }
   ],
   "source": [
    "class student2:\n",
    "    def student_detail(self , name, age): \n",
    "        print(name, age)\n",
    "    \n",
    "    @staticmethod\n",
    "    def mentor_id(mentor_id):\n",
    "        print(mentor_id)\n",
    "\n",
    "    @staticmethod\n",
    "    def mentor_class(list_mentor):\n",
    "        student2.mentor_id([101,102])\n",
    "        print(list_mentor)\n",
    "    \n",
    "    \n",
    "    @classmethod\n",
    "    def class_name(cls):\n",
    "        cls.mentor_class([\"a\", [\"b\"]])\n",
    "    \n",
    "    def mentor(self, list_mentor):\n",
    "        print(list_mentor)\n",
    "        self.mentor_class([\"a\",\"b\"])\n",
    "        \n",
    "obj = student2()\n",
    "student2.mentor_class([\"c\",\"d\"])\n",
    "obj.mentor([\"a\",\"b\"])"
   ]
  },
  {
   "cell_type": "markdown",
   "id": "4a6be3de-b771-4913-afa0-84a4274a0a87",
   "metadata": {},
   "source": [
    "### magic / duner methods "
   ]
  },
  {
   "cell_type": "code",
   "execution_count": 66,
   "id": "3476f76c-cabb-4701-83b0-b60da7e1d5d5",
   "metadata": {},
   "outputs": [
    {
     "data": {
      "text/plain": [
       "['__abs__',\n",
       " '__add__',\n",
       " '__and__',\n",
       " '__bool__',\n",
       " '__ceil__',\n",
       " '__class__',\n",
       " '__delattr__',\n",
       " '__dir__',\n",
       " '__divmod__',\n",
       " '__doc__',\n",
       " '__eq__',\n",
       " '__float__',\n",
       " '__floor__',\n",
       " '__floordiv__',\n",
       " '__format__',\n",
       " '__ge__',\n",
       " '__getattribute__',\n",
       " '__getnewargs__',\n",
       " '__gt__',\n",
       " '__hash__',\n",
       " '__index__',\n",
       " '__init__',\n",
       " '__init_subclass__',\n",
       " '__int__',\n",
       " '__invert__',\n",
       " '__le__',\n",
       " '__lshift__',\n",
       " '__lt__',\n",
       " '__mod__',\n",
       " '__mul__',\n",
       " '__ne__',\n",
       " '__neg__',\n",
       " '__new__',\n",
       " '__or__',\n",
       " '__pos__',\n",
       " '__pow__',\n",
       " '__radd__',\n",
       " '__rand__',\n",
       " '__rdivmod__',\n",
       " '__reduce__',\n",
       " '__reduce_ex__',\n",
       " '__repr__',\n",
       " '__rfloordiv__',\n",
       " '__rlshift__',\n",
       " '__rmod__',\n",
       " '__rmul__',\n",
       " '__ror__',\n",
       " '__round__',\n",
       " '__rpow__',\n",
       " '__rrshift__',\n",
       " '__rshift__',\n",
       " '__rsub__',\n",
       " '__rtruediv__',\n",
       " '__rxor__',\n",
       " '__setattr__',\n",
       " '__sizeof__',\n",
       " '__str__',\n",
       " '__sub__',\n",
       " '__subclasshook__',\n",
       " '__truediv__',\n",
       " '__trunc__',\n",
       " '__xor__',\n",
       " 'as_integer_ratio',\n",
       " 'bit_count',\n",
       " 'bit_length',\n",
       " 'conjugate',\n",
       " 'denominator',\n",
       " 'from_bytes',\n",
       " 'imag',\n",
       " 'numerator',\n",
       " 'real',\n",
       " 'to_bytes']"
      ]
     },
     "execution_count": 66,
     "metadata": {},
     "output_type": "execute_result"
    }
   ],
   "source": [
    "dir(int)"
   ]
  },
  {
   "cell_type": "code",
   "execution_count": 67,
   "id": "c4b57002-9fdb-4900-85be-d91f9c169f58",
   "metadata": {},
   "outputs": [
    {
     "data": {
      "text/plain": [
       "['__add__',\n",
       " '__class__',\n",
       " '__contains__',\n",
       " '__delattr__',\n",
       " '__dir__',\n",
       " '__doc__',\n",
       " '__eq__',\n",
       " '__format__',\n",
       " '__ge__',\n",
       " '__getattribute__',\n",
       " '__getitem__',\n",
       " '__getnewargs__',\n",
       " '__gt__',\n",
       " '__hash__',\n",
       " '__init__',\n",
       " '__init_subclass__',\n",
       " '__iter__',\n",
       " '__le__',\n",
       " '__len__',\n",
       " '__lt__',\n",
       " '__mod__',\n",
       " '__mul__',\n",
       " '__ne__',\n",
       " '__new__',\n",
       " '__reduce__',\n",
       " '__reduce_ex__',\n",
       " '__repr__',\n",
       " '__rmod__',\n",
       " '__rmul__',\n",
       " '__setattr__',\n",
       " '__sizeof__',\n",
       " '__str__',\n",
       " '__subclasshook__',\n",
       " 'capitalize',\n",
       " 'casefold',\n",
       " 'center',\n",
       " 'count',\n",
       " 'encode',\n",
       " 'endswith',\n",
       " 'expandtabs',\n",
       " 'find',\n",
       " 'format',\n",
       " 'format_map',\n",
       " 'index',\n",
       " 'isalnum',\n",
       " 'isalpha',\n",
       " 'isascii',\n",
       " 'isdecimal',\n",
       " 'isdigit',\n",
       " 'isidentifier',\n",
       " 'islower',\n",
       " 'isnumeric',\n",
       " 'isprintable',\n",
       " 'isspace',\n",
       " 'istitle',\n",
       " 'isupper',\n",
       " 'join',\n",
       " 'ljust',\n",
       " 'lower',\n",
       " 'lstrip',\n",
       " 'maketrans',\n",
       " 'partition',\n",
       " 'removeprefix',\n",
       " 'removesuffix',\n",
       " 'replace',\n",
       " 'rfind',\n",
       " 'rindex',\n",
       " 'rjust',\n",
       " 'rpartition',\n",
       " 'rsplit',\n",
       " 'rstrip',\n",
       " 'split',\n",
       " 'splitlines',\n",
       " 'startswith',\n",
       " 'strip',\n",
       " 'swapcase',\n",
       " 'title',\n",
       " 'translate',\n",
       " 'upper',\n",
       " 'zfill']"
      ]
     },
     "execution_count": 67,
     "metadata": {},
     "output_type": "execute_result"
    }
   ],
   "source": [
    "dir(str)"
   ]
  },
  {
   "cell_type": "code",
   "execution_count": 83,
   "id": "822893c8-7317-4fb1-8373-0f072c1e023f",
   "metadata": {},
   "outputs": [],
   "source": [
    "a = 100"
   ]
  },
  {
   "cell_type": "code",
   "execution_count": 84,
   "id": "f69b6302-bb8e-45e5-a9a1-3c9326febac0",
   "metadata": {},
   "outputs": [
    {
     "data": {
      "text/plain": [
       "105"
      ]
     },
     "execution_count": 84,
     "metadata": {},
     "output_type": "execute_result"
    }
   ],
   "source": [
    "a+5 "
   ]
  },
  {
   "cell_type": "code",
   "execution_count": 85,
   "id": "c31cf27f-8727-4d7a-8002-6736de328a30",
   "metadata": {},
   "outputs": [
    {
     "data": {
      "text/plain": [
       "105"
      ]
     },
     "execution_count": 85,
     "metadata": {},
     "output_type": "execute_result"
    }
   ],
   "source": [
    "a.__add__(5) "
   ]
  },
  {
   "cell_type": "code",
   "execution_count": 96,
   "id": "6050875a-1029-4665-a4f8-531dbcc83ffc",
   "metadata": {},
   "outputs": [],
   "source": [
    "class student: \n",
    "    def __new__(cls):\n",
    "        print(\"new function\")\n",
    "        \n",
    "    def __init__(self):\n",
    "        print(\"init function\")\n",
    "        self.age = 23\n",
    "    "
   ]
  },
  {
   "cell_type": "code",
   "execution_count": 97,
   "id": "31381ea0-5782-4cae-8690-c44cd8614dad",
   "metadata": {},
   "outputs": [
    {
     "name": "stdout",
     "output_type": "stream",
     "text": [
      "new function\n"
     ]
    }
   ],
   "source": [
    "st =student()"
   ]
  },
  {
   "cell_type": "code",
   "execution_count": null,
   "id": "8291ffe9-6518-492d-9b0d-ba7db32dc846",
   "metadata": {},
   "outputs": [],
   "source": [
    "st.age"
   ]
  },
  {
   "cell_type": "code",
   "execution_count": 99,
   "id": "542a0584-2db7-41fa-84b2-19cb6a4cd510",
   "metadata": {},
   "outputs": [
    {
     "name": "stdout",
     "output_type": "stream",
     "text": [
      "new function\n"
     ]
    }
   ],
   "source": [
    "st1 = student()"
   ]
  },
  {
   "cell_type": "code",
   "execution_count": 103,
   "id": "353e775b-4072-44ad-82f9-efb2c4450d2c",
   "metadata": {},
   "outputs": [
    {
     "data": {
      "text/plain": [
       "<__main__.student at 0x7f4fd7ca91e0>"
      ]
     },
     "execution_count": 103,
     "metadata": {},
     "output_type": "execute_result"
    }
   ],
   "source": [
    "class student: \n",
    "    def __init__(self):\n",
    "        self.age = 35\n",
    "\n",
    "st = student()\n",
    "st"
   ]
  },
  {
   "cell_type": "code",
   "execution_count": 107,
   "id": "495a0dd4-c1f9-416f-baca-2d5179cf826d",
   "metadata": {},
   "outputs": [
    {
     "name": "stdout",
     "output_type": "stream",
     "text": [
      "this is student class\n"
     ]
    }
   ],
   "source": [
    "class student: \n",
    "    def __init__(self):\n",
    "        self.age = 35\n",
    "        \n",
    "    def __str__(self):\n",
    "        return \"this is student class\"\n",
    "\n",
    "st = student()\n",
    "print(st)"
   ]
  },
  {
   "cell_type": "markdown",
   "id": "35c2017c-0951-4022-91fd-8c93c0554856",
   "metadata": {},
   "source": [
    "### property decorator "
   ]
  },
  {
   "cell_type": "code",
   "execution_count": 113,
   "id": "e77d19ab-bef2-48ba-a226-aaff1ed80683",
   "metadata": {},
   "outputs": [
    {
     "data": {
      "text/plain": [
       "'a'"
      ]
     },
     "execution_count": 113,
     "metadata": {},
     "output_type": "execute_result"
    }
   ],
   "source": [
    "\n",
    "class student: \n",
    "    def __init__(self, name, age):\n",
    "        self.__name = name\n",
    "        self.age = age \n",
    "st = student(\"a\",23)\n",
    "st.age\n",
    "#error \n",
    "#st.__name\n",
    "#st.name\n",
    "#works\n",
    "st._student__name"
   ]
  },
  {
   "cell_type": "code",
   "execution_count": 125,
   "id": "55e114e6-9ea4-44e5-b036-90b4f4ffc02b",
   "metadata": {},
   "outputs": [
    {
     "data": {
      "text/plain": [
       "'a'"
      ]
     },
     "execution_count": 125,
     "metadata": {},
     "output_type": "execute_result"
    }
   ],
   "source": [
    "\n",
    "class student: \n",
    "    def __init__(self, name, age):\n",
    "        self.__name = name\n",
    "        self.age = age \n",
    "    @property\n",
    "    def name_access(self):\n",
    "        return self.__name\n",
    "    @name_access.setter\n",
    "    def set_name(self, name):\n",
    "        self.__name= name\n",
    "    @name_access.deleter\n",
    "    def delete_name(self):\n",
    "        del self.__name\n",
    "\n",
    "st = student(\"a\",23)\n",
    "st.age\n",
    "st.name_access"
   ]
  },
  {
   "cell_type": "code",
   "execution_count": 126,
   "id": "cfc8c9f8-9c56-42be-a284-7454388bd876",
   "metadata": {},
   "outputs": [
    {
     "data": {
      "text/plain": [
       "'a'"
      ]
     },
     "execution_count": 126,
     "metadata": {},
     "output_type": "execute_result"
    }
   ],
   "source": [
    "st.name_access"
   ]
  },
  {
   "cell_type": "code",
   "execution_count": 127,
   "id": "5cc2bf7c-7577-4e15-9d45-ae063e1914ab",
   "metadata": {},
   "outputs": [],
   "source": [
    "st.set_name=\"bcd\""
   ]
  },
  {
   "cell_type": "code",
   "execution_count": 128,
   "id": "ec1831ea-dbd8-4901-bcd8-ba56b57bba1a",
   "metadata": {},
   "outputs": [
    {
     "data": {
      "text/plain": [
       "'bcd'"
      ]
     },
     "execution_count": 128,
     "metadata": {},
     "output_type": "execute_result"
    }
   ],
   "source": [
    "st.name_access"
   ]
  },
  {
   "cell_type": "code",
   "execution_count": 129,
   "id": "ad2d1132-4a76-45a1-92aa-9ddda36c1898",
   "metadata": {},
   "outputs": [],
   "source": [
    "del st.delete_name"
   ]
  },
  {
   "cell_type": "code",
   "execution_count": 130,
   "id": "6bea6e77-27b1-4169-8465-90807eeac91d",
   "metadata": {},
   "outputs": [
    {
     "ename": "AttributeError",
     "evalue": "'student' object has no attribute '_student__name'",
     "output_type": "error",
     "traceback": [
      "\u001b[0;31m---------------------------------------------------------------------------\u001b[0m",
      "\u001b[0;31mAttributeError\u001b[0m                            Traceback (most recent call last)",
      "Cell \u001b[0;32mIn[130], line 1\u001b[0m\n\u001b[0;32m----> 1\u001b[0m \u001b[43mst\u001b[49m\u001b[38;5;241;43m.\u001b[39;49m\u001b[43mname_access\u001b[49m\n",
      "Cell \u001b[0;32mIn[125], line 7\u001b[0m, in \u001b[0;36mstudent.name_access\u001b[0;34m(self)\u001b[0m\n\u001b[1;32m      5\u001b[0m \u001b[38;5;129m@property\u001b[39m\n\u001b[1;32m      6\u001b[0m \u001b[38;5;28;01mdef\u001b[39;00m \u001b[38;5;21mname_access\u001b[39m(\u001b[38;5;28mself\u001b[39m):\n\u001b[0;32m----> 7\u001b[0m     \u001b[38;5;28;01mreturn\u001b[39;00m \u001b[38;5;28;43mself\u001b[39;49m\u001b[38;5;241;43m.\u001b[39;49m\u001b[43m__name\u001b[49m\n",
      "\u001b[0;31mAttributeError\u001b[0m: 'student' object has no attribute '_student__name'"
     ]
    }
   ],
   "source": [
    "st.name_access"
   ]
  },
  {
   "cell_type": "code",
   "execution_count": null,
   "id": "0312f9c3-60fc-4a8f-8863-a2b32c3789db",
   "metadata": {},
   "outputs": [],
   "source": []
  }
 ],
 "metadata": {
  "kernelspec": {
   "display_name": "Python 3 (ipykernel)",
   "language": "python",
   "name": "python3"
  },
  "language_info": {
   "codemirror_mode": {
    "name": "ipython",
    "version": 3
   },
   "file_extension": ".py",
   "mimetype": "text/x-python",
   "name": "python",
   "nbconvert_exporter": "python",
   "pygments_lexer": "ipython3",
   "version": "3.10.8"
  }
 },
 "nbformat": 4,
 "nbformat_minor": 5
}
