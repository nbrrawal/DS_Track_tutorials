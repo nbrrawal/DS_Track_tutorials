{
 "cells": [
  {
   "cell_type": "markdown",
   "id": "a4ea497e-761a-4bd9-bd24-ba8ea5ba3371",
   "metadata": {},
   "source": [
    "### Feb -3 -Python assignment "
   ]
  },
  {
   "cell_type": "markdown",
   "id": "95dd71c0-63f8-4ada-b060-377b3f9c73e8",
   "metadata": {},
   "source": [
    "#Q1. Which keyword is used to create a function? Create a function to return a list of odd numbers in the range of 1 to 25.\n",
    "\n"
   ]
  },
  {
   "cell_type": "code",
   "execution_count": 2,
   "id": "20976de2-270f-4f67-a6ef-13a2085d58e1",
   "metadata": {},
   "outputs": [
    {
     "name": "stdout",
     "output_type": "stream",
     "text": [
      "1\n",
      "3\n",
      "5\n",
      "7\n",
      "9\n",
      "11\n",
      "13\n",
      "15\n",
      "17\n",
      "19\n",
      "21\n",
      "23\n",
      "25\n"
     ]
    }
   ],
   "source": [
    "#Answer : def keywork is used to create a function \n",
    "\n",
    "def generate_odd_numbers(): \n",
    "    for i in range(26): \n",
    "        if i % 2 != 0: \n",
    "            print(i)\n",
    "        \n",
    "generate_odd_numbers()"
   ]
  },
  {
   "cell_type": "markdown",
   "id": "70423743-2567-42d5-9bd4-922a689cf524",
   "metadata": {},
   "source": [
    "#Q2. Why *args and **kwargs is used in some functions? Create a function each for *args and **kwargs\n",
    "to demonstrate their use."
   ]
  },
  {
   "cell_type": "code",
   "execution_count": 9,
   "id": "4df764a3-c5cd-424a-8282-fafb67cc604d",
   "metadata": {},
   "outputs": [
    {
     "name": "stdout",
     "output_type": "stream",
     "text": [
      "****************************** args demo  ******************************\n",
      "Total paramters received  3\n",
      "1\n",
      "2\n",
      "3\n",
      "Total paramters received  5\n",
      "1\n",
      "2\n",
      "3\n",
      "4\n",
      "5\n",
      "****************************** kwargs demo  ******************************\n",
      "Total paramters received  2\n",
      "('a', 1)\n",
      "('b', 2)\n",
      "Total paramters received  3\n",
      "('a', 1)\n",
      "('b', 2)\n",
      "('c', 3)\n"
     ]
    }
   ],
   "source": [
    "# *args is used to pass on dynamic set of parameters/inputs  \n",
    "\n",
    "def demo_args(*args):\n",
    "    \"\"\"\n",
    "    this function will print the count of total paramters \n",
    "    \"\"\"\n",
    "    total = 0\n",
    "    print(\"Total paramters received \", len(args))\n",
    "    for i in args:\n",
    "        total = total + i \n",
    "        print(i)\n",
    "\n",
    "print(\"*\"*30,\"args demo \",\"*\"*30) \n",
    "#pass  3 paramters\n",
    "demo_args(1,2,3)\n",
    "#pass   paramters\n",
    "demo_args(1,2,3,4,5)\n",
    "\n",
    "\n",
    "# *args is used to pass on dynamic set of parameters/inputs  \n",
    "\n",
    "def demo_kwargs(**kwargs):\n",
    "    \"\"\"\n",
    "    this function will print the count of total paramters \n",
    "    \"\"\"\n",
    "    total = 0\n",
    "    print(\"Total paramters received \", len(kwargs))\n",
    "    for i in kwargs.items():\n",
    "        print(i)\n",
    "\n",
    "print(\"*\"*30,\"kwargs demo \",\"*\"*30) \n",
    "#pass  3 paramters\n",
    "demo_kwargs(a=1, b=2)\n",
    "#pass   paramters\n",
    "demo_kwargs(a=1, b=2, c=3)\n"
   ]
  },
  {
   "cell_type": "markdown",
   "id": "b10c2c74-8233-40e1-8920-720b969f98eb",
   "metadata": {},
   "source": [
    "#Q3. What is an iterator in python? Name the method used to initialise the iterator object and the method\n",
    "used for iteration. Use these methods to print the first five elements of the given list [2, 4, 6, 8, 10, 12, 14,\n",
    "16, 18, 20]."
   ]
  },
  {
   "cell_type": "code",
   "execution_count": 2,
   "id": "464bcab4-6c53-420c-b1c9-82d813821659",
   "metadata": {},
   "outputs": [
    {
     "name": "stdout",
     "output_type": "stream",
     "text": [
      "2\n",
      "4\n",
      "6\n",
      "8\n",
      "10\n"
     ]
    }
   ],
   "source": [
    "#Answer - itr method is used to initialise iterator object, \n",
    "lst = [2, 4, 6, 8, 10, 12, 14, 16, 18, 20]\n",
    "\n",
    "obj_itr = iter(lst)\n",
    "print(next(obj_itr))\n",
    "print(next(obj_itr))\n",
    "print(next(obj_itr))\n",
    "print(next(obj_itr))\n",
    "print(next(obj_itr))"
   ]
  },
  {
   "cell_type": "markdown",
   "id": "4540fe8f-b84d-489e-b76d-4cc33de01f50",
   "metadata": {},
   "source": [
    "#Q4. What is a generator function in python? Why yield keyword is used? Give an example of a generator\n",
    "function."
   ]
  },
  {
   "cell_type": "code",
   "execution_count": 1,
   "id": "21070d14-5752-4ef8-81d2-69e70020d989",
   "metadata": {},
   "outputs": [
    {
     "name": "stdout",
     "output_type": "stream",
     "text": [
      "1\n",
      "2\n",
      "3\n"
     ]
    }
   ],
   "source": [
    "\n",
    "# A generator function that yields 1 for first time,\n",
    "# 2 second time and 3 third time\n",
    "def simpleGeneratorFun():\n",
    "    yield 1\n",
    "    yield 2\n",
    "    yield 3\n",
    "\n",
    "# Driver code to check above generator function\n",
    "for value in simpleGeneratorFun():\n",
    "    print(value)\n"
   ]
  },
  {
   "cell_type": "markdown",
   "id": "5fe60f26-3b46-4359-9a40-be101a5c12b1",
   "metadata": {},
   "source": [
    "#Q5. Create a generator function for prime numbers less than 1000. Use the next() method to print the\n",
    "first 20 prime numbers."
   ]
  },
  {
   "cell_type": "code",
   "execution_count": 4,
   "id": "d28302d3-9cf4-49c9-8f70-e2b802e0aca2",
   "metadata": {},
   "outputs": [
    {
     "name": "stdout",
     "output_type": "stream",
     "text": [
      "2\n",
      "3\n",
      "5\n",
      "7\n",
      "11\n",
      "13\n",
      "17\n",
      "19\n",
      "23\n",
      "29\n",
      "31\n",
      "37\n",
      "41\n",
      "43\n",
      "47\n",
      "53\n",
      "59\n",
      "61\n",
      "67\n",
      "71\n"
     ]
    }
   ],
   "source": [
    "def fun_prime():\n",
    "    #by default return 2 first and add to the lst \n",
    "    yield 2\n",
    "    primes_list = [2]\n",
    "    #star tfro m 3- 1000 s\n",
    "    n = 3\n",
    "    while n < 1000:\n",
    "        is_prime = True\n",
    "        for pl in primes_list:\n",
    "            if pl * pl > n:\n",
    "                break\n",
    "            if n % pl == 0:\n",
    "                is_prime = False\n",
    "                break\n",
    "        if is_prime:\n",
    "            primes_list.append(n)\n",
    "            yield n\n",
    "        n += 2\n",
    "\n",
    "prime_numbers = fun_prime()\n",
    "for i in range(20):\n",
    "    print(next(prime_numbers))"
   ]
  },
  {
   "cell_type": "code",
   "execution_count": null,
   "id": "400e54a3-6703-4ce3-867f-6e0e83b89660",
   "metadata": {},
   "outputs": [],
   "source": [
    "#Q6. Write a python program to print the first 10 Fibonacci numbers using a while loop."
   ]
  },
  {
   "cell_type": "code",
   "execution_count": 14,
   "id": "1ad44b9f-2464-4385-ba68-64b9f42a8641",
   "metadata": {},
   "outputs": [
    {
     "name": "stdout",
     "output_type": "stream",
     "text": [
      "0\n",
      "1\n",
      "1\n",
      "2\n",
      "3\n",
      "5\n",
      "8\n",
      "13\n",
      "21\n",
      "34\n"
     ]
    }
   ],
   "source": [
    "n = 10 \n",
    "a = 0 \n",
    "b =1 \n",
    "i =1 \n",
    "\n",
    "while(i <= n):\n",
    "    print(a)\n",
    "    a,b = b, a+b \n",
    "    i = i + 1 \n"
   ]
  },
  {
   "cell_type": "markdown",
   "id": "1f2aeb83-0809-4c4d-8ee9-e74f959ce076",
   "metadata": {},
   "source": [
    "#Q7. Write a List Comprehension to iterate through the given string: ‘pwskills’. Expected output: ['p', 'w', 's', 'k', 'i', 'l', 'l', 's']\n"
   ]
  },
  {
   "cell_type": "code",
   "execution_count": 16,
   "id": "920ea5b2-1388-460b-aa77-0d1e1ffdbff6",
   "metadata": {},
   "outputs": [
    {
     "name": "stdout",
     "output_type": "stream",
     "text": [
      "['p', 'w', 's', 'k', 'i', 'l', 'l', 's']\n"
     ]
    }
   ],
   "source": [
    "lst=[]\n",
    "\n",
    "for i in \"pwskills\": \n",
    "    lst.append(i)\n",
    "print(lst)"
   ]
  },
  {
   "cell_type": "markdown",
   "id": "c2eef93f-6f3a-4f1c-b444-a1c3995145ac",
   "metadata": {},
   "source": [
    "#Q8. Write a python program to check whether a given number is Palindrome or not using a while loop."
   ]
  },
  {
   "cell_type": "code",
   "execution_count": 4,
   "id": "cca2a7bd-79f3-4707-b925-712b2069688b",
   "metadata": {},
   "outputs": [
    {
     "name": "stdin",
     "output_type": "stream",
     "text": [
      "please enter the string 444\n"
     ]
    },
    {
     "name": "stdout",
     "output_type": "stream",
     "text": [
      "number is palindrome\n"
     ]
    }
   ],
   "source": [
    "#get input number, convert to string and reverse , check both to find out if its palindrome   \n",
    "number = int(input(\"please enter the string\"))\n",
    "number_str = str(number)\n",
    "number_reverse = number_str[::-1] \n",
    "\n",
    "if number_str == number_reverse:\n",
    "    print(\"number is palindrome\")\n",
    "else:\n",
    "    print(\"number is not a palindrome\")\n"
   ]
  },
  {
   "cell_type": "markdown",
   "id": "ffd7ac7f-a5ab-4326-83e8-2b5fa8b1e420",
   "metadata": {},
   "source": [
    "#Q9. Write a code to print odd numbers from 1 to 100 using list comprehension.\n",
    "Note: Use a list comprehension to create a list from 1 to 100 and use another List comprehension to filter\n",
    "out odd numbers."
   ]
  },
  {
   "cell_type": "code",
   "execution_count": 13,
   "id": "9fa5bc89-269c-425a-bd62-78a4a04896e2",
   "metadata": {},
   "outputs": [
    {
     "data": {
      "text/plain": [
       "[1,\n",
       " 3,\n",
       " 5,\n",
       " 7,\n",
       " 9,\n",
       " 11,\n",
       " 13,\n",
       " 15,\n",
       " 17,\n",
       " 19,\n",
       " 21,\n",
       " 23,\n",
       " 25,\n",
       " 27,\n",
       " 29,\n",
       " 31,\n",
       " 33,\n",
       " 35,\n",
       " 37,\n",
       " 39,\n",
       " 41,\n",
       " 43,\n",
       " 45,\n",
       " 47,\n",
       " 49,\n",
       " 51,\n",
       " 53,\n",
       " 55,\n",
       " 57,\n",
       " 59,\n",
       " 61,\n",
       " 63,\n",
       " 65,\n",
       " 67,\n",
       " 69,\n",
       " 71,\n",
       " 73,\n",
       " 75,\n",
       " 77,\n",
       " 79,\n",
       " 81,\n",
       " 83,\n",
       " 85,\n",
       " 87,\n",
       " 89,\n",
       " 91,\n",
       " 93,\n",
       " 95,\n",
       " 97,\n",
       " 99]"
      ]
     },
     "execution_count": 13,
     "metadata": {},
     "output_type": "execute_result"
    }
   ],
   "source": [
    "#lst_total - full list , lst_odd - lst_odd \n",
    "lst_total = [i for i in range(1,100)]\n",
    "\n",
    "lst_odd = [i for i in lst_total if i %2 ==1 ]\n",
    "lst_odd"
   ]
  },
  {
   "cell_type": "code",
   "execution_count": null,
   "id": "a65caf51-460f-4402-ad29-9f03474ccef3",
   "metadata": {},
   "outputs": [],
   "source": [
    "ist = [i for i in range(11) if i % 2 == 0]"
   ]
  }
 ],
 "metadata": {
  "kernelspec": {
   "display_name": "Python 3 (ipykernel)",
   "language": "python",
   "name": "python3"
  },
  "language_info": {
   "codemirror_mode": {
    "name": "ipython",
    "version": 3
   },
   "file_extension": ".py",
   "mimetype": "text/x-python",
   "name": "python",
   "nbconvert_exporter": "python",
   "pygments_lexer": "ipython3",
   "version": "3.10.8"
  }
 },
 "nbformat": 4,
 "nbformat_minor": 5
}
