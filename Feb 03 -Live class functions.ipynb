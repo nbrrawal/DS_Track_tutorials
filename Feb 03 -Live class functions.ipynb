{
 "cells": [
  {
   "cell_type": "code",
   "execution_count": 1,
   "id": "6d880d7c-c490-469c-ab1f-9d07ac59d852",
   "metadata": {},
   "outputs": [
    {
     "data": {
      "text/plain": [
       "int"
      ]
     },
     "execution_count": 1,
     "metadata": {},
     "output_type": "execute_result"
    }
   ],
   "source": [
    "l = 3\n",
    "type(l)"
   ]
  },
  {
   "cell_type": "code",
   "execution_count": 2,
   "id": "2cc219cd-f99f-403c-b458-123d8c796dd0",
   "metadata": {},
   "outputs": [],
   "source": [
    "def test1():\n",
    "    pass"
   ]
  },
  {
   "cell_type": "code",
   "execution_count": 3,
   "id": "a6ffeb6f-2f6e-4318-a8d6-d0bf944247cd",
   "metadata": {},
   "outputs": [],
   "source": [
    "test1()"
   ]
  },
  {
   "cell_type": "code",
   "execution_count": 4,
   "id": "e05b0f2b-e417-49ec-982d-dba489eee0c2",
   "metadata": {},
   "outputs": [
    {
     "name": "stdout",
     "output_type": "stream",
     "text": [
      "this is demo fn\n"
     ]
    }
   ],
   "source": [
    "def test1():\n",
    "    print(\"this is demo fn\")\n",
    "    \n",
    "test1()"
   ]
  },
  {
   "cell_type": "code",
   "execution_count": 6,
   "id": "d3f1cf16-4349-4e16-ac8d-a351015fd8d9",
   "metadata": {},
   "outputs": [
    {
     "name": "stdout",
     "output_type": "stream",
     "text": [
      "this is demo fn\n"
     ]
    },
    {
     "ename": "TypeError",
     "evalue": "unsupported operand type(s) for +: 'NoneType' and 'str'",
     "output_type": "error",
     "traceback": [
      "\u001b[0;31m---------------------------------------------------------------------------\u001b[0m",
      "\u001b[0;31mTypeError\u001b[0m                                 Traceback (most recent call last)",
      "Cell \u001b[0;32mIn[6], line 1\u001b[0m\n\u001b[0;32m----> 1\u001b[0m \u001b[43mtest1\u001b[49m\u001b[43m(\u001b[49m\u001b[43m)\u001b[49m\u001b[43m \u001b[49m\u001b[38;5;241;43m+\u001b[39;49m\u001b[43m \u001b[49m\u001b[38;5;124;43m\"\u001b[39;49m\u001b[38;5;124;43msudh\u001b[39;49m\u001b[38;5;124;43m\"\u001b[39;49m\n",
      "\u001b[0;31mTypeError\u001b[0m: unsupported operand type(s) for +: 'NoneType' and 'str'"
     ]
    }
   ],
   "source": [
    "test1() + \"sudh\""
   ]
  },
  {
   "cell_type": "code",
   "execution_count": 8,
   "id": "325a4e35-85be-4b03-914f-ec866bc6e6a6",
   "metadata": {},
   "outputs": [
    {
     "data": {
      "text/plain": [
       "'output from fn test'"
      ]
     },
     "execution_count": 8,
     "metadata": {},
     "output_type": "execute_result"
    }
   ],
   "source": [
    "def test1():\n",
    "    return \"output from fn \"\n",
    "\n",
    "test1() + \"test\""
   ]
  },
  {
   "cell_type": "code",
   "execution_count": 9,
   "id": "7ef1de2e-e6ab-4f4c-8dd2-f3695f59402b",
   "metadata": {},
   "outputs": [],
   "source": [
    "def test1():\n",
    "    return \"string\", 123, 444.55, [1,2,3,4,5]\n",
    "\n",
    "a,b,c,d=test1()\n"
   ]
  },
  {
   "cell_type": "code",
   "execution_count": 10,
   "id": "035bbe68-3914-4723-869c-560bec21c4b9",
   "metadata": {},
   "outputs": [
    {
     "data": {
      "text/plain": [
       "('string', 123, 444.55, [1, 2, 3, 4, 5])"
      ]
     },
     "execution_count": 10,
     "metadata": {},
     "output_type": "execute_result"
    }
   ],
   "source": [
    "a,b,c,d"
   ]
  },
  {
   "cell_type": "code",
   "execution_count": 14,
   "id": "8ae00d53-70b4-4a08-963d-a6c0673c5784",
   "metadata": {},
   "outputs": [
    {
     "data": {
      "text/plain": [
       "13.0"
      ]
     },
     "execution_count": 14,
     "metadata": {},
     "output_type": "execute_result"
    }
   ],
   "source": [
    "def test1(a,b,c):\n",
    "    d = a+b/c\n",
    "    return d\n",
    "\n",
    "test1(10,30,10)"
   ]
  },
  {
   "cell_type": "code",
   "execution_count": 16,
   "id": "7b6ab6bb-03df-4686-a8b9-9e1e421313ec",
   "metadata": {},
   "outputs": [
    {
     "data": {
      "text/plain": [
       "8"
      ]
     },
     "execution_count": 16,
     "metadata": {},
     "output_type": "execute_result"
    }
   ],
   "source": [
    "def test(a,b ):\n",
    "    return a + b\n",
    "\n",
    "test(3,5)"
   ]
  },
  {
   "cell_type": "code",
   "execution_count": 18,
   "id": "ae0381c5-49be-46f6-bab6-f7c0cf9527bb",
   "metadata": {},
   "outputs": [
    {
     "data": {
      "text/plain": [
       "'ab'"
      ]
     },
     "execution_count": 18,
     "metadata": {},
     "output_type": "execute_result"
    }
   ],
   "source": [
    "test(\"a\", \"b\")"
   ]
  },
  {
   "cell_type": "code",
   "execution_count": 19,
   "id": "86479c43-6e30-4ebc-a9c9-c83794f5af66",
   "metadata": {},
   "outputs": [
    {
     "data": {
      "text/plain": [
       "[1, 2, 3, 4, 5, 6, 7, 8, 8]"
      ]
     },
     "execution_count": 19,
     "metadata": {},
     "output_type": "execute_result"
    }
   ],
   "source": [
    "test([1,2,3,4,5], [6,7,8,8])"
   ]
  },
  {
   "cell_type": "code",
   "execution_count": 21,
   "id": "04c13d58-da71-468d-88a6-c627e7f215c5",
   "metadata": {},
   "outputs": [],
   "source": [
    "l=[1,2,3,4,5,6,\"apple\", \"bat\",[1,2,3,4]]\n",
    "\n",
    "l1 = []\n",
    "for i in l: \n",
    "    if type(i)==int or type(i)==float: \n",
    "        l1.append(i)"
   ]
  },
  {
   "cell_type": "code",
   "execution_count": 22,
   "id": "fc67568a-fa37-4f0d-92d7-4d9535aecfeb",
   "metadata": {},
   "outputs": [
    {
     "data": {
      "text/plain": [
       "[1, 2, 3, 4, 5, 6]"
      ]
     },
     "execution_count": 22,
     "metadata": {},
     "output_type": "execute_result"
    }
   ],
   "source": [
    "l1"
   ]
  },
  {
   "cell_type": "code",
   "execution_count": 23,
   "id": "4c1d9899-0c35-4788-a7d6-557da0ee8813",
   "metadata": {},
   "outputs": [
    {
     "data": {
      "text/plain": [
       "[1, 2, 3, 4, 5, 6]"
      ]
     },
     "execution_count": 23,
     "metadata": {},
     "output_type": "execute_result"
    }
   ],
   "source": [
    "def test2(l):\n",
    "    l1 = []\n",
    "    for i in l: \n",
    "        if type(i)==int or type(i)==float: \n",
    "            l1.append(i)\n",
    "    return l1\n",
    "\n",
    "test2(l)"
   ]
  },
  {
   "cell_type": "code",
   "execution_count": 27,
   "id": "f639f2cd-2db7-442f-a3ca-1fb3402eba2b",
   "metadata": {},
   "outputs": [
    {
     "data": {
      "text/plain": [
       "[1, 2, 3, 4, 5, 6, 1, 2, 3, 4]"
      ]
     },
     "execution_count": 27,
     "metadata": {},
     "output_type": "execute_result"
    }
   ],
   "source": [
    "def test3(a):\n",
    "    '''\n",
    "        test example \n",
    "    '''\n",
    "    l= []\n",
    "    for i in a:\n",
    "        if type(i)== list: \n",
    "            for j in i:\n",
    "                l.append(j)\n",
    "        else:\n",
    "            if type(i) == int or type(i) == float:\n",
    "                l.append(i)\n",
    "    return l\n",
    "test3(l)\n",
    "                "
   ]
  },
  {
   "cell_type": "code",
   "execution_count": null,
   "id": "d8764db0-1357-4195-9285-fab559898cf4",
   "metadata": {},
   "outputs": [],
   "source": [
    "def test4(a,b):\n",
    "    return a + b\n"
   ]
  },
  {
   "cell_type": "code",
   "execution_count": 29,
   "id": "4035d3b0-eb99-4540-a638-7f01d058463f",
   "metadata": {},
   "outputs": [
    {
     "data": {
      "text/plain": [
       "()"
      ]
     },
     "execution_count": 29,
     "metadata": {},
     "output_type": "execute_result"
    }
   ],
   "source": [
    "def test4(*args):\n",
    "    return args\n",
    "test4()"
   ]
  },
  {
   "cell_type": "code",
   "execution_count": 30,
   "id": "ad3b1cbe-d00c-4197-94bf-c1a947a4a99c",
   "metadata": {},
   "outputs": [
    {
     "data": {
      "text/plain": [
       "(1, 23, 4, 5, 6, 7, 'sdfs', 'sds')"
      ]
     },
     "execution_count": 30,
     "metadata": {},
     "output_type": "execute_result"
    }
   ],
   "source": [
    "test4(1,23,4,5,6,7,\"sdfs\",\"sds\")"
   ]
  },
  {
   "cell_type": "code",
   "execution_count": 32,
   "id": "277d91a4-f789-4275-9cc2-370b84f33061",
   "metadata": {},
   "outputs": [
    {
     "data": {
      "text/plain": [
       "(1, 2, 3, 5)"
      ]
     },
     "execution_count": 32,
     "metadata": {},
     "output_type": "execute_result"
    }
   ],
   "source": [
    "def test5(*myargs):\n",
    "    \n",
    "    return myargs\n",
    "test5(1,2,3,5)"
   ]
  },
  {
   "cell_type": "code",
   "execution_count": 34,
   "id": "576700c1-c4a2-41ec-bb45-b89a6cddc0e3",
   "metadata": {},
   "outputs": [],
   "source": [
    "def test12(*args, a ): \n",
    "    return args, a\n"
   ]
  },
  {
   "cell_type": "code",
   "execution_count": 35,
   "id": "bca6e1e1-6f68-4605-8fc4-dc0cfcaac927",
   "metadata": {},
   "outputs": [
    {
     "data": {
      "text/plain": [
       "((1, 2, 3), 10)"
      ]
     },
     "execution_count": 35,
     "metadata": {},
     "output_type": "execute_result"
    }
   ],
   "source": [
    "test12(1,2,3, a=10)"
   ]
  },
  {
   "cell_type": "code",
   "execution_count": 41,
   "id": "128ac78f-3c1d-4c85-8342-f47d7b245aeb",
   "metadata": {},
   "outputs": [],
   "source": [
    "def test6(a, c,d,r=12,b=10):\n",
    "    return a, b, c, d"
   ]
  },
  {
   "cell_type": "code",
   "execution_count": 43,
   "id": "54198d2e-5702-45ff-96d6-810fdf53a412",
   "metadata": {},
   "outputs": [
    {
     "data": {
      "text/plain": [
       "(10, 10, 10, 1)"
      ]
     },
     "execution_count": 43,
     "metadata": {},
     "output_type": "execute_result"
    }
   ],
   "source": [
    "test6(a=10,c=10,d=1)"
   ]
  },
  {
   "cell_type": "code",
   "execution_count": 44,
   "id": "f8a4fabf-dacb-4a26-ae1c-c367c96b9e84",
   "metadata": {},
   "outputs": [
    {
     "data": {
      "text/plain": [
       "(121, 10, 10, 1)"
      ]
     },
     "execution_count": 44,
     "metadata": {},
     "output_type": "execute_result"
    }
   ],
   "source": [
    "test6(c=10,d=1, a=121)"
   ]
  },
  {
   "cell_type": "code",
   "execution_count": 46,
   "id": "5cd5a64e-cc0f-476c-9029-e7a8d1c8a735",
   "metadata": {},
   "outputs": [
    {
     "data": {
      "text/plain": [
       "{}"
      ]
     },
     "execution_count": 46,
     "metadata": {},
     "output_type": "execute_result"
    }
   ],
   "source": [
    "def test7(**kwargs):\n",
    "    return kwargs\n",
    "\n",
    "test7()"
   ]
  },
  {
   "cell_type": "code",
   "execution_count": 47,
   "id": "d77b665e-cbfa-4168-a0aa-50fa7724b72b",
   "metadata": {},
   "outputs": [
    {
     "data": {
      "text/plain": [
       "dict"
      ]
     },
     "execution_count": 47,
     "metadata": {},
     "output_type": "execute_result"
    }
   ],
   "source": [
    "type(test7())"
   ]
  },
  {
   "cell_type": "code",
   "execution_count": 49,
   "id": "89ee0d4b-82b1-45c1-80cd-8f6cfc791800",
   "metadata": {},
   "outputs": [
    {
     "data": {
      "text/plain": [
       "{'a': 5, 'c': [3, 4, 5]}"
      ]
     },
     "execution_count": 49,
     "metadata": {},
     "output_type": "execute_result"
    }
   ],
   "source": [
    "test7(a=5,c=[3,4,5])"
   ]
  },
  {
   "cell_type": "code",
   "execution_count": null,
   "id": "470eb4a0-4fba-4645-b1d6-492f53f97f51",
   "metadata": {},
   "outputs": [],
   "source": []
  },
  {
   "cell_type": "code",
   "execution_count": null,
   "id": "5adff4a4-42ec-4101-bd69-96f4ebe5d608",
   "metadata": {},
   "outputs": [],
   "source": []
  },
  {
   "cell_type": "code",
   "execution_count": null,
   "id": "79c5dc72-bc32-4225-98fa-c831079ee2ec",
   "metadata": {},
   "outputs": [],
   "source": []
  },
  {
   "cell_type": "code",
   "execution_count": null,
   "id": "e047eee3-7bd3-4361-a8b1-4b77cf37dbd0",
   "metadata": {},
   "outputs": [],
   "source": []
  }
 ],
 "metadata": {
  "kernelspec": {
   "display_name": "Python 3 (ipykernel)",
   "language": "python",
   "name": "python3"
  },
  "language_info": {
   "codemirror_mode": {
    "name": "ipython",
    "version": 3
   },
   "file_extension": ".py",
   "mimetype": "text/x-python",
   "name": "python",
   "nbconvert_exporter": "python",
   "pygments_lexer": "ipython3",
   "version": "3.10.8"
  }
 },
 "nbformat": 4,
 "nbformat_minor": 5
}
